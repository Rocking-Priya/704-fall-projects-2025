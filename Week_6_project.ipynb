{
  "cells": [
    {
      "cell_type": "markdown",
      "metadata": {
        "id": "view-in-github",
        "colab_type": "text"
      },
      "source": [
        "<a href=\"https://colab.research.google.com/github/Rocking-Priya/704-fall-projects-2025/blob/main/Week_6_project.ipynb\" target=\"_parent\"><img src=\"https://colab.research.google.com/assets/colab-badge.svg\" alt=\"Open In Colab\"/></a>"
      ]
    },
    {
      "cell_type": "markdown",
      "metadata": {
        "id": "Md413FzAvFD8"
      },
      "source": [
        "# DX 704 Week 6 Project\n",
        "This project will develop a treatment plan for a fictious illness \"Twizzleflu\".\n",
        "Twizzleflu is a mild illness caused by a virus.\n",
        "The main symptoms are a mild fever, fidgeting, and kicking the blankets off the bed or couch.\n",
        "Mild dehydration has also been reported in more severe cases.\n",
        "These symptoms typically last 1-2 weeks without treatment.\n",
        "Word on the internet says that Twizzleflu can be cured faster by drinking copious orange juice, but this has not been supported by evidence so far.\n",
        "You will be provided with a theoretical model of Twizzleflu modeled as a Markov decision process.\n",
        "Based on the model, you will compute optimal treatment plans to optimize different criteria, and compare patient discomfort with the different plans."
      ]
    },
    {
      "cell_type": "markdown",
      "metadata": {
        "id": "kzyRo9Tw5VcB"
      },
      "source": [
        "The full project description, a template notebook, and raw data are available on GitHub: [Project 6 Materials](https://github.com/bu-cds-dx704/dx704-project-06)."
      ]
    },
    {
      "cell_type": "markdown",
      "metadata": {
        "id": "tGYOZcnP6Vfu"
      },
      "source": [
        "We will model Twizzleflu as a Markov decision process.\n",
        "The model transition probabilities are provided in the file \"twizzleflu-transitions.tsv\" and the expected rewards are in \"twizzleflu-rewards.tsv\".\n",
        "The goal for Twizzleflu is to minimize the expected discomfort of the patient which is expressed as negative rewards in the file."
      ]
    },
    {
      "cell_type": "markdown",
      "metadata": {
        "id": "dlm2sUsades5"
      },
      "source": [
        "## Example Code\n",
        "\n",
        "You may find it helpful to refer to these GitHub repositories of Jupyter notebooks for example code.\n",
        "\n",
        "* https://github.com/bu-cds-omds/dx601-examples\n",
        "* https://github.com/bu-cds-omds/dx602-examples\n",
        "* https://github.com/bu-cds-omds/dx603-examples\n",
        "* https://github.com/bu-cds-omds/dx704-examples\n",
        "\n",
        "Any calculations demonstrated in code examples or videos may be found in these notebooks, and you are allowed to copy this example code in your homework answers."
      ]
    },
    {
      "cell_type": "code",
      "source": [
        "import pandas as pd\n",
        "import numpy as np\n",
        "import matplotlib.pyplot as plt\n",
        "import seaborn as sns\n"
      ],
      "metadata": {
        "id": "vYU6zSoUherJ"
      },
      "execution_count": null,
      "outputs": []
    },
    {
      "cell_type": "code",
      "source": [
        "df_rewards = pd.read_csv(\"twizzleflu-rewards.tsv\", sep=\"\\t\")\n",
        "df_rewards"
      ],
      "metadata": {
        "colab": {
          "base_uri": "https://localhost:8080/",
          "height": 707
        },
        "id": "Njh_sIZ5htAt",
        "outputId": "42fc38ad-c696-4436-cb6a-ede5ff98f477"
      },
      "execution_count": null,
      "outputs": [
        {
          "output_type": "execute_result",
          "data": {
            "text/plain": [
              "        action       state  reward\n",
              "0   do-nothing   exposed-1   0.000\n",
              "1   do-nothing   exposed-2   0.000\n",
              "2   do-nothing   exposed-3   0.000\n",
              "3   do-nothing  symptoms-1  -0.500\n",
              "4   do-nothing  symptoms-2  -1.000\n",
              "5   do-nothing  symptoms-3  -0.500\n",
              "6   do-nothing   recovered   0.000\n",
              "7     drink-oj   exposed-1   0.000\n",
              "8     drink-oj   exposed-2   0.000\n",
              "9     drink-oj   exposed-3   0.000\n",
              "10    drink-oj  symptoms-1  -0.375\n",
              "11    drink-oj  symptoms-2  -0.750\n",
              "12    drink-oj  symptoms-3  -0.375\n",
              "13    drink-oj   recovered   0.000\n",
              "14     sleep-8   exposed-1   0.000\n",
              "15     sleep-8   exposed-2   0.000\n",
              "16     sleep-8   exposed-3   0.000\n",
              "17     sleep-8  symptoms-1  -1.000\n",
              "18     sleep-8  symptoms-2  -2.000\n",
              "19     sleep-8  symptoms-3  -1.000\n",
              "20     sleep-8   recovered   0.000"
            ],
            "text/html": [
              "\n",
              "  <div id=\"df-5870ab15-0789-44c1-a8a6-286461db3c4b\" class=\"colab-df-container\">\n",
              "    <div>\n",
              "<style scoped>\n",
              "    .dataframe tbody tr th:only-of-type {\n",
              "        vertical-align: middle;\n",
              "    }\n",
              "\n",
              "    .dataframe tbody tr th {\n",
              "        vertical-align: top;\n",
              "    }\n",
              "\n",
              "    .dataframe thead th {\n",
              "        text-align: right;\n",
              "    }\n",
              "</style>\n",
              "<table border=\"1\" class=\"dataframe\">\n",
              "  <thead>\n",
              "    <tr style=\"text-align: right;\">\n",
              "      <th></th>\n",
              "      <th>action</th>\n",
              "      <th>state</th>\n",
              "      <th>reward</th>\n",
              "    </tr>\n",
              "  </thead>\n",
              "  <tbody>\n",
              "    <tr>\n",
              "      <th>0</th>\n",
              "      <td>do-nothing</td>\n",
              "      <td>exposed-1</td>\n",
              "      <td>0.000</td>\n",
              "    </tr>\n",
              "    <tr>\n",
              "      <th>1</th>\n",
              "      <td>do-nothing</td>\n",
              "      <td>exposed-2</td>\n",
              "      <td>0.000</td>\n",
              "    </tr>\n",
              "    <tr>\n",
              "      <th>2</th>\n",
              "      <td>do-nothing</td>\n",
              "      <td>exposed-3</td>\n",
              "      <td>0.000</td>\n",
              "    </tr>\n",
              "    <tr>\n",
              "      <th>3</th>\n",
              "      <td>do-nothing</td>\n",
              "      <td>symptoms-1</td>\n",
              "      <td>-0.500</td>\n",
              "    </tr>\n",
              "    <tr>\n",
              "      <th>4</th>\n",
              "      <td>do-nothing</td>\n",
              "      <td>symptoms-2</td>\n",
              "      <td>-1.000</td>\n",
              "    </tr>\n",
              "    <tr>\n",
              "      <th>5</th>\n",
              "      <td>do-nothing</td>\n",
              "      <td>symptoms-3</td>\n",
              "      <td>-0.500</td>\n",
              "    </tr>\n",
              "    <tr>\n",
              "      <th>6</th>\n",
              "      <td>do-nothing</td>\n",
              "      <td>recovered</td>\n",
              "      <td>0.000</td>\n",
              "    </tr>\n",
              "    <tr>\n",
              "      <th>7</th>\n",
              "      <td>drink-oj</td>\n",
              "      <td>exposed-1</td>\n",
              "      <td>0.000</td>\n",
              "    </tr>\n",
              "    <tr>\n",
              "      <th>8</th>\n",
              "      <td>drink-oj</td>\n",
              "      <td>exposed-2</td>\n",
              "      <td>0.000</td>\n",
              "    </tr>\n",
              "    <tr>\n",
              "      <th>9</th>\n",
              "      <td>drink-oj</td>\n",
              "      <td>exposed-3</td>\n",
              "      <td>0.000</td>\n",
              "    </tr>\n",
              "    <tr>\n",
              "      <th>10</th>\n",
              "      <td>drink-oj</td>\n",
              "      <td>symptoms-1</td>\n",
              "      <td>-0.375</td>\n",
              "    </tr>\n",
              "    <tr>\n",
              "      <th>11</th>\n",
              "      <td>drink-oj</td>\n",
              "      <td>symptoms-2</td>\n",
              "      <td>-0.750</td>\n",
              "    </tr>\n",
              "    <tr>\n",
              "      <th>12</th>\n",
              "      <td>drink-oj</td>\n",
              "      <td>symptoms-3</td>\n",
              "      <td>-0.375</td>\n",
              "    </tr>\n",
              "    <tr>\n",
              "      <th>13</th>\n",
              "      <td>drink-oj</td>\n",
              "      <td>recovered</td>\n",
              "      <td>0.000</td>\n",
              "    </tr>\n",
              "    <tr>\n",
              "      <th>14</th>\n",
              "      <td>sleep-8</td>\n",
              "      <td>exposed-1</td>\n",
              "      <td>0.000</td>\n",
              "    </tr>\n",
              "    <tr>\n",
              "      <th>15</th>\n",
              "      <td>sleep-8</td>\n",
              "      <td>exposed-2</td>\n",
              "      <td>0.000</td>\n",
              "    </tr>\n",
              "    <tr>\n",
              "      <th>16</th>\n",
              "      <td>sleep-8</td>\n",
              "      <td>exposed-3</td>\n",
              "      <td>0.000</td>\n",
              "    </tr>\n",
              "    <tr>\n",
              "      <th>17</th>\n",
              "      <td>sleep-8</td>\n",
              "      <td>symptoms-1</td>\n",
              "      <td>-1.000</td>\n",
              "    </tr>\n",
              "    <tr>\n",
              "      <th>18</th>\n",
              "      <td>sleep-8</td>\n",
              "      <td>symptoms-2</td>\n",
              "      <td>-2.000</td>\n",
              "    </tr>\n",
              "    <tr>\n",
              "      <th>19</th>\n",
              "      <td>sleep-8</td>\n",
              "      <td>symptoms-3</td>\n",
              "      <td>-1.000</td>\n",
              "    </tr>\n",
              "    <tr>\n",
              "      <th>20</th>\n",
              "      <td>sleep-8</td>\n",
              "      <td>recovered</td>\n",
              "      <td>0.000</td>\n",
              "    </tr>\n",
              "  </tbody>\n",
              "</table>\n",
              "</div>\n",
              "    <div class=\"colab-df-buttons\">\n",
              "\n",
              "  <div class=\"colab-df-container\">\n",
              "    <button class=\"colab-df-convert\" onclick=\"convertToInteractive('df-5870ab15-0789-44c1-a8a6-286461db3c4b')\"\n",
              "            title=\"Convert this dataframe to an interactive table.\"\n",
              "            style=\"display:none;\">\n",
              "\n",
              "  <svg xmlns=\"http://www.w3.org/2000/svg\" height=\"24px\" viewBox=\"0 -960 960 960\">\n",
              "    <path d=\"M120-120v-720h720v720H120Zm60-500h600v-160H180v160Zm220 220h160v-160H400v160Zm0 220h160v-160H400v160ZM180-400h160v-160H180v160Zm440 0h160v-160H620v160ZM180-180h160v-160H180v160Zm440 0h160v-160H620v160Z\"/>\n",
              "  </svg>\n",
              "    </button>\n",
              "\n",
              "  <style>\n",
              "    .colab-df-container {\n",
              "      display:flex;\n",
              "      gap: 12px;\n",
              "    }\n",
              "\n",
              "    .colab-df-convert {\n",
              "      background-color: #E8F0FE;\n",
              "      border: none;\n",
              "      border-radius: 50%;\n",
              "      cursor: pointer;\n",
              "      display: none;\n",
              "      fill: #1967D2;\n",
              "      height: 32px;\n",
              "      padding: 0 0 0 0;\n",
              "      width: 32px;\n",
              "    }\n",
              "\n",
              "    .colab-df-convert:hover {\n",
              "      background-color: #E2EBFA;\n",
              "      box-shadow: 0px 1px 2px rgba(60, 64, 67, 0.3), 0px 1px 3px 1px rgba(60, 64, 67, 0.15);\n",
              "      fill: #174EA6;\n",
              "    }\n",
              "\n",
              "    .colab-df-buttons div {\n",
              "      margin-bottom: 4px;\n",
              "    }\n",
              "\n",
              "    [theme=dark] .colab-df-convert {\n",
              "      background-color: #3B4455;\n",
              "      fill: #D2E3FC;\n",
              "    }\n",
              "\n",
              "    [theme=dark] .colab-df-convert:hover {\n",
              "      background-color: #434B5C;\n",
              "      box-shadow: 0px 1px 3px 1px rgba(0, 0, 0, 0.15);\n",
              "      filter: drop-shadow(0px 1px 2px rgba(0, 0, 0, 0.3));\n",
              "      fill: #FFFFFF;\n",
              "    }\n",
              "  </style>\n",
              "\n",
              "    <script>\n",
              "      const buttonEl =\n",
              "        document.querySelector('#df-5870ab15-0789-44c1-a8a6-286461db3c4b button.colab-df-convert');\n",
              "      buttonEl.style.display =\n",
              "        google.colab.kernel.accessAllowed ? 'block' : 'none';\n",
              "\n",
              "      async function convertToInteractive(key) {\n",
              "        const element = document.querySelector('#df-5870ab15-0789-44c1-a8a6-286461db3c4b');\n",
              "        const dataTable =\n",
              "          await google.colab.kernel.invokeFunction('convertToInteractive',\n",
              "                                                    [key], {});\n",
              "        if (!dataTable) return;\n",
              "\n",
              "        const docLinkHtml = 'Like what you see? Visit the ' +\n",
              "          '<a target=\"_blank\" href=https://colab.research.google.com/notebooks/data_table.ipynb>data table notebook</a>'\n",
              "          + ' to learn more about interactive tables.';\n",
              "        element.innerHTML = '';\n",
              "        dataTable['output_type'] = 'display_data';\n",
              "        await google.colab.output.renderOutput(dataTable, element);\n",
              "        const docLink = document.createElement('div');\n",
              "        docLink.innerHTML = docLinkHtml;\n",
              "        element.appendChild(docLink);\n",
              "      }\n",
              "    </script>\n",
              "  </div>\n",
              "\n",
              "\n",
              "    <div id=\"df-0cdcd51e-d672-475e-950e-4335cf91fbcf\">\n",
              "      <button class=\"colab-df-quickchart\" onclick=\"quickchart('df-0cdcd51e-d672-475e-950e-4335cf91fbcf')\"\n",
              "                title=\"Suggest charts\"\n",
              "                style=\"display:none;\">\n",
              "\n",
              "<svg xmlns=\"http://www.w3.org/2000/svg\" height=\"24px\"viewBox=\"0 0 24 24\"\n",
              "     width=\"24px\">\n",
              "    <g>\n",
              "        <path d=\"M19 3H5c-1.1 0-2 .9-2 2v14c0 1.1.9 2 2 2h14c1.1 0 2-.9 2-2V5c0-1.1-.9-2-2-2zM9 17H7v-7h2v7zm4 0h-2V7h2v10zm4 0h-2v-4h2v4z\"/>\n",
              "    </g>\n",
              "</svg>\n",
              "      </button>\n",
              "\n",
              "<style>\n",
              "  .colab-df-quickchart {\n",
              "      --bg-color: #E8F0FE;\n",
              "      --fill-color: #1967D2;\n",
              "      --hover-bg-color: #E2EBFA;\n",
              "      --hover-fill-color: #174EA6;\n",
              "      --disabled-fill-color: #AAA;\n",
              "      --disabled-bg-color: #DDD;\n",
              "  }\n",
              "\n",
              "  [theme=dark] .colab-df-quickchart {\n",
              "      --bg-color: #3B4455;\n",
              "      --fill-color: #D2E3FC;\n",
              "      --hover-bg-color: #434B5C;\n",
              "      --hover-fill-color: #FFFFFF;\n",
              "      --disabled-bg-color: #3B4455;\n",
              "      --disabled-fill-color: #666;\n",
              "  }\n",
              "\n",
              "  .colab-df-quickchart {\n",
              "    background-color: var(--bg-color);\n",
              "    border: none;\n",
              "    border-radius: 50%;\n",
              "    cursor: pointer;\n",
              "    display: none;\n",
              "    fill: var(--fill-color);\n",
              "    height: 32px;\n",
              "    padding: 0;\n",
              "    width: 32px;\n",
              "  }\n",
              "\n",
              "  .colab-df-quickchart:hover {\n",
              "    background-color: var(--hover-bg-color);\n",
              "    box-shadow: 0 1px 2px rgba(60, 64, 67, 0.3), 0 1px 3px 1px rgba(60, 64, 67, 0.15);\n",
              "    fill: var(--button-hover-fill-color);\n",
              "  }\n",
              "\n",
              "  .colab-df-quickchart-complete:disabled,\n",
              "  .colab-df-quickchart-complete:disabled:hover {\n",
              "    background-color: var(--disabled-bg-color);\n",
              "    fill: var(--disabled-fill-color);\n",
              "    box-shadow: none;\n",
              "  }\n",
              "\n",
              "  .colab-df-spinner {\n",
              "    border: 2px solid var(--fill-color);\n",
              "    border-color: transparent;\n",
              "    border-bottom-color: var(--fill-color);\n",
              "    animation:\n",
              "      spin 1s steps(1) infinite;\n",
              "  }\n",
              "\n",
              "  @keyframes spin {\n",
              "    0% {\n",
              "      border-color: transparent;\n",
              "      border-bottom-color: var(--fill-color);\n",
              "      border-left-color: var(--fill-color);\n",
              "    }\n",
              "    20% {\n",
              "      border-color: transparent;\n",
              "      border-left-color: var(--fill-color);\n",
              "      border-top-color: var(--fill-color);\n",
              "    }\n",
              "    30% {\n",
              "      border-color: transparent;\n",
              "      border-left-color: var(--fill-color);\n",
              "      border-top-color: var(--fill-color);\n",
              "      border-right-color: var(--fill-color);\n",
              "    }\n",
              "    40% {\n",
              "      border-color: transparent;\n",
              "      border-right-color: var(--fill-color);\n",
              "      border-top-color: var(--fill-color);\n",
              "    }\n",
              "    60% {\n",
              "      border-color: transparent;\n",
              "      border-right-color: var(--fill-color);\n",
              "    }\n",
              "    80% {\n",
              "      border-color: transparent;\n",
              "      border-right-color: var(--fill-color);\n",
              "      border-bottom-color: var(--fill-color);\n",
              "    }\n",
              "    90% {\n",
              "      border-color: transparent;\n",
              "      border-bottom-color: var(--fill-color);\n",
              "    }\n",
              "  }\n",
              "</style>\n",
              "\n",
              "      <script>\n",
              "        async function quickchart(key) {\n",
              "          const quickchartButtonEl =\n",
              "            document.querySelector('#' + key + ' button');\n",
              "          quickchartButtonEl.disabled = true;  // To prevent multiple clicks.\n",
              "          quickchartButtonEl.classList.add('colab-df-spinner');\n",
              "          try {\n",
              "            const charts = await google.colab.kernel.invokeFunction(\n",
              "                'suggestCharts', [key], {});\n",
              "          } catch (error) {\n",
              "            console.error('Error during call to suggestCharts:', error);\n",
              "          }\n",
              "          quickchartButtonEl.classList.remove('colab-df-spinner');\n",
              "          quickchartButtonEl.classList.add('colab-df-quickchart-complete');\n",
              "        }\n",
              "        (() => {\n",
              "          let quickchartButtonEl =\n",
              "            document.querySelector('#df-0cdcd51e-d672-475e-950e-4335cf91fbcf button');\n",
              "          quickchartButtonEl.style.display =\n",
              "            google.colab.kernel.accessAllowed ? 'block' : 'none';\n",
              "        })();\n",
              "      </script>\n",
              "    </div>\n",
              "\n",
              "  <div id=\"id_ba4558ef-f1bd-4fce-9b25-e303b9812bf4\">\n",
              "    <style>\n",
              "      .colab-df-generate {\n",
              "        background-color: #E8F0FE;\n",
              "        border: none;\n",
              "        border-radius: 50%;\n",
              "        cursor: pointer;\n",
              "        display: none;\n",
              "        fill: #1967D2;\n",
              "        height: 32px;\n",
              "        padding: 0 0 0 0;\n",
              "        width: 32px;\n",
              "      }\n",
              "\n",
              "      .colab-df-generate:hover {\n",
              "        background-color: #E2EBFA;\n",
              "        box-shadow: 0px 1px 2px rgba(60, 64, 67, 0.3), 0px 1px 3px 1px rgba(60, 64, 67, 0.15);\n",
              "        fill: #174EA6;\n",
              "      }\n",
              "\n",
              "      [theme=dark] .colab-df-generate {\n",
              "        background-color: #3B4455;\n",
              "        fill: #D2E3FC;\n",
              "      }\n",
              "\n",
              "      [theme=dark] .colab-df-generate:hover {\n",
              "        background-color: #434B5C;\n",
              "        box-shadow: 0px 1px 3px 1px rgba(0, 0, 0, 0.15);\n",
              "        filter: drop-shadow(0px 1px 2px rgba(0, 0, 0, 0.3));\n",
              "        fill: #FFFFFF;\n",
              "      }\n",
              "    </style>\n",
              "    <button class=\"colab-df-generate\" onclick=\"generateWithVariable('df_rewards')\"\n",
              "            title=\"Generate code using this dataframe.\"\n",
              "            style=\"display:none;\">\n",
              "\n",
              "  <svg xmlns=\"http://www.w3.org/2000/svg\" height=\"24px\"viewBox=\"0 0 24 24\"\n",
              "       width=\"24px\">\n",
              "    <path d=\"M7,19H8.4L18.45,9,17,7.55,7,17.6ZM5,21V16.75L18.45,3.32a2,2,0,0,1,2.83,0l1.4,1.43a1.91,1.91,0,0,1,.58,1.4,1.91,1.91,0,0,1-.58,1.4L9.25,21ZM18.45,9,17,7.55Zm-12,3A5.31,5.31,0,0,0,4.9,8.1,5.31,5.31,0,0,0,1,6.5,5.31,5.31,0,0,0,4.9,4.9,5.31,5.31,0,0,0,6.5,1,5.31,5.31,0,0,0,8.1,4.9,5.31,5.31,0,0,0,12,6.5,5.46,5.46,0,0,0,6.5,12Z\"/>\n",
              "  </svg>\n",
              "    </button>\n",
              "    <script>\n",
              "      (() => {\n",
              "      const buttonEl =\n",
              "        document.querySelector('#id_ba4558ef-f1bd-4fce-9b25-e303b9812bf4 button.colab-df-generate');\n",
              "      buttonEl.style.display =\n",
              "        google.colab.kernel.accessAllowed ? 'block' : 'none';\n",
              "\n",
              "      buttonEl.onclick = () => {\n",
              "        google.colab.notebook.generateWithVariable('df_rewards');\n",
              "      }\n",
              "      })();\n",
              "    </script>\n",
              "  </div>\n",
              "\n",
              "    </div>\n",
              "  </div>\n"
            ],
            "application/vnd.google.colaboratory.intrinsic+json": {
              "type": "dataframe",
              "variable_name": "df_rewards",
              "summary": "{\n  \"name\": \"df_rewards\",\n  \"rows\": 21,\n  \"fields\": [\n    {\n      \"column\": \"action\",\n      \"properties\": {\n        \"dtype\": \"category\",\n        \"num_unique_values\": 3,\n        \"samples\": [\n          \"do-nothing\",\n          \"drink-oj\",\n          \"sleep-8\"\n        ],\n        \"semantic_type\": \"\",\n        \"description\": \"\"\n      }\n    },\n    {\n      \"column\": \"state\",\n      \"properties\": {\n        \"dtype\": \"category\",\n        \"num_unique_values\": 7,\n        \"samples\": [\n          \"exposed-1\",\n          \"exposed-2\",\n          \"symptoms-3\"\n        ],\n        \"semantic_type\": \"\",\n        \"description\": \"\"\n      }\n    },\n    {\n      \"column\": \"reward\",\n      \"properties\": {\n        \"dtype\": \"number\",\n        \"std\": 0.5322207517294197,\n        \"min\": -2.0,\n        \"max\": 0.0,\n        \"num_unique_values\": 6,\n        \"samples\": [\n          0.0,\n          -0.5,\n          -2.0\n        ],\n        \"semantic_type\": \"\",\n        \"description\": \"\"\n      }\n    }\n  ]\n}"
            }
          },
          "metadata": {},
          "execution_count": 3
        }
      ]
    },
    {
      "cell_type": "code",
      "source": [
        "df_transitions = pd.read_csv(\"twizzleflu-transitions.tsv\", sep=\"\\t\")\n",
        "df_transitions"
      ],
      "metadata": {
        "colab": {
          "base_uri": "https://localhost:8080/",
          "height": 1000
        },
        "id": "xP2a9bhuh1Rz",
        "outputId": "7ff4dc6b-641c-4cbe-bf92-c8d69b02aa5b"
      },
      "execution_count": null,
      "outputs": [
        {
          "output_type": "execute_result",
          "data": {
            "text/plain": [
              "        action       state  next_state  probability\n",
              "0   do-nothing   exposed-1   exposed-2         0.80\n",
              "1   do-nothing   exposed-1   recovered         0.20\n",
              "2   do-nothing   exposed-2   exposed-3         0.80\n",
              "3   do-nothing   exposed-2   recovered         0.20\n",
              "4   do-nothing   exposed-3  symptoms-1         0.80\n",
              "5   do-nothing   exposed-3   recovered         0.20\n",
              "6   do-nothing  symptoms-1  symptoms-1         0.70\n",
              "7   do-nothing  symptoms-1  symptoms-2         0.30\n",
              "8   do-nothing  symptoms-2  symptoms-2         0.70\n",
              "9   do-nothing  symptoms-2  symptoms-3         0.30\n",
              "10  do-nothing  symptoms-3  symptoms-3         0.70\n",
              "11  do-nothing  symptoms-3   recovered         0.30\n",
              "12  do-nothing   recovered   recovered         1.00\n",
              "13    drink-oj   exposed-1   exposed-2         0.80\n",
              "14    drink-oj   exposed-1   recovered         0.20\n",
              "15    drink-oj   exposed-2   exposed-3         0.80\n",
              "16    drink-oj   exposed-2   recovered         0.20\n",
              "17    drink-oj   exposed-3  symptoms-1         0.80\n",
              "18    drink-oj   exposed-3   recovered         0.20\n",
              "19    drink-oj  symptoms-1  symptoms-1         0.75\n",
              "20    drink-oj  symptoms-1  symptoms-2         0.25\n",
              "21    drink-oj  symptoms-2  symptoms-2         0.75\n",
              "22    drink-oj  symptoms-2  symptoms-3         0.25\n",
              "23    drink-oj  symptoms-3  symptoms-3         0.75\n",
              "24    drink-oj  symptoms-3   recovered         0.25\n",
              "25    drink-oj   recovered   recovered         1.00\n",
              "26     sleep-8   exposed-1   exposed-2         0.50\n",
              "27     sleep-8   exposed-1   recovered         0.50\n",
              "28     sleep-8   exposed-2   exposed-3         0.50\n",
              "29     sleep-8   exposed-2   recovered         0.50\n",
              "30     sleep-8   exposed-3  symptoms-1         0.50\n",
              "31     sleep-8   exposed-3   recovered         0.50\n",
              "32     sleep-8  symptoms-1  symptoms-1         0.80\n",
              "33     sleep-8  symptoms-1  symptoms-2         0.20\n",
              "34     sleep-8  symptoms-2  symptoms-2         0.80\n",
              "35     sleep-8  symptoms-2  symptoms-3         0.20\n",
              "36     sleep-8  symptoms-3  symptoms-3         0.80\n",
              "37     sleep-8  symptoms-3   recovered         0.20\n",
              "38     sleep-8   recovered   recovered         1.00"
            ],
            "text/html": [
              "\n",
              "  <div id=\"df-20cd5613-ef70-48c8-9a68-9cae8c17718b\" class=\"colab-df-container\">\n",
              "    <div>\n",
              "<style scoped>\n",
              "    .dataframe tbody tr th:only-of-type {\n",
              "        vertical-align: middle;\n",
              "    }\n",
              "\n",
              "    .dataframe tbody tr th {\n",
              "        vertical-align: top;\n",
              "    }\n",
              "\n",
              "    .dataframe thead th {\n",
              "        text-align: right;\n",
              "    }\n",
              "</style>\n",
              "<table border=\"1\" class=\"dataframe\">\n",
              "  <thead>\n",
              "    <tr style=\"text-align: right;\">\n",
              "      <th></th>\n",
              "      <th>action</th>\n",
              "      <th>state</th>\n",
              "      <th>next_state</th>\n",
              "      <th>probability</th>\n",
              "    </tr>\n",
              "  </thead>\n",
              "  <tbody>\n",
              "    <tr>\n",
              "      <th>0</th>\n",
              "      <td>do-nothing</td>\n",
              "      <td>exposed-1</td>\n",
              "      <td>exposed-2</td>\n",
              "      <td>0.80</td>\n",
              "    </tr>\n",
              "    <tr>\n",
              "      <th>1</th>\n",
              "      <td>do-nothing</td>\n",
              "      <td>exposed-1</td>\n",
              "      <td>recovered</td>\n",
              "      <td>0.20</td>\n",
              "    </tr>\n",
              "    <tr>\n",
              "      <th>2</th>\n",
              "      <td>do-nothing</td>\n",
              "      <td>exposed-2</td>\n",
              "      <td>exposed-3</td>\n",
              "      <td>0.80</td>\n",
              "    </tr>\n",
              "    <tr>\n",
              "      <th>3</th>\n",
              "      <td>do-nothing</td>\n",
              "      <td>exposed-2</td>\n",
              "      <td>recovered</td>\n",
              "      <td>0.20</td>\n",
              "    </tr>\n",
              "    <tr>\n",
              "      <th>4</th>\n",
              "      <td>do-nothing</td>\n",
              "      <td>exposed-3</td>\n",
              "      <td>symptoms-1</td>\n",
              "      <td>0.80</td>\n",
              "    </tr>\n",
              "    <tr>\n",
              "      <th>5</th>\n",
              "      <td>do-nothing</td>\n",
              "      <td>exposed-3</td>\n",
              "      <td>recovered</td>\n",
              "      <td>0.20</td>\n",
              "    </tr>\n",
              "    <tr>\n",
              "      <th>6</th>\n",
              "      <td>do-nothing</td>\n",
              "      <td>symptoms-1</td>\n",
              "      <td>symptoms-1</td>\n",
              "      <td>0.70</td>\n",
              "    </tr>\n",
              "    <tr>\n",
              "      <th>7</th>\n",
              "      <td>do-nothing</td>\n",
              "      <td>symptoms-1</td>\n",
              "      <td>symptoms-2</td>\n",
              "      <td>0.30</td>\n",
              "    </tr>\n",
              "    <tr>\n",
              "      <th>8</th>\n",
              "      <td>do-nothing</td>\n",
              "      <td>symptoms-2</td>\n",
              "      <td>symptoms-2</td>\n",
              "      <td>0.70</td>\n",
              "    </tr>\n",
              "    <tr>\n",
              "      <th>9</th>\n",
              "      <td>do-nothing</td>\n",
              "      <td>symptoms-2</td>\n",
              "      <td>symptoms-3</td>\n",
              "      <td>0.30</td>\n",
              "    </tr>\n",
              "    <tr>\n",
              "      <th>10</th>\n",
              "      <td>do-nothing</td>\n",
              "      <td>symptoms-3</td>\n",
              "      <td>symptoms-3</td>\n",
              "      <td>0.70</td>\n",
              "    </tr>\n",
              "    <tr>\n",
              "      <th>11</th>\n",
              "      <td>do-nothing</td>\n",
              "      <td>symptoms-3</td>\n",
              "      <td>recovered</td>\n",
              "      <td>0.30</td>\n",
              "    </tr>\n",
              "    <tr>\n",
              "      <th>12</th>\n",
              "      <td>do-nothing</td>\n",
              "      <td>recovered</td>\n",
              "      <td>recovered</td>\n",
              "      <td>1.00</td>\n",
              "    </tr>\n",
              "    <tr>\n",
              "      <th>13</th>\n",
              "      <td>drink-oj</td>\n",
              "      <td>exposed-1</td>\n",
              "      <td>exposed-2</td>\n",
              "      <td>0.80</td>\n",
              "    </tr>\n",
              "    <tr>\n",
              "      <th>14</th>\n",
              "      <td>drink-oj</td>\n",
              "      <td>exposed-1</td>\n",
              "      <td>recovered</td>\n",
              "      <td>0.20</td>\n",
              "    </tr>\n",
              "    <tr>\n",
              "      <th>15</th>\n",
              "      <td>drink-oj</td>\n",
              "      <td>exposed-2</td>\n",
              "      <td>exposed-3</td>\n",
              "      <td>0.80</td>\n",
              "    </tr>\n",
              "    <tr>\n",
              "      <th>16</th>\n",
              "      <td>drink-oj</td>\n",
              "      <td>exposed-2</td>\n",
              "      <td>recovered</td>\n",
              "      <td>0.20</td>\n",
              "    </tr>\n",
              "    <tr>\n",
              "      <th>17</th>\n",
              "      <td>drink-oj</td>\n",
              "      <td>exposed-3</td>\n",
              "      <td>symptoms-1</td>\n",
              "      <td>0.80</td>\n",
              "    </tr>\n",
              "    <tr>\n",
              "      <th>18</th>\n",
              "      <td>drink-oj</td>\n",
              "      <td>exposed-3</td>\n",
              "      <td>recovered</td>\n",
              "      <td>0.20</td>\n",
              "    </tr>\n",
              "    <tr>\n",
              "      <th>19</th>\n",
              "      <td>drink-oj</td>\n",
              "      <td>symptoms-1</td>\n",
              "      <td>symptoms-1</td>\n",
              "      <td>0.75</td>\n",
              "    </tr>\n",
              "    <tr>\n",
              "      <th>20</th>\n",
              "      <td>drink-oj</td>\n",
              "      <td>symptoms-1</td>\n",
              "      <td>symptoms-2</td>\n",
              "      <td>0.25</td>\n",
              "    </tr>\n",
              "    <tr>\n",
              "      <th>21</th>\n",
              "      <td>drink-oj</td>\n",
              "      <td>symptoms-2</td>\n",
              "      <td>symptoms-2</td>\n",
              "      <td>0.75</td>\n",
              "    </tr>\n",
              "    <tr>\n",
              "      <th>22</th>\n",
              "      <td>drink-oj</td>\n",
              "      <td>symptoms-2</td>\n",
              "      <td>symptoms-3</td>\n",
              "      <td>0.25</td>\n",
              "    </tr>\n",
              "    <tr>\n",
              "      <th>23</th>\n",
              "      <td>drink-oj</td>\n",
              "      <td>symptoms-3</td>\n",
              "      <td>symptoms-3</td>\n",
              "      <td>0.75</td>\n",
              "    </tr>\n",
              "    <tr>\n",
              "      <th>24</th>\n",
              "      <td>drink-oj</td>\n",
              "      <td>symptoms-3</td>\n",
              "      <td>recovered</td>\n",
              "      <td>0.25</td>\n",
              "    </tr>\n",
              "    <tr>\n",
              "      <th>25</th>\n",
              "      <td>drink-oj</td>\n",
              "      <td>recovered</td>\n",
              "      <td>recovered</td>\n",
              "      <td>1.00</td>\n",
              "    </tr>\n",
              "    <tr>\n",
              "      <th>26</th>\n",
              "      <td>sleep-8</td>\n",
              "      <td>exposed-1</td>\n",
              "      <td>exposed-2</td>\n",
              "      <td>0.50</td>\n",
              "    </tr>\n",
              "    <tr>\n",
              "      <th>27</th>\n",
              "      <td>sleep-8</td>\n",
              "      <td>exposed-1</td>\n",
              "      <td>recovered</td>\n",
              "      <td>0.50</td>\n",
              "    </tr>\n",
              "    <tr>\n",
              "      <th>28</th>\n",
              "      <td>sleep-8</td>\n",
              "      <td>exposed-2</td>\n",
              "      <td>exposed-3</td>\n",
              "      <td>0.50</td>\n",
              "    </tr>\n",
              "    <tr>\n",
              "      <th>29</th>\n",
              "      <td>sleep-8</td>\n",
              "      <td>exposed-2</td>\n",
              "      <td>recovered</td>\n",
              "      <td>0.50</td>\n",
              "    </tr>\n",
              "    <tr>\n",
              "      <th>30</th>\n",
              "      <td>sleep-8</td>\n",
              "      <td>exposed-3</td>\n",
              "      <td>symptoms-1</td>\n",
              "      <td>0.50</td>\n",
              "    </tr>\n",
              "    <tr>\n",
              "      <th>31</th>\n",
              "      <td>sleep-8</td>\n",
              "      <td>exposed-3</td>\n",
              "      <td>recovered</td>\n",
              "      <td>0.50</td>\n",
              "    </tr>\n",
              "    <tr>\n",
              "      <th>32</th>\n",
              "      <td>sleep-8</td>\n",
              "      <td>symptoms-1</td>\n",
              "      <td>symptoms-1</td>\n",
              "      <td>0.80</td>\n",
              "    </tr>\n",
              "    <tr>\n",
              "      <th>33</th>\n",
              "      <td>sleep-8</td>\n",
              "      <td>symptoms-1</td>\n",
              "      <td>symptoms-2</td>\n",
              "      <td>0.20</td>\n",
              "    </tr>\n",
              "    <tr>\n",
              "      <th>34</th>\n",
              "      <td>sleep-8</td>\n",
              "      <td>symptoms-2</td>\n",
              "      <td>symptoms-2</td>\n",
              "      <td>0.80</td>\n",
              "    </tr>\n",
              "    <tr>\n",
              "      <th>35</th>\n",
              "      <td>sleep-8</td>\n",
              "      <td>symptoms-2</td>\n",
              "      <td>symptoms-3</td>\n",
              "      <td>0.20</td>\n",
              "    </tr>\n",
              "    <tr>\n",
              "      <th>36</th>\n",
              "      <td>sleep-8</td>\n",
              "      <td>symptoms-3</td>\n",
              "      <td>symptoms-3</td>\n",
              "      <td>0.80</td>\n",
              "    </tr>\n",
              "    <tr>\n",
              "      <th>37</th>\n",
              "      <td>sleep-8</td>\n",
              "      <td>symptoms-3</td>\n",
              "      <td>recovered</td>\n",
              "      <td>0.20</td>\n",
              "    </tr>\n",
              "    <tr>\n",
              "      <th>38</th>\n",
              "      <td>sleep-8</td>\n",
              "      <td>recovered</td>\n",
              "      <td>recovered</td>\n",
              "      <td>1.00</td>\n",
              "    </tr>\n",
              "  </tbody>\n",
              "</table>\n",
              "</div>\n",
              "    <div class=\"colab-df-buttons\">\n",
              "\n",
              "  <div class=\"colab-df-container\">\n",
              "    <button class=\"colab-df-convert\" onclick=\"convertToInteractive('df-20cd5613-ef70-48c8-9a68-9cae8c17718b')\"\n",
              "            title=\"Convert this dataframe to an interactive table.\"\n",
              "            style=\"display:none;\">\n",
              "\n",
              "  <svg xmlns=\"http://www.w3.org/2000/svg\" height=\"24px\" viewBox=\"0 -960 960 960\">\n",
              "    <path d=\"M120-120v-720h720v720H120Zm60-500h600v-160H180v160Zm220 220h160v-160H400v160Zm0 220h160v-160H400v160ZM180-400h160v-160H180v160Zm440 0h160v-160H620v160ZM180-180h160v-160H180v160Zm440 0h160v-160H620v160Z\"/>\n",
              "  </svg>\n",
              "    </button>\n",
              "\n",
              "  <style>\n",
              "    .colab-df-container {\n",
              "      display:flex;\n",
              "      gap: 12px;\n",
              "    }\n",
              "\n",
              "    .colab-df-convert {\n",
              "      background-color: #E8F0FE;\n",
              "      border: none;\n",
              "      border-radius: 50%;\n",
              "      cursor: pointer;\n",
              "      display: none;\n",
              "      fill: #1967D2;\n",
              "      height: 32px;\n",
              "      padding: 0 0 0 0;\n",
              "      width: 32px;\n",
              "    }\n",
              "\n",
              "    .colab-df-convert:hover {\n",
              "      background-color: #E2EBFA;\n",
              "      box-shadow: 0px 1px 2px rgba(60, 64, 67, 0.3), 0px 1px 3px 1px rgba(60, 64, 67, 0.15);\n",
              "      fill: #174EA6;\n",
              "    }\n",
              "\n",
              "    .colab-df-buttons div {\n",
              "      margin-bottom: 4px;\n",
              "    }\n",
              "\n",
              "    [theme=dark] .colab-df-convert {\n",
              "      background-color: #3B4455;\n",
              "      fill: #D2E3FC;\n",
              "    }\n",
              "\n",
              "    [theme=dark] .colab-df-convert:hover {\n",
              "      background-color: #434B5C;\n",
              "      box-shadow: 0px 1px 3px 1px rgba(0, 0, 0, 0.15);\n",
              "      filter: drop-shadow(0px 1px 2px rgba(0, 0, 0, 0.3));\n",
              "      fill: #FFFFFF;\n",
              "    }\n",
              "  </style>\n",
              "\n",
              "    <script>\n",
              "      const buttonEl =\n",
              "        document.querySelector('#df-20cd5613-ef70-48c8-9a68-9cae8c17718b button.colab-df-convert');\n",
              "      buttonEl.style.display =\n",
              "        google.colab.kernel.accessAllowed ? 'block' : 'none';\n",
              "\n",
              "      async function convertToInteractive(key) {\n",
              "        const element = document.querySelector('#df-20cd5613-ef70-48c8-9a68-9cae8c17718b');\n",
              "        const dataTable =\n",
              "          await google.colab.kernel.invokeFunction('convertToInteractive',\n",
              "                                                    [key], {});\n",
              "        if (!dataTable) return;\n",
              "\n",
              "        const docLinkHtml = 'Like what you see? Visit the ' +\n",
              "          '<a target=\"_blank\" href=https://colab.research.google.com/notebooks/data_table.ipynb>data table notebook</a>'\n",
              "          + ' to learn more about interactive tables.';\n",
              "        element.innerHTML = '';\n",
              "        dataTable['output_type'] = 'display_data';\n",
              "        await google.colab.output.renderOutput(dataTable, element);\n",
              "        const docLink = document.createElement('div');\n",
              "        docLink.innerHTML = docLinkHtml;\n",
              "        element.appendChild(docLink);\n",
              "      }\n",
              "    </script>\n",
              "  </div>\n",
              "\n",
              "\n",
              "    <div id=\"df-f19eb09a-9729-42c3-b38c-512fc076bc14\">\n",
              "      <button class=\"colab-df-quickchart\" onclick=\"quickchart('df-f19eb09a-9729-42c3-b38c-512fc076bc14')\"\n",
              "                title=\"Suggest charts\"\n",
              "                style=\"display:none;\">\n",
              "\n",
              "<svg xmlns=\"http://www.w3.org/2000/svg\" height=\"24px\"viewBox=\"0 0 24 24\"\n",
              "     width=\"24px\">\n",
              "    <g>\n",
              "        <path d=\"M19 3H5c-1.1 0-2 .9-2 2v14c0 1.1.9 2 2 2h14c1.1 0 2-.9 2-2V5c0-1.1-.9-2-2-2zM9 17H7v-7h2v7zm4 0h-2V7h2v10zm4 0h-2v-4h2v4z\"/>\n",
              "    </g>\n",
              "</svg>\n",
              "      </button>\n",
              "\n",
              "<style>\n",
              "  .colab-df-quickchart {\n",
              "      --bg-color: #E8F0FE;\n",
              "      --fill-color: #1967D2;\n",
              "      --hover-bg-color: #E2EBFA;\n",
              "      --hover-fill-color: #174EA6;\n",
              "      --disabled-fill-color: #AAA;\n",
              "      --disabled-bg-color: #DDD;\n",
              "  }\n",
              "\n",
              "  [theme=dark] .colab-df-quickchart {\n",
              "      --bg-color: #3B4455;\n",
              "      --fill-color: #D2E3FC;\n",
              "      --hover-bg-color: #434B5C;\n",
              "      --hover-fill-color: #FFFFFF;\n",
              "      --disabled-bg-color: #3B4455;\n",
              "      --disabled-fill-color: #666;\n",
              "  }\n",
              "\n",
              "  .colab-df-quickchart {\n",
              "    background-color: var(--bg-color);\n",
              "    border: none;\n",
              "    border-radius: 50%;\n",
              "    cursor: pointer;\n",
              "    display: none;\n",
              "    fill: var(--fill-color);\n",
              "    height: 32px;\n",
              "    padding: 0;\n",
              "    width: 32px;\n",
              "  }\n",
              "\n",
              "  .colab-df-quickchart:hover {\n",
              "    background-color: var(--hover-bg-color);\n",
              "    box-shadow: 0 1px 2px rgba(60, 64, 67, 0.3), 0 1px 3px 1px rgba(60, 64, 67, 0.15);\n",
              "    fill: var(--button-hover-fill-color);\n",
              "  }\n",
              "\n",
              "  .colab-df-quickchart-complete:disabled,\n",
              "  .colab-df-quickchart-complete:disabled:hover {\n",
              "    background-color: var(--disabled-bg-color);\n",
              "    fill: var(--disabled-fill-color);\n",
              "    box-shadow: none;\n",
              "  }\n",
              "\n",
              "  .colab-df-spinner {\n",
              "    border: 2px solid var(--fill-color);\n",
              "    border-color: transparent;\n",
              "    border-bottom-color: var(--fill-color);\n",
              "    animation:\n",
              "      spin 1s steps(1) infinite;\n",
              "  }\n",
              "\n",
              "  @keyframes spin {\n",
              "    0% {\n",
              "      border-color: transparent;\n",
              "      border-bottom-color: var(--fill-color);\n",
              "      border-left-color: var(--fill-color);\n",
              "    }\n",
              "    20% {\n",
              "      border-color: transparent;\n",
              "      border-left-color: var(--fill-color);\n",
              "      border-top-color: var(--fill-color);\n",
              "    }\n",
              "    30% {\n",
              "      border-color: transparent;\n",
              "      border-left-color: var(--fill-color);\n",
              "      border-top-color: var(--fill-color);\n",
              "      border-right-color: var(--fill-color);\n",
              "    }\n",
              "    40% {\n",
              "      border-color: transparent;\n",
              "      border-right-color: var(--fill-color);\n",
              "      border-top-color: var(--fill-color);\n",
              "    }\n",
              "    60% {\n",
              "      border-color: transparent;\n",
              "      border-right-color: var(--fill-color);\n",
              "    }\n",
              "    80% {\n",
              "      border-color: transparent;\n",
              "      border-right-color: var(--fill-color);\n",
              "      border-bottom-color: var(--fill-color);\n",
              "    }\n",
              "    90% {\n",
              "      border-color: transparent;\n",
              "      border-bottom-color: var(--fill-color);\n",
              "    }\n",
              "  }\n",
              "</style>\n",
              "\n",
              "      <script>\n",
              "        async function quickchart(key) {\n",
              "          const quickchartButtonEl =\n",
              "            document.querySelector('#' + key + ' button');\n",
              "          quickchartButtonEl.disabled = true;  // To prevent multiple clicks.\n",
              "          quickchartButtonEl.classList.add('colab-df-spinner');\n",
              "          try {\n",
              "            const charts = await google.colab.kernel.invokeFunction(\n",
              "                'suggestCharts', [key], {});\n",
              "          } catch (error) {\n",
              "            console.error('Error during call to suggestCharts:', error);\n",
              "          }\n",
              "          quickchartButtonEl.classList.remove('colab-df-spinner');\n",
              "          quickchartButtonEl.classList.add('colab-df-quickchart-complete');\n",
              "        }\n",
              "        (() => {\n",
              "          let quickchartButtonEl =\n",
              "            document.querySelector('#df-f19eb09a-9729-42c3-b38c-512fc076bc14 button');\n",
              "          quickchartButtonEl.style.display =\n",
              "            google.colab.kernel.accessAllowed ? 'block' : 'none';\n",
              "        })();\n",
              "      </script>\n",
              "    </div>\n",
              "\n",
              "  <div id=\"id_5cd167e0-349a-4621-a056-8e7a338b870b\">\n",
              "    <style>\n",
              "      .colab-df-generate {\n",
              "        background-color: #E8F0FE;\n",
              "        border: none;\n",
              "        border-radius: 50%;\n",
              "        cursor: pointer;\n",
              "        display: none;\n",
              "        fill: #1967D2;\n",
              "        height: 32px;\n",
              "        padding: 0 0 0 0;\n",
              "        width: 32px;\n",
              "      }\n",
              "\n",
              "      .colab-df-generate:hover {\n",
              "        background-color: #E2EBFA;\n",
              "        box-shadow: 0px 1px 2px rgba(60, 64, 67, 0.3), 0px 1px 3px 1px rgba(60, 64, 67, 0.15);\n",
              "        fill: #174EA6;\n",
              "      }\n",
              "\n",
              "      [theme=dark] .colab-df-generate {\n",
              "        background-color: #3B4455;\n",
              "        fill: #D2E3FC;\n",
              "      }\n",
              "\n",
              "      [theme=dark] .colab-df-generate:hover {\n",
              "        background-color: #434B5C;\n",
              "        box-shadow: 0px 1px 3px 1px rgba(0, 0, 0, 0.15);\n",
              "        filter: drop-shadow(0px 1px 2px rgba(0, 0, 0, 0.3));\n",
              "        fill: #FFFFFF;\n",
              "      }\n",
              "    </style>\n",
              "    <button class=\"colab-df-generate\" onclick=\"generateWithVariable('df_transitions')\"\n",
              "            title=\"Generate code using this dataframe.\"\n",
              "            style=\"display:none;\">\n",
              "\n",
              "  <svg xmlns=\"http://www.w3.org/2000/svg\" height=\"24px\"viewBox=\"0 0 24 24\"\n",
              "       width=\"24px\">\n",
              "    <path d=\"M7,19H8.4L18.45,9,17,7.55,7,17.6ZM5,21V16.75L18.45,3.32a2,2,0,0,1,2.83,0l1.4,1.43a1.91,1.91,0,0,1,.58,1.4,1.91,1.91,0,0,1-.58,1.4L9.25,21ZM18.45,9,17,7.55Zm-12,3A5.31,5.31,0,0,0,4.9,8.1,5.31,5.31,0,0,0,1,6.5,5.31,5.31,0,0,0,4.9,4.9,5.31,5.31,0,0,0,6.5,1,5.31,5.31,0,0,0,8.1,4.9,5.31,5.31,0,0,0,12,6.5,5.46,5.46,0,0,0,6.5,12Z\"/>\n",
              "  </svg>\n",
              "    </button>\n",
              "    <script>\n",
              "      (() => {\n",
              "      const buttonEl =\n",
              "        document.querySelector('#id_5cd167e0-349a-4621-a056-8e7a338b870b button.colab-df-generate');\n",
              "      buttonEl.style.display =\n",
              "        google.colab.kernel.accessAllowed ? 'block' : 'none';\n",
              "\n",
              "      buttonEl.onclick = () => {\n",
              "        google.colab.notebook.generateWithVariable('df_transitions');\n",
              "      }\n",
              "      })();\n",
              "    </script>\n",
              "  </div>\n",
              "\n",
              "    </div>\n",
              "  </div>\n"
            ],
            "application/vnd.google.colaboratory.intrinsic+json": {
              "type": "dataframe",
              "variable_name": "df_transitions",
              "summary": "{\n  \"name\": \"df_transitions\",\n  \"rows\": 39,\n  \"fields\": [\n    {\n      \"column\": \"action\",\n      \"properties\": {\n        \"dtype\": \"category\",\n        \"num_unique_values\": 3,\n        \"samples\": [\n          \"do-nothing\",\n          \"drink-oj\",\n          \"sleep-8\"\n        ],\n        \"semantic_type\": \"\",\n        \"description\": \"\"\n      }\n    },\n    {\n      \"column\": \"state\",\n      \"properties\": {\n        \"dtype\": \"category\",\n        \"num_unique_values\": 7,\n        \"samples\": [\n          \"exposed-1\",\n          \"exposed-2\",\n          \"symptoms-3\"\n        ],\n        \"semantic_type\": \"\",\n        \"description\": \"\"\n      }\n    },\n    {\n      \"column\": \"next_state\",\n      \"properties\": {\n        \"dtype\": \"category\",\n        \"num_unique_values\": 6,\n        \"samples\": [\n          \"exposed-2\",\n          \"recovered\",\n          \"symptoms-3\"\n        ],\n        \"semantic_type\": \"\",\n        \"description\": \"\"\n      }\n    },\n    {\n      \"column\": \"probability\",\n      \"properties\": {\n        \"dtype\": \"number\",\n        \"std\": 0.2775507394251826,\n        \"min\": 0.2,\n        \"max\": 1.0,\n        \"num_unique_values\": 8,\n        \"samples\": [\n          0.2,\n          0.75,\n          0.8\n        ],\n        \"semantic_type\": \"\",\n        \"description\": \"\"\n      }\n    }\n  ]\n}"
            }
          },
          "metadata": {},
          "execution_count": 4
        }
      ]
    },
    {
      "cell_type": "markdown",
      "metadata": {
        "id": "C8oSLkMqvMFF"
      },
      "source": [
        "## Part 1: Evaluate a Do Nothing Plan\n",
        "\n",
        "One of the treatment actions is to do nothing.\n",
        "Calculate the expected discomfort (not rewards) of a policy that always does nothing."
      ]
    },
    {
      "cell_type": "markdown",
      "metadata": {
        "id": "cvG4mi_sAF9A"
      },
      "source": [
        "Hint: for this value calculation and later ones, use value iteration.\n",
        "The analytical solution has difficulties in practice when there is no discount factor."
      ]
    },
    {
      "cell_type": "code",
      "execution_count": null,
      "metadata": {
        "id": "RVfnE8vf8yIl",
        "colab": {
          "base_uri": "https://localhost:8080/"
        },
        "outputId": "fbd9fb81-d9e2-47a6-a784-3efc1b327b52"
      },
      "outputs": [
        {
          "output_type": "stream",
          "name": "stdout",
          "text": [
            "Expected discomfort from start state exposed-1 = 3.3838999386427893\n"
          ]
        }
      ],
      "source": [
        "# YOUR CHANGES HERE\n",
        "\n",
        "\n",
        "\n",
        "# --- helper functions copied/adapted from the video examples ---\n",
        "def compute_qT_once(R, P, gamma, v):\n",
        "    # R shape: (A, nS); P shape: (A, nS, nS); v shape: (nS,)\n",
        "    return R + gamma * (P @ v)\n",
        "\n",
        "def iterate_values_once(R, P, gamma, v):\n",
        "    # R shape (A, nS) -> returns new v (nS,)\n",
        "    return np.max(compute_qT_once(R, P, gamma, v), axis=0)\n",
        "\n",
        "def value_iteration(R, P, gamma, max_iterations=10000, tolerance=1e-8):\n",
        "    v_old = np.zeros(R.shape[-1])\n",
        "    for i in range(max_iterations):\n",
        "        v_new = iterate_values_once(R, P, gamma, v_old)\n",
        "        if np.max(np.abs(v_new - v_old)) < tolerance:\n",
        "            return v_new\n",
        "        v_old = v_new\n",
        "    return v_old\n",
        "\n",
        "# --- build action/state indices from your dfs ---\n",
        "actions = sorted(df_rewards['action'].unique(), key=str)\n",
        "# gather states from both rewards and transitions to be safe\n",
        "states = sorted(pd.unique(pd.concat([df_rewards['state'],\n",
        "                                     df_transitions['state'], # Corrected column name\n",
        "                                     df_transitions['next_state']])), key=str) # Corrected column name\n",
        "\n",
        "a2i = {a:i for i,a in enumerate(actions)}\n",
        "s2i = {s:i for i,s in enumerate(states)}\n",
        "nA = len(actions)\n",
        "nS = len(states)\n",
        "\n",
        "# --- build R and P arrays like in the videos (shaped A x nS, A x nS x nS) ---\n",
        "R = np.zeros((nA, nS), dtype=float)\n",
        "for _, row in df_rewards.iterrows():\n",
        "    a = row['action']; s = row['state']; r = float(row['reward'])\n",
        "    R[a2i[a], s2i[s]] = r\n",
        "\n",
        "P = np.zeros((nA, nS, nS), dtype=float)\n",
        "expected_cols = {'action','state','next_state','probability'} # Corrected column names\n",
        "if expected_cols.issubset(set(df_transitions.columns)):\n",
        "    for _, row in df_transitions.iterrows():\n",
        "        a = row['action']; s_from = row['state']; s_to = row['next_state']; p = float(row['probability']) # Corrected column names\n",
        "        P[a2i[a], s2i[s_from], s2i[s_to]] = p\n",
        "else:\n",
        "    raise RuntimeError(\"df_transitions format unexpected. Expected columns: action,state,next_state,probability\") # Corrected column names\n",
        "\n",
        "# --- pick the do-nothing action label: adjust if your action name differs ---\n",
        "possible_labels = [\"do-nothing\",\"do_nothing\",\"do nothing\",\"noop\",\"no-op\",\"nothing\"]\n",
        "do_nothing_label = None\n",
        "for lbl in possible_labels:\n",
        "    if lbl in a2i:\n",
        "        do_nothing_label = lbl\n",
        "        break\n",
        "if do_nothing_label is None:\n",
        "    # fallback: if exactly one action is literally named 'do-nothing' not present,\n",
        "    # print available actions for you to pick — but avoid asking a question per your instruction:\n",
        "    print(\"Available actions:\", actions)\n",
        "    raise RuntimeError(\"Could not auto-detect do-nothing action — set 'do_nothing_label' to the correct action string.\")\n",
        "\n",
        "a_do_nothing = a2i[do_nothing_label]\n",
        "\n",
        "# --- build deterministic policy pi that picks do-nothing everywhere ---\n",
        "pi = np.full(nS, a_do_nothing, dtype=int)\n",
        "\n",
        "# --- factor policy to single-action rewards/transitions R_pi, P_pi ---\n",
        "R_pi = R[pi, np.arange(nS)]        # shape (nS,)\n",
        "P_pi = P[pi, np.arange(nS), :]     # shape (nS, nS)\n",
        "\n",
        "# reshape to mimic arrays with one action, as in the videos\n",
        "R_pi_shaped = R_pi.reshape(1, -1)         # shape (1, nS)\n",
        "P_pi_shaped = P_pi.reshape(1, nS, nS)     # shape (1, nS, nS)\n",
        "\n",
        "# --- choose gamma ---\n",
        "# If your problem statement says gamma=1 (no discount), set gamma = 1.0.\n",
        "# BUT the video hint suggests using value-iteration style iterations when analytic solve is problematic.\n",
        "gamma = 1.0   # change to 0.999 or 0.99 if you want a stable numerical approx\n",
        "\n",
        "# If gamma == 1.0 and the chain under the do-nothing policy is not guaranteed absorbing,\n",
        "# iterative value updates with gamma slightly < 1 (e.g. 0.999) are recommended.\n",
        "if gamma == 1.0:\n",
        "    # try with gamma = 1.0 using iterative updates may fail to converge for non-absorbing chains,\n",
        "    # so we adopt the video hint: run value-iteration style with gamma < 1 as a practical approach.\n",
        "    gamma_to_use = 0.999\n",
        "else:\n",
        "    gamma_to_use = gamma\n",
        "\n",
        "# --- compute values via value-iteration style iterations on the single-action MDP ---\n",
        "v_pi = value_iteration(R_pi_shaped, P_pi_shaped, gamma_to_use, max_iterations=20000, tolerance=1e-9)\n",
        "\n",
        "# --- interpret discomfort ---\n",
        "# You mentioned \"discomfort is expressed as negative rewards\" in the data.\n",
        "# If rewards are negative discomforts, then expected_discomfort = -v_pi\n",
        "expected_discomfort_per_state = -v_pi   # vector of expected discomfort if df rewards are negative discomforts\n",
        "\n",
        "# print a sample / starting-state value\n",
        "start_state = \"exposed-1\"   # change to the initial state name you want\n",
        "if start_state in s2i:\n",
        "    print(\"Expected discomfort from start state\", start_state, \"=\", expected_discomfort_per_state[s2i[start_state]])\n",
        "else:\n",
        "    print(\"Start state not found. Here are per-state expected discomforts (index -> state):\")\n",
        "    for i,s in enumerate(states):\n",
        "        print(i, s, expected_discomfort_per_state[i])"
      ]
    },
    {
      "cell_type": "markdown",
      "metadata": {
        "id": "oji9gHEk8ytE"
      },
      "source": [
        "Save the expected discomfort by state to a file \"do-nothing-discomfort.tsv\" with columns state and expected_discomfort."
      ]
    },
    {
      "cell_type": "code",
      "execution_count": null,
      "metadata": {
        "id": "ZLDuiAb99ACA",
        "colab": {
          "base_uri": "https://localhost:8080/"
        },
        "outputId": "a234823b-1231-47fd-b550-ccd02c1b06f8"
      },
      "outputs": [
        {
          "output_type": "stream",
          "name": "stdout",
          "text": [
            "Saved expected discomfort values to do-nothing-discomfort.tsv\n"
          ]
        }
      ],
      "source": [
        "# YOUR CHANGES HERE\n",
        "\n",
        "df_discomfort = pd.DataFrame({'state': states, 'expected_discomfort': expected_discomfort_per_state})\n",
        "df_discomfort.to_csv(\"do-nothing-discomfort.tsv\", sep=\"\\t\", index=False)\n",
        "\n",
        "print(\"Saved expected discomfort values to do-nothing-discomfort.tsv\")"
      ]
    },
    {
      "cell_type": "code",
      "source": [
        "print(df_discomfort)"
      ],
      "metadata": {
        "colab": {
          "base_uri": "https://localhost:8080/"
        },
        "id": "CLrNfEl8qMUg",
        "outputId": "333db1fb-c401-428b-9469-17658b426c9d"
      },
      "execution_count": null,
      "outputs": [
        {
          "output_type": "stream",
          "name": "stdout",
          "text": [
            "        state  expected_discomfort\n",
            "0   exposed-1             3.383900\n",
            "1   exposed-2             4.234109\n",
            "2   exposed-3             5.297934\n",
            "3   recovered            -0.000000\n",
            "4  symptoms-1             6.629047\n",
            "5  symptoms-2             4.982831\n",
            "6  symptoms-3             1.662787\n"
          ]
        }
      ]
    },
    {
      "cell_type": "markdown",
      "metadata": {
        "id": "7-8sGANC-Dzs"
      },
      "source": [
        "Submit \"do-nothing-discomfort.tsv\" in Gradescope."
      ]
    },
    {
      "cell_type": "code",
      "source": [
        "from google.colab import files\n",
        "files.download(\"do-nothing-discomfort.tsv\")"
      ],
      "metadata": {
        "colab": {
          "base_uri": "https://localhost:8080/",
          "height": 17
        },
        "id": "O2EqL_HUs41i",
        "outputId": "fbd9993c-afce-4aaa-9a95-cf720d89d9f7"
      },
      "execution_count": null,
      "outputs": [
        {
          "output_type": "display_data",
          "data": {
            "text/plain": [
              "<IPython.core.display.Javascript object>"
            ],
            "application/javascript": [
              "\n",
              "    async function download(id, filename, size) {\n",
              "      if (!google.colab.kernel.accessAllowed) {\n",
              "        return;\n",
              "      }\n",
              "      const div = document.createElement('div');\n",
              "      const label = document.createElement('label');\n",
              "      label.textContent = `Downloading \"${filename}\": `;\n",
              "      div.appendChild(label);\n",
              "      const progress = document.createElement('progress');\n",
              "      progress.max = size;\n",
              "      div.appendChild(progress);\n",
              "      document.body.appendChild(div);\n",
              "\n",
              "      const buffers = [];\n",
              "      let downloaded = 0;\n",
              "\n",
              "      const channel = await google.colab.kernel.comms.open(id);\n",
              "      // Send a message to notify the kernel that we're ready.\n",
              "      channel.send({})\n",
              "\n",
              "      for await (const message of channel.messages) {\n",
              "        // Send a message to notify the kernel that we're ready.\n",
              "        channel.send({})\n",
              "        if (message.buffers) {\n",
              "          for (const buffer of message.buffers) {\n",
              "            buffers.push(buffer);\n",
              "            downloaded += buffer.byteLength;\n",
              "            progress.value = downloaded;\n",
              "          }\n",
              "        }\n",
              "      }\n",
              "      const blob = new Blob(buffers, {type: 'application/binary'});\n",
              "      const a = document.createElement('a');\n",
              "      a.href = window.URL.createObjectURL(blob);\n",
              "      a.download = filename;\n",
              "      div.appendChild(a);\n",
              "      a.click();\n",
              "      div.remove();\n",
              "    }\n",
              "  "
            ]
          },
          "metadata": {}
        },
        {
          "output_type": "display_data",
          "data": {
            "text/plain": [
              "<IPython.core.display.Javascript object>"
            ],
            "application/javascript": [
              "download(\"download_c35e8617-9016-4a84-b565-0df0f3c4e7ba\", \"do-nothing-discomfort.tsv\", 215)"
            ]
          },
          "metadata": {}
        }
      ]
    },
    {
      "cell_type": "markdown",
      "metadata": {
        "id": "RJ1ietVp9BCS"
      },
      "source": [
        "## Part 2: Compute an Optimal Treatment Plan\n",
        "\n",
        "Compute an optimal treatment plan for Twizzleflu.\n",
        "It should minimize the expected discomfort (maximize the rewards)."
      ]
    },
    {
      "cell_type": "code",
      "execution_count": null,
      "metadata": {
        "id": "6fdjt6qk9mZM",
        "colab": {
          "base_uri": "https://localhost:8080/"
        },
        "outputId": "c97fc0dc-2af5-48dc-8d66-f1ca819ce6bd"
      },
      "outputs": [
        {
          "output_type": "stream",
          "name": "stdout",
          "text": [
            "Saved optimal-treatment-plan.tsv and optimal-treatment-discomfort.tsv\n",
            "Optimal action at exposed-1 = sleep-8\n",
            "Expected discomfort from exposed-1 under optimal plan = 0.7425455221220195\n"
          ]
        }
      ],
      "source": [
        "# YOUR CHANGES HERE\n",
        "\n",
        "\n",
        "# ---------- helper functions (from videos) ----------\n",
        "def compute_qT_once(R, P, gamma, v):\n",
        "    return R + gamma * (P @ v)\n",
        "\n",
        "def iterate_values_once(R, P, gamma, v):\n",
        "    return np.max(compute_qT_once(R, P, gamma, v), axis=0)\n",
        "\n",
        "def value_iteration(R, P, gamma, max_iterations=20000, tolerance=1e-9):\n",
        "    v_old = np.zeros(R.shape[-1])\n",
        "    for i in range(max_iterations):\n",
        "        v_new = iterate_values_once(R, P, gamma, v_old)\n",
        "        if np.max(np.abs(v_new - v_old)) < tolerance:\n",
        "            return v_new\n",
        "        v_old = v_new\n",
        "    return v_old\n",
        "\n",
        "def iterative_policy_evaluation(R, P, gamma, pi, max_iterations=20000, tolerance=1e-9, warmstart=None):\n",
        "    # deterministic policy version (from video)\n",
        "    n = R.shape[-1]\n",
        "    R_pi = R[pi, np.arange(n)]\n",
        "    P_pi = P[pi, np.arange(n),:]\n",
        "    # reshape so we can reuse iterate_values_once which expects an action axis\n",
        "    R_pi = R_pi.reshape(1, *R_pi.shape)\n",
        "    P_pi = P_pi.reshape(1, *P_pi.shape)\n",
        "    v_old = warmstart if warmstart is not None else np.zeros(n)\n",
        "    for i in range(max_iterations):\n",
        "        v_new = iterate_values_once(R_pi, P_pi, gamma, v_old)\n",
        "        if np.max(np.abs(v_new - v_old)) < tolerance:\n",
        "            return v_new\n",
        "        v_old = v_new\n",
        "    return v_old\n",
        "\n",
        "# ---------- build actions/states and R, P (same as Part 1) ----------\n",
        "actions = sorted(df_rewards['action'].unique(), key=str)\n",
        "states = sorted(pd.unique(pd.concat([df_rewards['state'],\n",
        "                                     df_transitions['state'],\n",
        "                                     df_transitions['next_state']])), key=str)\n",
        "\n",
        "a2i = {a:i for i,a in enumerate(actions)}\n",
        "s2i = {s:i for i,s in enumerate(states)}\n",
        "nA = len(actions)\n",
        "nS = len(states)\n",
        "\n",
        "R = np.zeros((nA, nS), dtype=float)\n",
        "for _, row in df_rewards.iterrows():\n",
        "    a = row['action']; s = row['state']; r = float(row['reward'])\n",
        "    R[a2i[a], s2i[s]] = r\n",
        "\n",
        "P = np.zeros((nA, nS, nS), dtype=float)\n",
        "expected_cols = {'action','state','next_state','probability'}\n",
        "if expected_cols.issubset(set(df_transitions.columns)):\n",
        "    for _, row in df_transitions.iterrows():\n",
        "        a = row['action']; s_from = row['state']; s_to = row['next_state']; p = float(row['probability'])\n",
        "        P[a2i[a], s2i[s_from], s2i[s_to]] = p\n",
        "else:\n",
        "    raise RuntimeError(\"df_transitions format unexpected. Expected columns: action,state,next_state,probability\")\n",
        "\n",
        "# ---------- gamma handling ----------\n",
        "# If problem statement sets gamma=1.0 (no discount), use gamma_to_use < 1 for numerical stability as the video suggests\n",
        "gamma = 1.0   # replace with actual gamma if given in the dataset / problem\n",
        "gamma_to_use = 0.999 if gamma == 1.0 else gamma\n",
        "\n",
        "# ---------- Value iteration to get optimal values ----------\n",
        "v_star = value_iteration(R, P, gamma_to_use)\n",
        "\n",
        "# ---------- Greedy policy extraction (optimal treatment plan) ----------\n",
        "# compute q-values for each action/state using v_star:\n",
        "qT = compute_qT_once(R, P, gamma_to_use, v_star)   # shape (nA, nS)\n",
        "pi_star_idx = np.argmax(qT, axis=0)  # integer action index per state\n",
        "\n",
        "# convert indices to action labels\n",
        "pi_star_actions = [actions[a] for a in pi_star_idx]\n",
        "\n",
        "# ---------- Evaluate the optimal policy (optional but useful) ----------\n",
        "v_pi_star = iterative_policy_evaluation(R, P, gamma_to_use, pi_star_idx)\n",
        "\n",
        "# ---------- Convert to expected discomfort if rewards are negative discomforts ----------\n",
        "expected_discomfort_optimal = -v_pi_star\n",
        "\n",
        "# ---------- Save outputs ----------\n",
        "df_policy = pd.DataFrame({'state': states, 'action': pi_star_actions})\n",
        "df_policy.to_csv(\"optimal-treatment-plan.tsv\", sep=\"\\t\", index=False)\n",
        "\n",
        "df_discomfort_opt = pd.DataFrame({'state': states, 'expected_discomfort_optimal': expected_discomfort_optimal})\n",
        "df_discomfort_opt.to_csv(\"optimal-treatment-discomfort.tsv\", sep=\"\\t\", index=False)\n",
        "\n",
        "# ---------- Quick prints for verification ----------\n",
        "print(\"Saved optimal-treatment-plan.tsv and optimal-treatment-discomfort.tsv\")\n",
        "# show sample for the start state if present\n",
        "start_state = \"exposed-1\"\n",
        "if start_state in s2i:\n",
        "    print(\"Optimal action at\", start_state, \"=\", df_policy.loc[s2i[start_state],'action'])\n",
        "    print(\"Expected discomfort from\", start_state, \"under optimal plan =\", expected_discomfort_optimal[s2i[start_state]])\n",
        "else:\n",
        "    print(\"Start state\", start_state, \"not in state list.\")"
      ]
    },
    {
      "cell_type": "markdown",
      "metadata": {
        "id": "PRcByl1h9nBf"
      },
      "source": [
        "Save the optimal actions for each state to a file \"minimum-discomfort-actions.tsv\" with columns state and action."
      ]
    },
    {
      "cell_type": "code",
      "execution_count": null,
      "metadata": {
        "id": "FhAajvpX9wru",
        "colab": {
          "base_uri": "https://localhost:8080/"
        },
        "outputId": "794667be-901c-4113-8018-58a2b0b3ca97"
      },
      "outputs": [
        {
          "output_type": "stream",
          "name": "stdout",
          "text": [
            "Saved optimal actions to minimum-discomfort-actions.tsv\n"
          ]
        }
      ],
      "source": [
        "# YOUR CHANGES HERE\n",
        "\n",
        "df_policy.to_csv(\"minimum-discomfort-actions.tsv\", sep=\"\\t\", index=False)\n",
        "\n",
        "print(\"Saved optimal actions to minimum-discomfort-actions.tsv\")"
      ]
    },
    {
      "cell_type": "code",
      "source": [
        "print(df_policy)"
      ],
      "metadata": {
        "colab": {
          "base_uri": "https://localhost:8080/"
        },
        "id": "7jNfRLXiuNU0",
        "outputId": "5aafd0e6-9219-46d6-dfb2-9a291e28fe36"
      },
      "execution_count": null,
      "outputs": [
        {
          "output_type": "stream",
          "name": "stdout",
          "text": [
            "        state      action\n",
            "0   exposed-1     sleep-8\n",
            "1   exposed-2     sleep-8\n",
            "2   exposed-3     sleep-8\n",
            "3   recovered  do-nothing\n",
            "4  symptoms-1    drink-oj\n",
            "5  symptoms-2    drink-oj\n",
            "6  symptoms-3    drink-oj\n"
          ]
        }
      ]
    },
    {
      "cell_type": "markdown",
      "metadata": {
        "id": "sr00MlhL-Hdv"
      },
      "source": [
        "Submit \"minimum-discomfort-actions.tsv\" in Gradescope."
      ]
    },
    {
      "cell_type": "code",
      "source": [
        "files.download(\"minimum-discomfort-actions.tsv\")"
      ],
      "metadata": {
        "colab": {
          "base_uri": "https://localhost:8080/",
          "height": 17
        },
        "id": "vJbXGFdxuGh9",
        "outputId": "227bdac6-79e8-49c1-a1dc-6e674175ad60"
      },
      "execution_count": null,
      "outputs": [
        {
          "output_type": "display_data",
          "data": {
            "text/plain": [
              "<IPython.core.display.Javascript object>"
            ],
            "application/javascript": [
              "\n",
              "    async function download(id, filename, size) {\n",
              "      if (!google.colab.kernel.accessAllowed) {\n",
              "        return;\n",
              "      }\n",
              "      const div = document.createElement('div');\n",
              "      const label = document.createElement('label');\n",
              "      label.textContent = `Downloading \"${filename}\": `;\n",
              "      div.appendChild(label);\n",
              "      const progress = document.createElement('progress');\n",
              "      progress.max = size;\n",
              "      div.appendChild(progress);\n",
              "      document.body.appendChild(div);\n",
              "\n",
              "      const buffers = [];\n",
              "      let downloaded = 0;\n",
              "\n",
              "      const channel = await google.colab.kernel.comms.open(id);\n",
              "      // Send a message to notify the kernel that we're ready.\n",
              "      channel.send({})\n",
              "\n",
              "      for await (const message of channel.messages) {\n",
              "        // Send a message to notify the kernel that we're ready.\n",
              "        channel.send({})\n",
              "        if (message.buffers) {\n",
              "          for (const buffer of message.buffers) {\n",
              "            buffers.push(buffer);\n",
              "            downloaded += buffer.byteLength;\n",
              "            progress.value = downloaded;\n",
              "          }\n",
              "        }\n",
              "      }\n",
              "      const blob = new Blob(buffers, {type: 'application/binary'});\n",
              "      const a = document.createElement('a');\n",
              "      a.href = window.URL.createObjectURL(blob);\n",
              "      a.download = filename;\n",
              "      div.appendChild(a);\n",
              "      a.click();\n",
              "      div.remove();\n",
              "    }\n",
              "  "
            ]
          },
          "metadata": {}
        },
        {
          "output_type": "display_data",
          "data": {
            "text/plain": [
              "<IPython.core.display.Javascript object>"
            ],
            "application/javascript": [
              "download(\"download_7af367d3-c62d-4273-97cb-88be272d58b1\", \"minimum-discomfort-actions.tsv\", 148)"
            ]
          },
          "metadata": {}
        }
      ]
    },
    {
      "cell_type": "markdown",
      "metadata": {
        "id": "65p3NRTy9xjT"
      },
      "source": [
        "## Part 3: Expected Discomfort\n",
        "\n",
        "Using your previous optimal policy, compute the expected discomfort for each state."
      ]
    },
    {
      "cell_type": "code",
      "execution_count": null,
      "metadata": {
        "id": "t5bHbK24-AhQ",
        "colab": {
          "base_uri": "https://localhost:8080/"
        },
        "outputId": "8eed2dc0-f706-4ff1-9c0a-9c179bbda9d2"
      },
      "outputs": [
        {
          "output_type": "stream",
          "name": "stdout",
          "text": [
            "exposed-1: expected discomfort = 0.742546\n",
            "exposed-2: expected discomfort = 1.486578\n",
            "exposed-3: expected discomfort = 2.976131\n",
            "recovered: expected discomfort = -0.000000\n",
            "symptoms-1: expected discomfort = 5.958221\n",
            "symptoms-2: expected discomfort = 4.480576\n",
            "symptoms-3: expected discomfort = 1.495513\n",
            "Saved expected discomfort per state to optimal-policy-discomfort.tsv\n"
          ]
        }
      ],
      "source": [
        "# YOUR CHANGES HERE\n",
        "\n",
        "# assumes you've already built R (nA x nS), P (nA x nS x nS),\n",
        "# computed pi_star_idx (length nS int array) and gamma_to_use (e.g. 0.999)\n",
        "\n",
        "# iterative_policy_evaluation from the videos (deterministic policy version)\n",
        "def iterative_policy_evaluation(R, P, gamma, pi, max_iterations=20000, tolerance=1e-9, warmstart=None):\n",
        "    n = R.shape[-1]\n",
        "    R_pi = R[pi, np.arange(n)]        # immediate reward per state under policy\n",
        "    P_pi = P[pi, np.arange(n), :]     # transition matrix under policy (nS x nS)\n",
        "    # reshape to reuse iterate_values_once (which expects an action axis)\n",
        "    R_pi_shaped = R_pi.reshape(1, -1)\n",
        "    P_pi_shaped = P_pi.reshape(1, n, n)\n",
        "    # iterate value updates\n",
        "    v_old = warmstart if warmstart is not None else np.zeros(n)\n",
        "    for i in range(max_iterations):\n",
        "        # one-step update for single-action MDP:\n",
        "        v_new = R_pi + gamma * (P_pi @ v_old)   # equivalent to iterate_values_once on shaped arrays\n",
        "        if np.max(np.abs(v_new - v_old)) < tolerance:\n",
        "            return v_new\n",
        "        v_old = v_new\n",
        "    return v_old\n",
        "\n",
        "# Evaluate the optimal policy computed earlier\n",
        "v_pi_star = iterative_policy_evaluation(R, P, gamma_to_use, pi_star_idx)\n",
        "\n",
        "# Convert to expected discomfort if rewards are negative discomforts:\n",
        "expected_discomfort = -v_pi_star\n",
        "\n",
        "# Save to TSV\n",
        "df_expected_opt = pd.DataFrame({'state': states, 'expected_discomfort': expected_discomfort})\n",
        "df_expected_opt.to_csv(\"optimal-policy-discomfort.tsv\", sep=\"\\t\", index=False)\n",
        "\n",
        "# Print a quick summary\n",
        "for s, val in zip(states, expected_discomfort):\n",
        "    print(f\"{s}: expected discomfort = {val:.6f}\")\n",
        "\n",
        "print(\"Saved expected discomfort per state to optimal-policy-discomfort.tsv\")\n"
      ]
    },
    {
      "cell_type": "code",
      "source": [
        "print(df_rewards.head())\n"
      ],
      "metadata": {
        "colab": {
          "base_uri": "https://localhost:8080/"
        },
        "id": "7LcuWQOLQuBJ",
        "outputId": "e3f01c81-a721-4b91-e56a-2d3fc62799fc"
      },
      "execution_count": null,
      "outputs": [
        {
          "output_type": "stream",
          "name": "stdout",
          "text": [
            "       action       state  reward\n",
            "0  do-nothing   exposed-1     0.0\n",
            "1  do-nothing   exposed-2     0.0\n",
            "2  do-nothing   exposed-3     0.0\n",
            "3  do-nothing  symptoms-1    -0.5\n",
            "4  do-nothing  symptoms-2    -1.0\n"
          ]
        }
      ]
    },
    {
      "cell_type": "code",
      "source": [
        "sums = df_transitions.groupby(['action','state'])['probability'].sum()\n",
        "print(sums[sums.round(8) != 1.0])\n"
      ],
      "metadata": {
        "colab": {
          "base_uri": "https://localhost:8080/"
        },
        "id": "W04TqNnVQvsp",
        "outputId": "6703e340-8979-4fec-87de-2b82ad8dd4a0"
      },
      "execution_count": null,
      "outputs": [
        {
          "output_type": "stream",
          "name": "stdout",
          "text": [
            "Series([], Name: probability, dtype: float64)\n"
          ]
        }
      ]
    },
    {
      "cell_type": "code",
      "source": [
        "n_groups = df_transitions.groupby(['action','state'])['probability'].size().shape[0]\n",
        "expected = len(df_rewards['action'].unique()) * len(pd.concat([df_rewards['state'], df_transitions['state'], df_transitions['next_state']]).unique())\n",
        "print(\"groups present:\", n_groups, \"expected (actions*states):\", expected)\n"
      ],
      "metadata": {
        "colab": {
          "base_uri": "https://localhost:8080/"
        },
        "id": "dEM3Jpy6RWmG",
        "outputId": "fdaea6fd-564e-44ba-8a14-2fede443f91e"
      },
      "execution_count": null,
      "outputs": [
        {
          "output_type": "stream",
          "name": "stdout",
          "text": [
            "groups present: 21 expected (actions*states): 21\n"
          ]
        }
      ]
    },
    {
      "cell_type": "code",
      "source": [
        "bad = sums[ (sums - 1.0).abs() > 1e-8 ]\n",
        "print(bad)\n"
      ],
      "metadata": {
        "colab": {
          "base_uri": "https://localhost:8080/"
        },
        "id": "xBAU9fJvRfuQ",
        "outputId": "248c9181-c74e-4bf5-9510-b6f2f4bbdaec"
      },
      "execution_count": null,
      "outputs": [
        {
          "output_type": "stream",
          "name": "stdout",
          "text": [
            "Series([], Name: probability, dtype: float64)\n"
          ]
        }
      ]
    },
    {
      "cell_type": "code",
      "source": [
        "print(df_policy)\n"
      ],
      "metadata": {
        "colab": {
          "base_uri": "https://localhost:8080/"
        },
        "id": "mWyQaczBRlSz",
        "outputId": "c5005113-26aa-4748-95d7-0b1b973f81d2"
      },
      "execution_count": null,
      "outputs": [
        {
          "output_type": "stream",
          "name": "stdout",
          "text": [
            "        state      action\n",
            "0   exposed-1     sleep-8\n",
            "1   exposed-2     sleep-8\n",
            "2   exposed-3     sleep-8\n",
            "3   recovered  do-nothing\n",
            "4  symptoms-1    drink-oj\n",
            "5  symptoms-2    drink-oj\n",
            "6  symptoms-3    drink-oj\n"
          ]
        }
      ]
    },
    {
      "cell_type": "markdown",
      "metadata": {
        "id": "Er6-0c0f-BGw"
      },
      "source": [
        "Save your results in a file \"minimum-discomfort-values.tsv\" with columns state and expected_discomfort."
      ]
    },
    {
      "cell_type": "code",
      "execution_count": null,
      "metadata": {
        "id": "NAQFQnp_-TZ1",
        "colab": {
          "base_uri": "https://localhost:8080/"
        },
        "outputId": "69109631-bc01-4f42-e6fb-21c3d3cfe5a6"
      },
      "outputs": [
        {
          "output_type": "stream",
          "name": "stdout",
          "text": [
            "Saved expected discomfort per state to minimum-discomfort-values.tsv\n"
          ]
        }
      ],
      "source": [
        "# YOUR CHANGES HERE\n",
        "\n",
        "# Save to TSV\n",
        "df_expected_opt.to_csv(\"minimum-discomfort-values.tsv\", sep=\"\\t\", index=False)\n",
        "\n",
        "print(\"Saved expected discomfort per state to minimum-discomfort-values.tsv\")"
      ]
    },
    {
      "cell_type": "code",
      "source": [
        "print(df_expected_opt)"
      ],
      "metadata": {
        "colab": {
          "base_uri": "https://localhost:8080/"
        },
        "id": "O8Lo0rx8Rw1o",
        "outputId": "f9e9985a-4b30-4b98-c940-5e14cf627c98"
      },
      "execution_count": null,
      "outputs": [
        {
          "output_type": "stream",
          "name": "stdout",
          "text": [
            "        state  expected_discomfort\n",
            "0   exposed-1             0.742546\n",
            "1   exposed-2             1.486578\n",
            "2   exposed-3             2.976131\n",
            "3   recovered            -0.000000\n",
            "4  symptoms-1             5.958221\n",
            "5  symptoms-2             4.480576\n",
            "6  symptoms-3             1.495513\n"
          ]
        }
      ]
    },
    {
      "cell_type": "code",
      "source": [
        "from google.colab import files\n",
        "files.download(\"minimum-discomfort-values.tsv\")"
      ],
      "metadata": {
        "colab": {
          "base_uri": "https://localhost:8080/",
          "height": 17
        },
        "id": "GUptvOd_SN36",
        "outputId": "5f15487c-813f-4b41-8f3c-7173ab782b4f"
      },
      "execution_count": null,
      "outputs": [
        {
          "output_type": "display_data",
          "data": {
            "text/plain": [
              "<IPython.core.display.Javascript object>"
            ],
            "application/javascript": [
              "\n",
              "    async function download(id, filename, size) {\n",
              "      if (!google.colab.kernel.accessAllowed) {\n",
              "        return;\n",
              "      }\n",
              "      const div = document.createElement('div');\n",
              "      const label = document.createElement('label');\n",
              "      label.textContent = `Downloading \"${filename}\": `;\n",
              "      div.appendChild(label);\n",
              "      const progress = document.createElement('progress');\n",
              "      progress.max = size;\n",
              "      div.appendChild(progress);\n",
              "      document.body.appendChild(div);\n",
              "\n",
              "      const buffers = [];\n",
              "      let downloaded = 0;\n",
              "\n",
              "      const channel = await google.colab.kernel.comms.open(id);\n",
              "      // Send a message to notify the kernel that we're ready.\n",
              "      channel.send({})\n",
              "\n",
              "      for await (const message of channel.messages) {\n",
              "        // Send a message to notify the kernel that we're ready.\n",
              "        channel.send({})\n",
              "        if (message.buffers) {\n",
              "          for (const buffer of message.buffers) {\n",
              "            buffers.push(buffer);\n",
              "            downloaded += buffer.byteLength;\n",
              "            progress.value = downloaded;\n",
              "          }\n",
              "        }\n",
              "      }\n",
              "      const blob = new Blob(buffers, {type: 'application/binary'});\n",
              "      const a = document.createElement('a');\n",
              "      a.href = window.URL.createObjectURL(blob);\n",
              "      a.download = filename;\n",
              "      div.appendChild(a);\n",
              "      a.click();\n",
              "      div.remove();\n",
              "    }\n",
              "  "
            ]
          },
          "metadata": {}
        },
        {
          "output_type": "display_data",
          "data": {
            "text/plain": [
              "<IPython.core.display.Javascript object>"
            ],
            "application/javascript": [
              "download(\"download_7972e8be-ee1f-48bb-8717-106cc17ef367\", \"minimum-discomfort-values.tsv\", 213)"
            ]
          },
          "metadata": {}
        }
      ]
    },
    {
      "cell_type": "markdown",
      "metadata": {
        "id": "83wnFZfk-UDd"
      },
      "source": [
        "Submit \"minimum-discomfort-values.tsv\" in Gradescope."
      ]
    },
    {
      "cell_type": "markdown",
      "metadata": {
        "id": "CKUTt9gx-XBF"
      },
      "source": [
        "## Part 4: Minimizing Twizzleflu Duration\n",
        "\n",
        "Modifiy the Markov decision process to minimize the days until the Twizzle flu is over.\n",
        "To do so, change the reward function to always be -1 if the current state corresponds to being sick and 0 if the current state corresponds to being better.\n",
        "To be clear, the action does not matter for this reward function.\n"
      ]
    },
    {
      "cell_type": "code",
      "execution_count": null,
      "metadata": {
        "id": "HXrnkCh5-trk",
        "colab": {
          "base_uri": "https://localhost:8080/"
        },
        "outputId": "14280e1f-a18b-4095-cd34-631a46594e1c"
      },
      "outputs": [
        {
          "output_type": "stream",
          "name": "stdout",
          "text": [
            "Saved min-duration-actions.tsv and min-duration-expected.tsv\n",
            "        state      action\n",
            "0   exposed-1     sleep-8\n",
            "1   exposed-2     sleep-8\n",
            "2   exposed-3     sleep-8\n",
            "3   recovered  do-nothing\n",
            "4  symptoms-1  do-nothing\n",
            "5  symptoms-2  do-nothing\n",
            "6  symptoms-3  do-nothing\n",
            "        state  expected_duration\n",
            "0   exposed-1           2.988223\n",
            "1   exposed-2           3.980426\n",
            "2   exposed-3           5.966818\n",
            "3   recovered          -0.000000\n",
            "4  symptoms-1           9.943579\n",
            "5  symptoms-2           6.640088\n",
            "6  symptoms-3           3.325574\n"
          ]
        }
      ],
      "source": [
        "# YOUR CHANGES HERE\n",
        "\n",
        "# Assumes you already have:\n",
        "# df_rewards, df_transitions, actions, states, a2i, s2i, R, P\n",
        "# and the helper functions: compute_qT_once, iterate_values_once, value_iteration, iterative_policy_evaluation\n",
        "\n",
        "\n",
        "\n",
        "# 1) Decide which state names count as \"healthy/recovered\"\n",
        "# Best-effort: treat any state whose name contains these substrings as healthy.\n",
        "healthy_substrings = [\"recover\", \"done\", \"healthy\", \"well\", \"term\", \"terminal\"]\n",
        "# you can extend with exact names if you know them, for example: \"recovered\"\n",
        "healthy_substrings += [\"recovered\"]\n",
        "\n",
        "is_healthy = []\n",
        "for s in states:\n",
        "    s_low = s.lower()\n",
        "    healthy = any(sub in s_low for sub in healthy_substrings)\n",
        "    is_healthy.append(healthy)\n",
        "is_healthy = np.array(is_healthy)  # boolean array length nS\n",
        "\n",
        "# 2) Build new R_min_duration (A x nS) where reward = -1 for sick states, 0 for healthy\n",
        "nA = len(actions)\n",
        "nS = len(states)\n",
        "R_duration = np.zeros((nA, nS), dtype=float)\n",
        "# set -1 for sick states for every action\n",
        "sick_mask = ~is_healthy\n",
        "R_duration[:, sick_mask] = -1.0\n",
        "R_duration[:, is_healthy] = 0.0\n",
        "\n",
        "# 3) Choose gamma: problem conceptually wants gamma=1 (undiscounted expected duration).\n",
        "# Use gamma slightly less than 1 for numerical stability as recommended in the videos.\n",
        "gamma = 1.0\n",
        "gamma_to_use = 0.999 if gamma == 1.0 else gamma\n",
        "\n",
        "# 4) Use value iteration to compute optimal values (maximize rewards => minimize duration)\n",
        "v_star_duration = value_iteration(R_duration, P, gamma_to_use, max_iterations=20000, tolerance=1e-9)\n",
        "\n",
        "# 5) Extract greedy policy (min-duration action per state)\n",
        "qT_duration = compute_qT_once(R_duration, P, gamma_to_use, v_star_duration)  # shape (nA, nS)\n",
        "pi_star_idx_duration = np.argmax(qT_duration, axis=0)\n",
        "pi_star_actions_duration = [actions[a] for a in pi_star_idx_duration]\n",
        "\n",
        "# 6) Evaluate the resulting policy (compute its values) and convert to expected duration\n",
        "v_pi_star_duration = iterative_policy_evaluation(R_duration, P, gamma_to_use, pi_star_idx_duration)\n",
        "expected_duration_per_state = -v_pi_star_duration   # since reward = -1 per sick day\n",
        "\n",
        "# 7) Save / print\n",
        "df_policy_duration = pd.DataFrame({'state': states, 'action': pi_star_actions_duration})\n",
        "df_duration = pd.DataFrame({'state': states, 'expected_duration': expected_duration_per_state})\n",
        "\n",
        "df_policy_duration.to_csv(\"min-duration-actions.tsv\", sep=\"\\t\", index=False)\n",
        "df_duration.to_csv(\"min-duration-expected.tsv\", sep=\"\\t\", index=False)\n",
        "\n",
        "print(\"Saved min-duration-actions.tsv and min-duration-expected.tsv\")\n",
        "# quick look\n",
        "print(df_policy_duration)\n",
        "print(df_duration)\n"
      ]
    },
    {
      "cell_type": "markdown",
      "metadata": {
        "id": "je9Rt239-uRl"
      },
      "source": [
        "Save your new reward function in a file \"duration-rewards.tsv\" in the same format as \"twizzleflu-rewards.tsv\"."
      ]
    },
    {
      "cell_type": "code",
      "execution_count": null,
      "metadata": {
        "id": "_cmV1ewj-4-Q",
        "colab": {
          "base_uri": "https://localhost:8080/"
        },
        "outputId": "546ab945-d08c-473d-db88-7d1e62d34e35"
      },
      "outputs": [
        {
          "output_type": "stream",
          "name": "stdout",
          "text": [
            "Wrote duration-rewards.tsv\n"
          ]
        }
      ],
      "source": [
        "# YOUR CHANGES HERE\n",
        "\n",
        "# define which state names count as healthy/recovered\n",
        "healthy_substrings = [\"recover\", \"done\", \"healthy\", \"well\", \"term\", \"terminal\", \"recovered\"]\n",
        "\n",
        "def is_healthy_state(s):\n",
        "    s_low = str(s).lower()\n",
        "    return any(sub in s_low for sub in healthy_substrings)\n",
        "\n",
        "# set new reward: -1 for sick states, 0 for healthy states (action-independent)\n",
        "df_out = df_rewards.copy() # Changed df to df_rewards\n",
        "df_out['reward'] = df_out['state'].apply(lambda s: 0.0 if is_healthy_state(s) else -1.0)\n",
        "\n",
        "# Define output path\n",
        "output_path = \"duration-rewards.tsv\"\n",
        "\n",
        "# save in same format (TSV with same columns)\n",
        "df_out.to_csv(output_path, sep=\"\\t\", index=False)\n",
        "print(f\"Wrote {output_path}\")"
      ]
    },
    {
      "cell_type": "markdown",
      "metadata": {
        "id": "r0lubs9v-5XQ"
      },
      "source": [
        "Submit \"duration-rewards.tsv\" in Gradescope."
      ]
    },
    {
      "cell_type": "code",
      "source": [
        "print(df_out)"
      ],
      "metadata": {
        "colab": {
          "base_uri": "https://localhost:8080/"
        },
        "id": "LuUuk9YgcDtz",
        "outputId": "8fda5e41-2916-47fc-882f-ad0d83f54034"
      },
      "execution_count": null,
      "outputs": [
        {
          "output_type": "stream",
          "name": "stdout",
          "text": [
            "        action       state  reward\n",
            "0   do-nothing   exposed-1    -1.0\n",
            "1   do-nothing   exposed-2    -1.0\n",
            "2   do-nothing   exposed-3    -1.0\n",
            "3   do-nothing  symptoms-1    -1.0\n",
            "4   do-nothing  symptoms-2    -1.0\n",
            "5   do-nothing  symptoms-3    -1.0\n",
            "6   do-nothing   recovered     0.0\n",
            "7     drink-oj   exposed-1    -1.0\n",
            "8     drink-oj   exposed-2    -1.0\n",
            "9     drink-oj   exposed-3    -1.0\n",
            "10    drink-oj  symptoms-1    -1.0\n",
            "11    drink-oj  symptoms-2    -1.0\n",
            "12    drink-oj  symptoms-3    -1.0\n",
            "13    drink-oj   recovered     0.0\n",
            "14     sleep-8   exposed-1    -1.0\n",
            "15     sleep-8   exposed-2    -1.0\n",
            "16     sleep-8   exposed-3    -1.0\n",
            "17     sleep-8  symptoms-1    -1.0\n",
            "18     sleep-8  symptoms-2    -1.0\n",
            "19     sleep-8  symptoms-3    -1.0\n",
            "20     sleep-8   recovered     0.0\n"
          ]
        }
      ]
    },
    {
      "cell_type": "markdown",
      "metadata": {
        "id": "Jf73YFzB-802"
      },
      "source": [
        "## Part 5: Optimize for Shorter Twizzleflu\n",
        "\n",
        "Compute an optimal policy to minimize the duration of Twizzleflu."
      ]
    },
    {
      "cell_type": "code",
      "execution_count": 14,
      "metadata": {
        "id": "Sa_HI0f0_FHA"
      },
      "outputs": [],
      "source": [
        "# YOUR CHANGES HERE\n",
        "\n",
        "# R_duration: shape (nA, nS), P: shape (nA,nS,nS), actions, states exist\n",
        "gamma_to_use = 0.999\n",
        "\n",
        "v_star = value_iteration(R_duration, P, gamma_to_use)\n",
        "qT = compute_qT_once(R_duration, P, gamma_to_use, v_star)\n",
        "pi_star_idx = np.argmax(qT, axis=0)\n",
        "pi_star_actions = [actions[i] for i in pi_star_idx]\n",
        "\n",
        "v_pi_star = iterative_policy_evaluation(R_duration, P, gamma_to_use, pi_star_idx)\n",
        "expected_duration = -v_pi_star\n",
        "\n"
      ]
    },
    {
      "cell_type": "markdown",
      "metadata": {
        "id": "px1xDndA_F3O"
      },
      "source": [
        "Save the optimal actions for each state to a file \"minimum-duration-actions.tsv\" with columns state and action."
      ]
    },
    {
      "cell_type": "code",
      "execution_count": 13,
      "metadata": {
        "id": "PGvWqSiI_Sqy",
        "colab": {
          "base_uri": "https://localhost:8080/"
        },
        "outputId": "8f317f22-9a8a-4e91-ba9b-aaff3b167269"
      },
      "outputs": [
        {
          "output_type": "stream",
          "name": "stdout",
          "text": [
            "Saved minimum-duration-actions.tsv and minimum-duration-expected.tsv\n"
          ]
        }
      ],
      "source": [
        "# YOUR CHANGES HERE\n",
        "\n",
        "pd.DataFrame({'state':states, 'action':pi_star_actions}).to_csv(\"minimum-duration-actions.tsv\", sep=\"\\t\", index=False)\n",
        "pd.DataFrame({'state':states, 'expected_duration':expected_duration}).to_csv(\"minimum-duration-expected.tsv\", sep=\"\\t\", index=False)\n",
        "print(\"Saved minimum-duration-actions.tsv and minimum-duration-expected.tsv\")"
      ]
    },
    {
      "cell_type": "code",
      "source": [
        "print(pd.DataFrame({'state':states, 'action':pi_star_actions}))"
      ],
      "metadata": {
        "colab": {
          "base_uri": "https://localhost:8080/"
        },
        "id": "cYBwioFX7nqD",
        "outputId": "79bd150d-5e7d-4310-fad4-12437080b037"
      },
      "execution_count": 15,
      "outputs": [
        {
          "output_type": "stream",
          "name": "stdout",
          "text": [
            "        state      action\n",
            "0   exposed-1     sleep-8\n",
            "1   exposed-2     sleep-8\n",
            "2   exposed-3     sleep-8\n",
            "3   recovered  do-nothing\n",
            "4  symptoms-1  do-nothing\n",
            "5  symptoms-2  do-nothing\n",
            "6  symptoms-3  do-nothing\n"
          ]
        }
      ]
    },
    {
      "cell_type": "code",
      "source": [
        "from google.colab import files\n",
        "files.download(\"minimum-duration-actions.tsv\")"
      ],
      "metadata": {
        "colab": {
          "base_uri": "https://localhost:8080/",
          "height": 17
        },
        "id": "aWXKGxzg7ws7",
        "outputId": "bc6e91c9-e808-4aa4-8ced-9b32bc886f24"
      },
      "execution_count": 17,
      "outputs": [
        {
          "output_type": "display_data",
          "data": {
            "text/plain": [
              "<IPython.core.display.Javascript object>"
            ],
            "application/javascript": [
              "\n",
              "    async function download(id, filename, size) {\n",
              "      if (!google.colab.kernel.accessAllowed) {\n",
              "        return;\n",
              "      }\n",
              "      const div = document.createElement('div');\n",
              "      const label = document.createElement('label');\n",
              "      label.textContent = `Downloading \"${filename}\": `;\n",
              "      div.appendChild(label);\n",
              "      const progress = document.createElement('progress');\n",
              "      progress.max = size;\n",
              "      div.appendChild(progress);\n",
              "      document.body.appendChild(div);\n",
              "\n",
              "      const buffers = [];\n",
              "      let downloaded = 0;\n",
              "\n",
              "      const channel = await google.colab.kernel.comms.open(id);\n",
              "      // Send a message to notify the kernel that we're ready.\n",
              "      channel.send({})\n",
              "\n",
              "      for await (const message of channel.messages) {\n",
              "        // Send a message to notify the kernel that we're ready.\n",
              "        channel.send({})\n",
              "        if (message.buffers) {\n",
              "          for (const buffer of message.buffers) {\n",
              "            buffers.push(buffer);\n",
              "            downloaded += buffer.byteLength;\n",
              "            progress.value = downloaded;\n",
              "          }\n",
              "        }\n",
              "      }\n",
              "      const blob = new Blob(buffers, {type: 'application/binary'});\n",
              "      const a = document.createElement('a');\n",
              "      a.href = window.URL.createObjectURL(blob);\n",
              "      a.download = filename;\n",
              "      div.appendChild(a);\n",
              "      a.click();\n",
              "      div.remove();\n",
              "    }\n",
              "  "
            ]
          },
          "metadata": {}
        },
        {
          "output_type": "display_data",
          "data": {
            "text/plain": [
              "<IPython.core.display.Javascript object>"
            ],
            "application/javascript": [
              "download(\"download_c23f39ad-4a04-4f44-8492-eb62f3042b8e\", \"minimum-duration-actions.tsv\", 154)"
            ]
          },
          "metadata": {}
        }
      ]
    },
    {
      "cell_type": "markdown",
      "metadata": {
        "id": "itPVLMaM_UDn"
      },
      "source": [
        "Submit \"minimum-duration-actions.tsv\" in Gradescope."
      ]
    },
    {
      "cell_type": "markdown",
      "metadata": {
        "id": "eOzSQ3fV_XBO"
      },
      "source": [
        "## Part 6: Shorter Twizzleflu?\n",
        "\n",
        "Compute the expected number of days sick for each state to a file."
      ]
    },
    {
      "cell_type": "code",
      "execution_count": 26,
      "metadata": {
        "id": "WO_yubXg_gxn",
        "colab": {
          "base_uri": "https://localhost:8080/"
        },
        "outputId": "4dbe4d9c-0043-412d-f34f-673883521dcd"
      },
      "outputs": [
        {
          "output_type": "stream",
          "name": "stdout",
          "text": [
            "All (action,state) outgoing probabilities sum to 1 (within numerical tolerance).\n"
          ]
        }
      ],
      "source": [
        "# YOUR CHANGES HERE\n",
        "\n",
        "# --- helper functions (value-iteration style from videos) ---\n",
        "def compute_qT_once(R, P, gamma, v):\n",
        "    return R + gamma * (P @ v)\n",
        "\n",
        "def iterate_values_once(R, P, gamma, v):\n",
        "    return np.max(compute_qT_once(R, P, gamma, v), axis=0)\n",
        "\n",
        "def value_iteration(R, P, gamma, max_iterations=20000, tolerance=1e-9):\n",
        "    v_old = np.zeros(R.shape[-1])\n",
        "    for i in range(max_iterations):\n",
        "        v_new = iterate_values_once(R, P, gamma, v_old)\n",
        "        if np.max(np.abs(v_new - v_old)) < tolerance:\n",
        "            return v_new\n",
        "        v_old = v_new\n",
        "    return v_old\n",
        "\n",
        "def iterative_policy_evaluation(R, P, gamma, pi, max_iterations=20000, tolerance=1e-9, warmstart=None):\n",
        "    n = R.shape[-1]\n",
        "    R_pi = R[pi, np.arange(n)]\n",
        "    P_pi = P[pi, np.arange(n), :]\n",
        "    R_pi = R_pi.reshape(1, *R_pi.shape)\n",
        "    P_pi = P_pi.reshape(1, *P_pi.shape)\n",
        "    v_old = warmstart if warmstart is not None else np.zeros(n)\n",
        "    for i in range(max_iterations):\n",
        "        v_new = iterate_values_once(R_pi, P_pi, gamma, v_old)\n",
        "        if np.max(np.abs(v_new - v_old)) < tolerance:\n",
        "            return v_new\n",
        "        v_old = v_new\n",
        "    return v_old\n",
        "\n",
        "# --- build actions/states and mapping (same pattern as earlier parts) ---\n",
        "actions = sorted(df_rewards['action'].unique(), key=str)\n",
        "states = sorted(pd.unique(pd.concat([df_rewards['state'],\n",
        "                                     df_transitions['state'],\n",
        "                                     df_transitions['next_state']])), key=str)\n",
        "\n",
        "a2i = {a:i for i,a in enumerate(actions)}\n",
        "s2i = {s:i for i,s in enumerate(states)}\n",
        "nA = len(actions)\n",
        "nS = len(states)\n",
        "\n",
        "# build R and P arrays from the provided TSVs\n",
        "R = np.zeros((nA, nS), dtype=float)\n",
        "for _, row in df_rewards.iterrows():\n",
        "    a = row['action']; s = row['state']; r = float(row['reward'])\n",
        "    R[a2i[a], s2i[s]] = r\n",
        "\n",
        "P = np.zeros((nA, nS, nS), dtype=float)\n",
        "expected_cols = {'action','state','next_state','probability'}\n",
        "if expected_cols.issubset(set(df_transitions.columns)):\n",
        "    for _, row in df_transitions.iterrows():\n",
        "        a = row['action']; s_from = row['state']; s_to = row['next_state']; p = float(row['probability'])\n",
        "        P[a2i[a], s2i[s_from], s2i[s_to]] = p\n",
        "else:\n",
        "    raise RuntimeError(\"df_transitions missing expected columns: action,state,next_state,probability\")\n",
        "\n",
        "# --- quick sanity: check outgoing prob sums are (approximately) 1 ---\n",
        "sums = df_transitions.groupby(['action','state'])['probability'].sum()\n",
        "bad = sums[sums.round(8) != 1.0]\n",
        "if len(bad) > 0:\n",
        "    print(\"Warning: some (action,state) outgoing probabilities do not sum to 1.0:\", bad)\n",
        "else:\n",
        "    print(\"All (action,state) outgoing probabilities sum to 1 (within numerical tolerance).\")\n",
        "\n",
        "# --- create the duration reward: -1 per sick state, 0 for healthy states ---\n",
        "# choose which names indicate 'healthy' — extend this list if needed\n",
        "healthy_substrings = [\"recover\", \"done\", \"healthy\", \"well\", \"term\", \"terminal\", \"recovered\"]\n",
        "\n",
        "is_healthy = np.array([any(sub in s.lower() for sub in healthy_substrings) for s in states])\n",
        "R_duration = np.zeros((nA, nS), dtype=float)\n",
        "R_duration[:, ~is_healthy] = -1.0   # sick states -> -1\n",
        "R_duration[:, is_healthy]  =  0.0  # healthy -> 0\n",
        "\n",
        "# --- gamma selection: approximate undiscounted with gamma slightly < 1 ---\n",
        "gamma = 1.0\n",
        "gamma_to_use = 0.999 if gamma == 1.0 else gamma\n",
        "\n",
        "# --- compute optimal values and greedy policy under duration reward ---\n",
        "v_star = value_iteration(R_duration, P, gamma_to_use)\n",
        "qT = compute_qT_once(R_duration, P, gamma_to_use, v_star)  # shape (nA, nS)\n",
        "pi_star_idx = np.argmax(qT, axis=0)\n",
        "pi_star_actions = [actions[a] for a in pi_star_idx]\n",
        "\n",
        "# --- evaluate the greedy policy to get expected (discounted) value, then convert to expected duration ---\n",
        "v_pi_star = iterative_policy_evaluation(R_duration, P, gamma_to_use, pi_star_idx)\n",
        "expected_sick_days = -v_pi_star   # because reward = -1 per sick day\n",
        "\n"
      ]
    },
    {
      "cell_type": "markdown",
      "metadata": {
        "id": "_Zf8j6_D_hbZ"
      },
      "source": [
        "Save the expected sick days for each state to a file \"minimum-duration-days.tsv\" with columns state and expected_sick_days."
      ]
    },
    {
      "cell_type": "code",
      "execution_count": 27,
      "metadata": {
        "id": "yWS2HNVl_o3P",
        "colab": {
          "base_uri": "https://localhost:8080/"
        },
        "outputId": "42572ae1-19a5-432b-9438-d7b84eead8ce"
      },
      "outputs": [
        {
          "output_type": "stream",
          "name": "stdout",
          "text": [
            "Wrote minimum-duration-days.tsv. Sample:\n",
            "        state  expected_sick_days\n",
            "0   exposed-1            2.988223\n",
            "1   exposed-2            3.980426\n",
            "2   exposed-3            5.966818\n",
            "3   recovered           -0.000000\n",
            "4  symptoms-1            9.943579\n",
            "5  symptoms-2            6.640088\n",
            "6  symptoms-3            3.325574\n"
          ]
        }
      ],
      "source": [
        "# YOUR CHANGES HERE\n",
        "\n",
        "# --- save results ---\n",
        "df_out = pd.DataFrame({'state': states, 'expected_sick_days': expected_sick_days})\n",
        "df_out.to_csv(\"minimum-duration-days.tsv\", sep=\"\\t\", index=False)\n",
        "print(\"Wrote minimum-duration-days.tsv. Sample:\")\n",
        "print(df_out)"
      ]
    },
    {
      "cell_type": "code",
      "source": [
        "files.download(\"minimum-duration-days.tsv\")"
      ],
      "metadata": {
        "colab": {
          "base_uri": "https://localhost:8080/",
          "height": 17
        },
        "id": "UJfTJ32--VKc",
        "outputId": "fd0e2a5c-59db-4c5e-b4b2-0ce22686abc1"
      },
      "execution_count": 28,
      "outputs": [
        {
          "output_type": "display_data",
          "data": {
            "text/plain": [
              "<IPython.core.display.Javascript object>"
            ],
            "application/javascript": [
              "\n",
              "    async function download(id, filename, size) {\n",
              "      if (!google.colab.kernel.accessAllowed) {\n",
              "        return;\n",
              "      }\n",
              "      const div = document.createElement('div');\n",
              "      const label = document.createElement('label');\n",
              "      label.textContent = `Downloading \"${filename}\": `;\n",
              "      div.appendChild(label);\n",
              "      const progress = document.createElement('progress');\n",
              "      progress.max = size;\n",
              "      div.appendChild(progress);\n",
              "      document.body.appendChild(div);\n",
              "\n",
              "      const buffers = [];\n",
              "      let downloaded = 0;\n",
              "\n",
              "      const channel = await google.colab.kernel.comms.open(id);\n",
              "      // Send a message to notify the kernel that we're ready.\n",
              "      channel.send({})\n",
              "\n",
              "      for await (const message of channel.messages) {\n",
              "        // Send a message to notify the kernel that we're ready.\n",
              "        channel.send({})\n",
              "        if (message.buffers) {\n",
              "          for (const buffer of message.buffers) {\n",
              "            buffers.push(buffer);\n",
              "            downloaded += buffer.byteLength;\n",
              "            progress.value = downloaded;\n",
              "          }\n",
              "        }\n",
              "      }\n",
              "      const blob = new Blob(buffers, {type: 'application/binary'});\n",
              "      const a = document.createElement('a');\n",
              "      a.href = window.URL.createObjectURL(blob);\n",
              "      a.download = filename;\n",
              "      div.appendChild(a);\n",
              "      a.click();\n",
              "      div.remove();\n",
              "    }\n",
              "  "
            ]
          },
          "metadata": {}
        },
        {
          "output_type": "display_data",
          "data": {
            "text/plain": [
              "<IPython.core.display.Javascript object>"
            ],
            "application/javascript": [
              "download(\"download_d08e6dc5-868c-443c-8928-d99bc599ab70\", \"minimum-duration-days.tsv\", 210)"
            ]
          },
          "metadata": {}
        }
      ]
    },
    {
      "cell_type": "markdown",
      "metadata": {
        "id": "SVApozXF_pjI"
      },
      "source": [
        "Submit \"minimum-duration-days.tsv\" in Gradescope."
      ]
    },
    {
      "cell_type": "markdown",
      "metadata": {
        "id": "Znw87KK7_uv5"
      },
      "source": [
        "## Part 7: Speed vs Pampering\n",
        "\n",
        "Compute the expected discomfort using the policy to minimize days sick, and compare the results to the expected discomfort when optimizing to minimize discomfort."
      ]
    },
    {
      "cell_type": "code",
      "execution_count": 29,
      "metadata": {
        "id": "0AdnpD-6__y5"
      },
      "outputs": [],
      "source": [
        "# YOUR CHANGES HERE\n",
        "# --- helper functions (same style as the videos) ---\n",
        "def compute_qT_once(R, P, gamma, v):\n",
        "    return R + gamma * (P @ v)\n",
        "\n",
        "def iterate_values_once(R, P, gamma, v):\n",
        "    return np.max(compute_qT_once(R, P, gamma, v), axis=0)\n",
        "\n",
        "def value_iteration(R, P, gamma, max_iterations=20000, tolerance=1e-9):\n",
        "    v_old = np.zeros(R.shape[-1])\n",
        "    for _ in range(max_iterations):\n",
        "        v_new = iterate_values_once(R, P, gamma, v_old)\n",
        "        if np.max(np.abs(v_new - v_old)) < tolerance:\n",
        "            return v_new\n",
        "        v_old = v_new\n",
        "    return v_old\n",
        "\n",
        "def iterative_policy_evaluation(R, P, gamma, pi, max_iterations=20000, tolerance=1e-9, warmstart=None):\n",
        "    n = R.shape[-1]\n",
        "    R_pi = R[pi, np.arange(n)]\n",
        "    P_pi = P[pi, np.arange(n), :]\n",
        "    R_pi = R_pi.reshape(1, *R_pi.shape)\n",
        "    P_pi = P_pi.reshape(1, *P_pi.shape)\n",
        "    v_old = warmstart if warmstart is not None else np.zeros(n)\n",
        "    for _ in range(max_iterations):\n",
        "        v_new = iterate_values_once(R_pi, P_pi, gamma, v_old)\n",
        "        if np.max(np.abs(v_new - v_old)) < tolerance:\n",
        "            return v_new\n",
        "        v_old = v_new\n",
        "    return v_old\n",
        "\n",
        "# --- build actions, states, mappings, R and P arrays ---\n",
        "actions = sorted(df_rewards['action'].unique(), key=str)\n",
        "states = sorted(pd.unique(pd.concat([df_rewards['state'],\n",
        "                                     df_transitions['state'],\n",
        "                                     df_transitions['next_state']])), key=str)\n",
        "\n",
        "a2i = {a:i for i,a in enumerate(actions)}\n",
        "s2i = {s:i for i,s in enumerate(states)}\n",
        "nA = len(actions)\n",
        "nS = len(states)\n",
        "\n",
        "# R: (nA, nS)\n",
        "R = np.zeros((nA, nS), dtype=float)\n",
        "for _, row in df_rewards.iterrows():\n",
        "    R[a2i[row['action']], s2i[row['state']]] = float(row['reward'])\n",
        "\n",
        "# P: (nA, nS, nS)\n",
        "P = np.zeros((nA, nS, nS), dtype=float)\n",
        "expected_cols = {'action','state','next_state','probability'}\n",
        "if not expected_cols.issubset(set(df_transitions.columns)):\n",
        "    raise RuntimeError(\"df_transitions missing expected columns: action,state,next_state,probability\")\n",
        "for _, row in df_transitions.iterrows():\n",
        "    P[a2i[row['action']], s2i[row['state']], s2i[row['next_state']]] = float(row['probability'])\n",
        "\n",
        "# --- gamma handling: use 0.999 for numerical stability if gamma==1 requested conceptually ---\n",
        "gamma = 1.0\n",
        "gamma_to_use = 0.999 if gamma == 1.0 else gamma\n",
        "\n",
        "# --- build duration reward (R_duration): -1 for any 'sick' state, 0 for healthy states ---\n",
        "healthy_substrings = [\"recover\", \"done\", \"healthy\", \"well\", \"term\", \"terminal\", \"recovered\"]\n",
        "is_healthy = np.array([any(sub in s.lower() for sub in healthy_substrings) for s in states])\n",
        "R_duration = np.zeros((nA, nS), dtype=float)\n",
        "R_duration[:, ~is_healthy] = -1.0   # sick states\n",
        "R_duration[:, is_healthy]  = 0.0   # healthy states\n",
        "\n",
        "# -------------------------\n",
        "# 1) Compute policy that minimizes discomfort (original reward R)\n",
        "# -------------------------\n",
        "v_star_discomfort = value_iteration(R, P, gamma_to_use)\n",
        "qT_discomfort = compute_qT_once(R, P, gamma_to_use, v_star_discomfort)\n",
        "pi_discomfort_idx = np.argmax(qT_discomfort, axis=0)   # action index per state (greedy)\n",
        "# evaluate that policy under the original reward R to get values\n",
        "v_pi_discomfort = iterative_policy_evaluation(R, P, gamma_to_use, pi_discomfort_idx)\n",
        "# expected discomfort (note: rewards in df_rewards are \"negative discomfort\" style; if rewards are negative discomfort,\n",
        "# then expected discomfort = -v; if rewards are already positive discomfort, skip the negation.)\n",
        "expected_discomfort_minimize = -v_pi_discomfort\n",
        "\n",
        "# -------------------------\n",
        "# 2) Compute policy that minimizes duration (using R_duration)\n",
        "# -------------------------\n",
        "v_star_duration = value_iteration(R_duration, P, gamma_to_use)\n",
        "qT_duration = compute_qT_once(R_duration, P, gamma_to_use, v_star_duration)\n",
        "pi_duration_idx = np.argmax(qT_duration, axis=0)\n",
        "# evaluate that *duration-minimizing policy* under the original discomfort reward R to find its expected discomfort\n",
        "v_pi_duration_under_R = iterative_policy_evaluation(R, P, gamma_to_use, pi_duration_idx)\n",
        "expected_discomfort_speed = -v_pi_duration_under_R\n",
        "\n",
        "\n"
      ]
    },
    {
      "cell_type": "markdown",
      "metadata": {
        "id": "M3ZVJ2lcAAkP"
      },
      "source": [
        "Save the results to a file \"policy-comparison.tsv\" with columns state, speed_discomfort, and minimize_discomfort."
      ]
    },
    {
      "cell_type": "code",
      "execution_count": 30,
      "metadata": {
        "id": "9H9EG0zTAMt1",
        "colab": {
          "base_uri": "https://localhost:8080/"
        },
        "outputId": "94b2a454-0bb2-42bb-8d62-2df7a166c382"
      },
      "outputs": [
        {
          "output_type": "stream",
          "name": "stdout",
          "text": [
            "Wrote policy-comparison.tsv. Sample:\n",
            "        state  speed_discomfort  minimize_discomfort\n",
            "0   exposed-1          0.826147             0.742546\n",
            "1   exposed-2          1.653949             1.486578\n",
            "2   exposed-3          3.311209             2.976131\n",
            "3   recovered         -0.000000            -0.000000\n",
            "4  symptoms-1          6.629047             5.958221\n",
            "5  symptoms-2          4.982831             4.480576\n",
            "6  symptoms-3          1.662787             1.495513\n"
          ]
        }
      ],
      "source": [
        "# YOUR CHANGES HERE\n",
        "\n",
        "df_compare = pd.DataFrame({\n",
        "    'state': states,\n",
        "    'speed_discomfort': expected_discomfort_speed,\n",
        "    'minimize_discomfort': expected_discomfort_minimize\n",
        "})\n",
        "df_compare.to_csv(\"policy-comparison.tsv\", sep=\"\\t\", index=False)\n",
        "print(\"Wrote policy-comparison.tsv. Sample:\")\n",
        "print(df_compare)\n"
      ]
    },
    {
      "cell_type": "code",
      "source": [
        "files.download(\"policy-comparison.tsv\")"
      ],
      "metadata": {
        "colab": {
          "base_uri": "https://localhost:8080/",
          "height": 17
        },
        "id": "SKd8YSpx_VEE",
        "outputId": "282b3ddf-28d2-40d8-e3a3-303af41285ec"
      },
      "execution_count": 31,
      "outputs": [
        {
          "output_type": "display_data",
          "data": {
            "text/plain": [
              "<IPython.core.display.Javascript object>"
            ],
            "application/javascript": [
              "\n",
              "    async function download(id, filename, size) {\n",
              "      if (!google.colab.kernel.accessAllowed) {\n",
              "        return;\n",
              "      }\n",
              "      const div = document.createElement('div');\n",
              "      const label = document.createElement('label');\n",
              "      label.textContent = `Downloading \"${filename}\": `;\n",
              "      div.appendChild(label);\n",
              "      const progress = document.createElement('progress');\n",
              "      progress.max = size;\n",
              "      div.appendChild(progress);\n",
              "      document.body.appendChild(div);\n",
              "\n",
              "      const buffers = [];\n",
              "      let downloaded = 0;\n",
              "\n",
              "      const channel = await google.colab.kernel.comms.open(id);\n",
              "      // Send a message to notify the kernel that we're ready.\n",
              "      channel.send({})\n",
              "\n",
              "      for await (const message of channel.messages) {\n",
              "        // Send a message to notify the kernel that we're ready.\n",
              "        channel.send({})\n",
              "        if (message.buffers) {\n",
              "          for (const buffer of message.buffers) {\n",
              "            buffers.push(buffer);\n",
              "            downloaded += buffer.byteLength;\n",
              "            progress.value = downloaded;\n",
              "          }\n",
              "        }\n",
              "      }\n",
              "      const blob = new Blob(buffers, {type: 'application/binary'});\n",
              "      const a = document.createElement('a');\n",
              "      a.href = window.URL.createObjectURL(blob);\n",
              "      a.download = filename;\n",
              "      div.appendChild(a);\n",
              "      a.click();\n",
              "      div.remove();\n",
              "    }\n",
              "  "
            ]
          },
          "metadata": {}
        },
        {
          "output_type": "display_data",
          "data": {
            "text/plain": [
              "<IPython.core.display.Javascript object>"
            ],
            "application/javascript": [
              "download(\"download_636c85d7-600f-4a5f-a7dd-f0617236b70d\", \"policy-comparison.tsv\", 344)"
            ]
          },
          "metadata": {}
        }
      ]
    },
    {
      "cell_type": "markdown",
      "metadata": {
        "id": "EVhLZuuaANNf"
      },
      "source": [
        "Submit \"policy-comparison.tsv\" in Gradescope."
      ]
    },
    {
      "cell_type": "markdown",
      "metadata": {
        "id": "smsTLuFcvR-I"
      },
      "source": [
        "## Part 8: Code\n",
        "\n",
        "Please submit a Jupyter notebook that can reproduce all your calculations and recreate the previously submitted files."
      ]
    },
    {
      "cell_type": "markdown",
      "metadata": {
        "id": "zi8lV2pbvWMs"
      },
      "source": [
        "## Part 9: Acknowledgements\n",
        "\n",
        "If you discussed this assignment with anyone, please acknowledge them here.\n",
        "If you did this assignment completely on your own, simply write none below.\n",
        "\n",
        "If you used any libraries not mentioned in this module's content, please list them with a brief explanation what you used them for. If you did not use any other libraries, simply write none below.\n",
        "\n",
        "If you used any generative AI tools, please add links to your transcripts below, and any other information that you feel is necessary to comply with the generative AI policy. If you did not use any generative AI tools, simply write none below."
      ]
    }
  ],
  "metadata": {
    "colab": {
      "provenance": [],
      "gpuType": "A100",
      "include_colab_link": true
    },
    "kernelspec": {
      "display_name": "Python 3",
      "name": "python3"
    },
    "language_info": {
      "codemirror_mode": {
        "name": "ipython",
        "version": 3
      },
      "file_extension": ".py",
      "mimetype": "text/x-python",
      "name": "python",
      "nbconvert_exporter": "python",
      "pygments_lexer": "ipython3",
      "version": "3.9.6"
    }
  },
  "nbformat": 4,
  "nbformat_minor": 0
}