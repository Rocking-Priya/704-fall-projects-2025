{
  "cells": [
    {
      "cell_type": "markdown",
      "metadata": {
        "id": "view-in-github",
        "colab_type": "text"
      },
      "source": [
        "<a href=\"https://colab.research.google.com/github/Rocking-Priya/704-fall-projects-2025/blob/main/project_(4).ipynb\" target=\"_parent\"><img src=\"https://colab.research.google.com/assets/colab-badge.svg\" alt=\"Open In Colab\"/></a>"
      ]
    },
    {
      "cell_type": "markdown",
      "metadata": {
        "id": "Md413FzAvFD8"
      },
      "source": [
        "# DX 704 Week 7 Project\n",
        "This week's project will investigate issues in a quadcopter controller based using a linear quadratic regulator.\n",
        "You will start with an existing model of the system and logs from a quadcopter based on it, investigate discrepancies, and ultimately train a new model of the system dynamics."
      ]
    },
    {
      "cell_type": "markdown",
      "metadata": {
        "id": "PTIhFidP-KvD"
      },
      "source": [
        "The full project description and a template notebook are available on GitHub: [Project 7 Materials](https://github.com/bu-cds-dx704/dx704-project-07).\n"
      ]
    },
    {
      "cell_type": "markdown",
      "metadata": {
        "id": "52eGFDLZdsBy"
      },
      "source": [
        "## Example Code\n",
        "\n",
        "You may find it helpful to refer to these GitHub repositories of Jupyter notebooks for example code.\n",
        "\n",
        "* https://github.com/bu-cds-omds/dx601-examples\n",
        "* https://github.com/bu-cds-omds/dx602-examples\n",
        "* https://github.com/bu-cds-omds/dx603-examples\n",
        "* https://github.com/bu-cds-omds/dx704-examples\n",
        "\n",
        "Any calculations demonstrated in code examples or videos may be found in these notebooks, and you are allowed to copy this example code in your homework answers."
      ]
    },
    {
      "cell_type": "markdown",
      "metadata": {
        "id": "d7IKpQFK_AGF"
      },
      "source": [
        "## Introduction\n",
        "\n",
        "You've just joined a drone startup.\n",
        "On your first day, you join your new team to watch a test flight for a new quadcopter prototype.\n",
        "Watching the prototype fly, the team comments that it is not as smooth as usual and suspects that something is off in the controller.\n",
        "They provide you a copy of the dynamics model and log data from the prototype to investigate."
      ]
    },
    {
      "cell_type": "markdown",
      "metadata": {
        "id": "_Ks7EK6h3ktC"
      },
      "source": [
        "The quadcopter control model is a slightly more sophisticated version of the 1D quadcopter problem previously considered.\n",
        "\n",
        "The state vector $\\mathbf{x}_t$ now includes an acceleration component, and the action vector now has a servo control for the throttle instead of a raw force component.\n",
        "\\begin{array}{rcl}\n",
        "\\mathbf{x}_t & = & \\begin{bmatrix} x_t \\\\ v_t \\\\ a_t \\end{bmatrix} \\\\\n",
        "\\mathbf{u_t} & = & \\begin{bmatrix} u_t \\end{bmatrix}\n",
        "\\end{array}"
      ]
    },
    {
      "cell_type": "markdown",
      "metadata": {
        "id": "C8oSLkMqvMFF"
      },
      "source": [
        "## Part 1: Reconstruct the Control Matrix\n",
        "\n",
        "You are provided the dynamics model in the files `model-A.tsv`, `model-B.tsv`, `cost-Q.tsv` and `cost-R.tsv`.\n",
        "Recompute the control matrix $\\mathbf{K}$ to be used in the infinite horizon linear quadratic regulator problem."
      ]
    },
    {
      "cell_type": "code",
      "source": [
        "%pip install -q control"
      ],
      "metadata": {
        "colab": {
          "base_uri": "https://localhost:8080/"
        },
        "id": "eESzkutuMFwX",
        "outputId": "5367d83e-d7be-4dad-e450-e97d45736af2"
      },
      "execution_count": 2,
      "outputs": [
        {
          "output_type": "stream",
          "name": "stdout",
          "text": [
            "\u001b[?25l   \u001b[90m━━━━━━━━━━━━━━━━━━━━━━━━━━━━━━━━━━━━━━━━\u001b[0m \u001b[32m0.0/578.3 kB\u001b[0m \u001b[31m?\u001b[0m eta \u001b[36m-:--:--\u001b[0m\r\u001b[2K   \u001b[91m━━━━━━\u001b[0m\u001b[90m╺\u001b[0m\u001b[90m━━━━━━━━━━━━━━━━━━━━━━━━━━━━━━━━━\u001b[0m \u001b[32m92.2/578.3 kB\u001b[0m \u001b[31m2.7 MB/s\u001b[0m eta \u001b[36m0:00:01\u001b[0m\r\u001b[2K   \u001b[91m━━━━━━━━━━━━━━━━━━━━━\u001b[0m\u001b[90m╺\u001b[0m\u001b[90m━━━━━━━━━━━━━━━━━━\u001b[0m \u001b[32m307.2/578.3 kB\u001b[0m \u001b[31m4.4 MB/s\u001b[0m eta \u001b[36m0:00:01\u001b[0m\r\u001b[2K   \u001b[90m━━━━━━━━━━━━━━━━━━━━━━━━━━━━━━━━━━━━━━━━\u001b[0m \u001b[32m578.3/578.3 kB\u001b[0m \u001b[31m5.7 MB/s\u001b[0m eta \u001b[36m0:00:00\u001b[0m\n",
            "\u001b[?25h"
          ]
        }
      ]
    },
    {
      "cell_type": "code",
      "source": [
        "import numpy as np\n",
        "import pandas as pd\n",
        "import control\n",
        "from scipy.linalg import solve_discrete_are"
      ],
      "metadata": {
        "id": "ww45mp5tRN3r"
      },
      "execution_count": 24,
      "outputs": []
    },
    {
      "cell_type": "code",
      "source": [
        "A_df = pd.read_csv('model-A.tsv', sep='\\t', header=None)\n",
        "B_df = pd.read_csv('model-B.tsv', sep='\\t', header=None)  # YOUR CHANGES HERE\n",
        "Q_df = pd.read_csv('cost-Q.tsv', sep='\\t', header=None)\n",
        "R_df = pd.read_csv('cost-R.tsv', sep='\\t', header=None)\n"
      ],
      "metadata": {
        "id": "8pLOo4VXRRXZ"
      },
      "execution_count": 19,
      "outputs": []
    },
    {
      "cell_type": "code",
      "source": [
        "print(A_df)\n",
        "print(B_df)\n",
        "print(Q_df)\n",
        "print(R_df)"
      ],
      "metadata": {
        "colab": {
          "base_uri": "https://localhost:8080/"
        },
        "id": "I__fw9C1Rl2r",
        "outputId": "73338231-18b2-4afd-aefd-8f8c29a83ab0"
      },
      "execution_count": 21,
      "outputs": [
        {
          "output_type": "stream",
          "name": "stdout",
          "text": [
            "       0  1  2  3\n",
            "0  index  x  v  a\n",
            "1      x  1  1  0\n",
            "2      v  0  1  1\n",
            "3      a  0  0  1\n",
            "       0  1\n",
            "0  index  u\n",
            "1      x  0\n",
            "2      v  0\n",
            "3      a  1\n",
            "       0  1  2  3\n",
            "0  index  x  v  a\n",
            "1      x  5  0  0\n",
            "2      v  0  1  0\n",
            "3      a  0  0  2\n",
            "       0  1\n",
            "0  index  u\n",
            "1      u  5\n"
          ]
        }
      ]
    },
    {
      "cell_type": "code",
      "source": [
        "#Drop the first row and first column which are the textual index/header in your files\n",
        "#    and convert to numeric numpy arrays.\n",
        "A = A_df.iloc[1:, 1:].astype(float).values    # shape (n, n)\n",
        "B = B_df.iloc[1:, 1:].astype(float).values    # shape (n, m)\n",
        "Q = Q_df.iloc[1:, 1:].astype(float).values    # shape (n, n)\n",
        "R = R_df.iloc[1:, 1:].astype(float).values    # shape (m, m)"
      ],
      "metadata": {
        "id": "N9AmU0f9Sm0q"
      },
      "execution_count": 22,
      "outputs": []
    },
    {
      "cell_type": "code",
      "source": [
        "print(\"Shapes: A\", A.shape, \"B\", B.shape, \"Q\", Q.shape, \"R\", R.shape)"
      ],
      "metadata": {
        "colab": {
          "base_uri": "https://localhost:8080/"
        },
        "id": "WjBya7faS8uE",
        "outputId": "a1abad88-d9b5-4d23-e0e0-31e7f3a11d8f"
      },
      "execution_count": 23,
      "outputs": [
        {
          "output_type": "stream",
          "name": "stdout",
          "text": [
            "Shapes: A (3, 3) B (3, 1) Q (3, 3) R (1, 1)\n"
          ]
        }
      ]
    },
    {
      "cell_type": "code",
      "source": [
        "# 3) Solve the discrete Algebraic Riccati Equation (DARE)\n",
        "P = solve_discrete_are(A, B, Q, R)"
      ],
      "metadata": {
        "id": "eeomt6UpS-uI"
      },
      "execution_count": 25,
      "outputs": []
    },
    {
      "cell_type": "code",
      "source": [
        "# 4) Compute LQR gain K (discrete-time formula)\n",
        "#    K = (B' P B + R)^{-1} (B' P A)\n",
        "BT_P_B = B.T @ P @ B\n",
        "inv_term = np.linalg.inv(BT_P_B + R)   # R should be positive definite for stability/numerical reasons\n",
        "K = inv_term @ (B.T @ P @ A)"
      ],
      "metadata": {
        "id": "u3-AmYPuTKVU"
      },
      "execution_count": 26,
      "outputs": []
    },
    {
      "cell_type": "code",
      "source": [
        "print(\"\\nComputed K:\")\n",
        "print(K)"
      ],
      "metadata": {
        "colab": {
          "base_uri": "https://localhost:8080/"
        },
        "id": "rQBh8RgSTTAN",
        "outputId": "9dc327fb-bb35-4efc-c1dc-1a27117cc8f4"
      },
      "execution_count": 27,
      "outputs": [
        {
          "output_type": "stream",
          "name": "stdout",
          "text": [
            "\n",
            "Computed K:\n",
            "[[0.33445985 1.30445413 1.85813088]]\n"
          ]
        }
      ]
    },
    {
      "cell_type": "markdown",
      "metadata": {
        "id": "BDS1s6W9m5G1"
      },
      "source": [
        "Save $\\mathbf{K}$ in a file \"control-K-intended.tsv\" with columns x, v and a."
      ]
    },
    {
      "cell_type": "code",
      "execution_count": 28,
      "metadata": {
        "id": "heCP8JhgnEIC"
      },
      "outputs": [],
      "source": [
        "# YOUR CHANGES HERE\n",
        "K = pd.DataFrame(K, columns=['x', 'v', 'a'])\n",
        "K.to_csv('control-K-intended.tsv', sep='\\t', index=False)\n"
      ]
    },
    {
      "cell_type": "code",
      "source": [
        "from google.colab import files\n"
      ],
      "metadata": {
        "id": "t0rt9YTfTiPk"
      },
      "execution_count": 29,
      "outputs": []
    },
    {
      "cell_type": "code",
      "source": [
        "files.download('control-K-intended.tsv')"
      ],
      "metadata": {
        "colab": {
          "base_uri": "https://localhost:8080/",
          "height": 17
        },
        "id": "4aGsi57HToGW",
        "outputId": "901d3967-11b4-414b-d2b4-053bd3b0d0c0"
      },
      "execution_count": 30,
      "outputs": [
        {
          "output_type": "display_data",
          "data": {
            "text/plain": [
              "<IPython.core.display.Javascript object>"
            ],
            "application/javascript": [
              "\n",
              "    async function download(id, filename, size) {\n",
              "      if (!google.colab.kernel.accessAllowed) {\n",
              "        return;\n",
              "      }\n",
              "      const div = document.createElement('div');\n",
              "      const label = document.createElement('label');\n",
              "      label.textContent = `Downloading \"${filename}\": `;\n",
              "      div.appendChild(label);\n",
              "      const progress = document.createElement('progress');\n",
              "      progress.max = size;\n",
              "      div.appendChild(progress);\n",
              "      document.body.appendChild(div);\n",
              "\n",
              "      const buffers = [];\n",
              "      let downloaded = 0;\n",
              "\n",
              "      const channel = await google.colab.kernel.comms.open(id);\n",
              "      // Send a message to notify the kernel that we're ready.\n",
              "      channel.send({})\n",
              "\n",
              "      for await (const message of channel.messages) {\n",
              "        // Send a message to notify the kernel that we're ready.\n",
              "        channel.send({})\n",
              "        if (message.buffers) {\n",
              "          for (const buffer of message.buffers) {\n",
              "            buffers.push(buffer);\n",
              "            downloaded += buffer.byteLength;\n",
              "            progress.value = downloaded;\n",
              "          }\n",
              "        }\n",
              "      }\n",
              "      const blob = new Blob(buffers, {type: 'application/binary'});\n",
              "      const a = document.createElement('a');\n",
              "      a.href = window.URL.createObjectURL(blob);\n",
              "      a.download = filename;\n",
              "      div.appendChild(a);\n",
              "      a.click();\n",
              "      div.remove();\n",
              "    }\n",
              "  "
            ]
          },
          "metadata": {}
        },
        {
          "output_type": "display_data",
          "data": {
            "text/plain": [
              "<IPython.core.display.Javascript object>"
            ],
            "application/javascript": [
              "download(\"download_8ad25326-d070-4cf7-bd25-8f9acc68fb69\", \"control-K-intended.tsv\", 63)"
            ]
          },
          "metadata": {}
        }
      ]
    },
    {
      "cell_type": "markdown",
      "metadata": {
        "id": "emwSwtKjnG8y"
      },
      "source": [
        "Submit \"control-K-intended.tsv\" in Gradescope."
      ]
    },
    {
      "cell_type": "markdown",
      "metadata": {
        "id": "fqbtALHx_z7l"
      },
      "source": [
        "## Part 2: Recompute the Actions for the Logged States\n",
        "\n",
        "You get access to the log data for the prototype as the file \"qc-log.tsv\".\n",
        "It conveniently saves all the state and actions made.\n",
        "Recompute the actions based on your $\\mathbf{K}$ matrix computed in part 1."
      ]
    },
    {
      "cell_type": "code",
      "execution_count": 31,
      "metadata": {
        "id": "DsbCg2TjoFpp"
      },
      "outputs": [],
      "source": [
        "# YOUR CHANGES HERE\n",
        "qc_log = pd.read_csv('qc-log.tsv', sep='\\t')\n"
      ]
    },
    {
      "cell_type": "code",
      "source": [
        "print(qc_log)"
      ],
      "metadata": {
        "colab": {
          "base_uri": "https://localhost:8080/"
        },
        "id": "Ad1YahalUrMq",
        "outputId": "b2522b7f-9ae0-4abd-9758-f45ee104a43a"
      },
      "execution_count": 32,
      "outputs": [
        {
          "output_type": "stream",
          "name": "stdout",
          "text": [
            "    index             x             v             a             u\n",
            "0       0 -5.000000e+00  0.000000e+00  0.000000e+00  1.702188e+00\n",
            "1       1 -5.000000e+00 -1.702188e-02  1.531969e+00 -1.263200e+00\n",
            "2       2 -5.018724e+00  1.452683e+00  5.482855e-01 -1.249321e+00\n",
            "3       3 -3.420773e+00  1.840779e+00 -5.212749e-01 -2.121274e-01\n",
            "4       4 -1.395916e+00  1.163611e+00 -7.643170e-01  4.528954e-01\n",
            "..    ...           ...           ...           ...           ...\n",
            "95     95 -1.855920e-18  1.097460e-18 -1.592936e-19 -4.843645e-19\n",
            "96     96 -6.487133e-19  8.412290e-19 -6.111510e-19  3.189634e-19\n",
            "97     97  2.766386e-19  1.733230e-19 -3.851990e-19  4.316642e-19\n",
            "98     98  4.672940e-19 -2.142650e-19 -3.522116e-20  1.881712e-19\n",
            "99     99  2.316025e-19 -2.281803e-19  1.306108e-19 -3.689071e-20\n",
            "\n",
            "[100 rows x 5 columns]\n"
          ]
        }
      ]
    },
    {
      "cell_type": "code",
      "source": [
        "# compute_and_check_lqr.py\n",
        "\n",
        "from pathlib import Path\n",
        "from scipy.linalg import solve_discrete_are\n",
        "\n",
        "def load_numeric_block(path):\n",
        "    \"\"\"\n",
        "    Load a TSV that may contain textual header/index row/col.\n",
        "    Returns the largest numeric submatrix found by:\n",
        "      - reading everything as strings,\n",
        "      - converting to numeric with errors='coerce' (non-numeric -> NaN),\n",
        "      - dropping rows and columns that are all NaN,\n",
        "      - returning the remaining numeric values as np.array (float).\n",
        "    \"\"\"\n",
        "    df_raw = pd.read_csv(path, sep='\\t', header=None, dtype=str)\n",
        "    # convert all cells to numeric where possible\n",
        "    df_num = df_raw.applymap(lambda v: pd.to_numeric(v, errors='coerce'))\n",
        "    # drop rows and columns that are entirely NaN\n",
        "    df_num = df_num.dropna(axis=0, how='all').dropna(axis=1, how='all')\n",
        "    if df_num.size == 0:\n",
        "        raise ValueError(f\"No numeric data found in {path}\")\n",
        "    # Re-check: if first row or col are non-numeric labels that survived, we will still have numeric block.\n",
        "    return df_num.astype(float).values\n",
        "\n",
        "# --- Part 1: compute K and save control-K-intended.tsv ---\n",
        "A_path = Path(\"model-A.tsv\")\n",
        "B_path = Path(\"model-B.tsv\")\n",
        "Q_path = Path(\"cost-Q.tsv\")\n",
        "R_path = Path(\"cost-R.tsv\")\n",
        "\n",
        "if not (A_path.exists() and B_path.exists() and Q_path.exists() and R_path.exists()):\n",
        "    raise FileNotFoundError(\"One or more model files missing. Need: model-A.tsv, model-B.tsv, cost-Q.tsv, cost-R.tsv\")\n",
        "\n",
        "A = load_numeric_block(A_path)\n",
        "B = load_numeric_block(B_path)\n",
        "Q = load_numeric_block(Q_path)\n",
        "R = load_numeric_block(R_path)\n",
        "\n",
        "# Validate shapes\n",
        "n = A.shape[0]\n",
        "if A.shape != (n, n):\n",
        "    raise ValueError(f\"A must be square; got {A.shape}\")\n",
        "if B.shape[0] != n:\n",
        "    raise ValueError(f\"B must have same number of rows as A; got A{A.shape} B{B.shape}\")\n",
        "if Q.shape != (n, n):\n",
        "    raise ValueError(f\"Q must be {n}x{n}; got {Q.shape}\")\n",
        "if R.shape[0] != R.shape[1]:\n",
        "    raise ValueError(f\"R must be square; got {R.shape}\")\n",
        "\n",
        "# Solve DARE and compute discrete-time LQR gain K\n",
        "P = solve_discrete_are(A, B, Q, R)            # P\n",
        "K = np.linalg.inv(B.T @ P @ B + R) @ (B.T @ P @ A)  # shape (m, n)\n",
        "\n",
        "# Save K with columns named x, v, a (assumes state order is x, v, a)\n",
        "# If state dimension isn't 3, adjust column names accordingly.\n",
        "n_state = K.shape[1]\n",
        "colnames = ['x', 'v', 'a'][:n_state] if n_state <= 3 else [f\"s{i}\" for i in range(n_state)]\n",
        "K_df = pd.DataFrame(K, columns=colnames)\n",
        "K_df.to_csv('control-K-intended.tsv', sep='\\t', index=False, float_format='%.12g')\n",
        "print(\"Saved control-K-intended.tsv:\")\n",
        "print(K_df.to_string(index=False))\n",
        "\n",
        "# --- Part 2: recompute actions for logged states ---\n",
        "qc_log_path = Path(\"qc-log.tsv\")\n",
        "if not qc_log_path.exists():\n",
        "    raise FileNotFoundError(\"qc-log.tsv not found. Please place the log file in the same folder.\")\n",
        "\n",
        "qc_log = pd.read_csv(qc_log_path, sep='\\t')  # assume standard csv with header row\n",
        "print(\"\\nqc-log columns:\", qc_log.columns.tolist())\n",
        "\n",
        "# Find state columns - try common names 'x','v','a'. If not there, guess numeric columns after 'index'.\n",
        "expected_state_cols = ['x', 'v', 'a']\n",
        "if set(expected_state_cols).issubset(qc_log.columns):\n",
        "    state_cols = expected_state_cols\n",
        "else:\n",
        "    # fallback: take numeric columns excluding 'u' and 'index' if present\n",
        "    numeric_cols = [c for c in qc_log.columns if np.issubdtype(qc_log[c].dtype, np.number)]\n",
        "    # try to pick first three numeric columns as states\n",
        "    if len(numeric_cols) >= 3:\n",
        "        # prefer column names that look like x,v,a\n",
        "        state_cols = numeric_cols[:3]\n",
        "    else:\n",
        "        raise ValueError(\"Could not identify state columns (x, v, a) in qc-log.tsv. Columns: \" + \", \".join(qc_log.columns))\n",
        "\n",
        "states = qc_log[state_cols].astype(float).values  # shape (N, n_state)\n",
        "\n",
        "# Ensure K matches state dimension\n",
        "if K.shape[1] != states.shape[1]:\n",
        "    raise ValueError(f\"Dimension mismatch: K has {K.shape[1]} cols but log states have {states.shape[1]} entries.\")\n",
        "\n",
        "# Compute u_check = -K @ x_t for each row\n",
        "u_check_vals = - (K @ states.T).T   # shape (N, m)\n",
        "# For single-action controllers, flatten\n",
        "if u_check_vals.shape[1] == 1:\n",
        "    u_check_flat = u_check_vals.ravel()\n",
        "else:\n",
        "    # If multiple actions, we save the first column (or you can save all columns).\n",
        "    u_check_flat = u_check_vals[:, 0]\n",
        "    print(\"Warning: multiple action outputs from K; saving first output as u_check.\")\n",
        "\n",
        "\n",
        "# Optional comparison if logged 'u' exists\n",
        "if 'u' in qc_log.columns:\n",
        "    logged_u = qc_log['u'].astype(float).values\n",
        "    if len(logged_u) == len(u_check_flat):\n",
        "        diffs = logged_u - u_check_flat\n",
        "        rmse = np.sqrt(np.mean(diffs**2))\n",
        "        mean_abs = np.mean(np.abs(diffs))\n",
        "        print(f\"\\nComparison with logged 'u': RMSE = {rmse:.6g}, mean abs diff = {mean_abs:.6g}\")\n",
        "    else:\n",
        "        print(\"Logged 'u' present but length mismatch; skipped comparison.\")\n",
        "\n",
        "# Quick closed-loop eigenvalues check\n",
        "Acl = A - B @ K\n",
        "eigvals = np.linalg.eigvals(Acl)\n",
        "print(\"\\nClosed-loop eigenvalues (A - B K):\", eigvals)\n",
        "print(\"Magnitudes:\", np.abs(eigvals))\n",
        "if np.all(np.abs(eigvals) < 1.0):\n",
        "    print(\"Closed-loop (discrete) is stable (all |eig| < 1).\")\n",
        "else:\n",
        "    print(\"Warning: closed-loop may be unstable (some |eig| >= 1).\")\n"
      ],
      "metadata": {
        "colab": {
          "base_uri": "https://localhost:8080/"
        },
        "id": "1cOh7YncXzI1",
        "outputId": "917b7de6-8ec4-4c80-8f67-2543d4c8a8c9"
      },
      "execution_count": 37,
      "outputs": [
        {
          "output_type": "stream",
          "name": "stdout",
          "text": [
            "Saved control-K-intended.tsv:\n",
            "      x        v        a\n",
            "0.33446 1.304454 1.858131\n",
            "\n",
            "qc-log columns: ['index', 'x', 'v', 'a', 'u']\n",
            "\n",
            "Comparison with logged 'u': RMSE = 0.0168146, mean abs diff = 0.0038978\n",
            "\n",
            "Closed-loop eigenvalues (A - B K): [0.36935751+0.j         0.3862558 +0.39200236j 0.3862558 -0.39200236j]\n",
            "Magnitudes: [0.36935751 0.55032663 0.55032663]\n",
            "Closed-loop (discrete) is stable (all |eig| < 1).\n"
          ]
        },
        {
          "output_type": "stream",
          "name": "stderr",
          "text": [
            "/tmp/ipython-input-3740110411.py:17: FutureWarning: DataFrame.applymap has been deprecated. Use DataFrame.map instead.\n",
            "  df_num = df_raw.applymap(lambda v: pd.to_numeric(v, errors='coerce'))\n",
            "/tmp/ipython-input-3740110411.py:17: FutureWarning: DataFrame.applymap has been deprecated. Use DataFrame.map instead.\n",
            "  df_num = df_raw.applymap(lambda v: pd.to_numeric(v, errors='coerce'))\n",
            "/tmp/ipython-input-3740110411.py:17: FutureWarning: DataFrame.applymap has been deprecated. Use DataFrame.map instead.\n",
            "  df_num = df_raw.applymap(lambda v: pd.to_numeric(v, errors='coerce'))\n",
            "/tmp/ipython-input-3740110411.py:17: FutureWarning: DataFrame.applymap has been deprecated. Use DataFrame.map instead.\n",
            "  df_num = df_raw.applymap(lambda v: pd.to_numeric(v, errors='coerce'))\n"
          ]
        }
      ]
    },
    {
      "cell_type": "markdown",
      "metadata": {
        "id": "6Z2gHEGBoIjL"
      },
      "source": [
        "Save your computed actions as \"qc-check.tsv\" with columns \"index\" and \"u_check\"."
      ]
    },
    {
      "cell_type": "code",
      "execution_count": 38,
      "metadata": {
        "id": "vbyMYtMLoS72",
        "colab": {
          "base_uri": "https://localhost:8080/"
        },
        "outputId": "946bf3ce-ccc0-479d-9b52-5a83143da092"
      },
      "outputs": [
        {
          "output_type": "stream",
          "name": "stdout",
          "text": [
            "\n",
            "Saved qc-check.tsv (index, u_check)\n"
          ]
        }
      ],
      "source": [
        "# YOUR CHANGES HERE\n",
        "# Build result dataframe\n",
        "out_df = pd.DataFrame({\n",
        "    'index': qc_log['index'] if 'index' in qc_log.columns else np.arange(len(qc_log)),\n",
        "    'u_check': u_check_flat\n",
        "})\n",
        "out_df.to_csv('qc-check.tsv', sep='\\t', index=False, float_format='%.12g')\n",
        "print(\"\\nSaved qc-check.tsv (index, u_check)\")\n"
      ]
    },
    {
      "cell_type": "code",
      "source": [
        "files.download('qc-check.tsv')"
      ],
      "metadata": {
        "colab": {
          "base_uri": "https://localhost:8080/",
          "height": 17
        },
        "id": "vdyw_MWTYhSz",
        "outputId": "e04e45a4-cee3-4f6b-fc57-5dbd4fb3e105"
      },
      "execution_count": 39,
      "outputs": [
        {
          "output_type": "display_data",
          "data": {
            "text/plain": [
              "<IPython.core.display.Javascript object>"
            ],
            "application/javascript": [
              "\n",
              "    async function download(id, filename, size) {\n",
              "      if (!google.colab.kernel.accessAllowed) {\n",
              "        return;\n",
              "      }\n",
              "      const div = document.createElement('div');\n",
              "      const label = document.createElement('label');\n",
              "      label.textContent = `Downloading \"${filename}\": `;\n",
              "      div.appendChild(label);\n",
              "      const progress = document.createElement('progress');\n",
              "      progress.max = size;\n",
              "      div.appendChild(progress);\n",
              "      document.body.appendChild(div);\n",
              "\n",
              "      const buffers = [];\n",
              "      let downloaded = 0;\n",
              "\n",
              "      const channel = await google.colab.kernel.comms.open(id);\n",
              "      // Send a message to notify the kernel that we're ready.\n",
              "      channel.send({})\n",
              "\n",
              "      for await (const message of channel.messages) {\n",
              "        // Send a message to notify the kernel that we're ready.\n",
              "        channel.send({})\n",
              "        if (message.buffers) {\n",
              "          for (const buffer of message.buffers) {\n",
              "            buffers.push(buffer);\n",
              "            downloaded += buffer.byteLength;\n",
              "            progress.value = downloaded;\n",
              "          }\n",
              "        }\n",
              "      }\n",
              "      const blob = new Blob(buffers, {type: 'application/binary'});\n",
              "      const a = document.createElement('a');\n",
              "      a.href = window.URL.createObjectURL(blob);\n",
              "      a.download = filename;\n",
              "      div.appendChild(a);\n",
              "      a.click();\n",
              "      div.remove();\n",
              "    }\n",
              "  "
            ]
          },
          "metadata": {}
        },
        {
          "output_type": "display_data",
          "data": {
            "text/plain": [
              "<IPython.core.display.Javascript object>"
            ],
            "application/javascript": [
              "download(\"download_fa9ab9d4-68c5-444d-bbb2-063cfd165224\", \"qc-check.tsv\", 2106)"
            ]
          },
          "metadata": {}
        }
      ]
    },
    {
      "cell_type": "markdown",
      "metadata": {
        "id": "PDCUyNOfoUzm"
      },
      "source": [
        "Submit \"qc-check.tsv\" in Gradescope."
      ]
    },
    {
      "cell_type": "markdown",
      "metadata": {
        "id": "7Z20uZNHABA-"
      },
      "source": [
        "## Part 3: Reverse Engineer the Actual Control Matrix\n",
        "\n",
        "Now that you have found a systematic difference between your computed actions and the logged actions, estimate $\n",
        "$, the control matrix that was actually used to choose actions in the prototype."
      ]
    },
    {
      "cell_type": "markdown",
      "metadata": {
        "id": "lGoHdtel2iVm"
      },
      "source": [
        "Hint: With a linear quadratic regulator, the optimal actions are always linear combinations of the state that are calculated using the control matrix.\n",
        "You can use linear regression to reverse-engineer the coefficients in the control matrix."
      ]
    },
    {
      "cell_type": "code",
      "execution_count": 43,
      "metadata": {
        "id": "Ab7XnMej21RN",
        "colab": {
          "base_uri": "https://localhost:8080/"
        },
        "outputId": "e3ab5c4d-db1a-4ebb-f5a9-fda215d05430"
      },
      "outputs": [
        {
          "output_type": "stream",
          "name": "stdout",
          "text": [
            "Estimated linear coefficients beta (for u ≈ X @ beta):\n",
            "[-0.34043755 -1.30012023 -1.95011696]\n",
            "\n",
            "Derived K_actual = -beta^T:\n",
            "[[0.34043755 1.30012023 1.95011696]]\n",
            "\n",
            "Fit diagnostics: RMSE = 1.12043e-16, MAE = 3.08966e-17, rank = 3\n"
          ]
        }
      ],
      "source": [
        "# YOUR CHANGES HERE\n",
        "\n",
        "# --- helper: load K_intended if present (optional) ---\n",
        "def load_K_intended(path=\"control-K-intended.tsv\"):\n",
        "    p = Path(path)\n",
        "    if not p.exists():\n",
        "        return None\n",
        "    df = pd.read_csv(p, sep='\\t')\n",
        "    return df.values  # shape (m, n)\n",
        "\n",
        "# --- 1) load qc-log ---\n",
        "qc_path = Path(\"qc-log.tsv\")\n",
        "if not qc_path.exists():\n",
        "    raise FileNotFoundError(\"qc-log.tsv not found. Place the log file here.\")\n",
        "\n",
        "qc = pd.read_csv(qc_path, sep='\\t')\n",
        "# Expect 'index', 'x', 'v', 'a', 'u' columns (but attempt to be flexible)\n",
        "if not set(['x','v','a']).issubset(qc.columns):\n",
        "    raise ValueError(\"qc-log.tsv must contain columns 'x','v','a'.\")\n",
        "\n",
        "# Build design matrix X and target y\n",
        "X = qc[['x','v','a']].astype(float).values   # shape (N, 3)\n",
        "y = qc['u'].astype(float).values.reshape(-1, 1)  # shape (N, 1)\n",
        "\n",
        "# --- 2) solve linear least squares for beta in y ≈ X beta^T (here y = X @ beta + eps)\n",
        "# We want beta shape (3,1) such that y ≈ X @ beta\n",
        "beta, residuals, rank, s = np.linalg.lstsq(X, y, rcond=None)  # beta shape (3,1)\n",
        "\n",
        "# beta is coefficients so y ≈ X @ beta. LQR law is u = -K x -> beta = -K^T\n",
        "# So K_actual (shape (1,3)) = - beta.T\n",
        "K_actual = - beta.T  # shape (1, 3)\n",
        "\n",
        "print(\"Estimated linear coefficients beta (for u ≈ X @ beta):\")\n",
        "print(beta.ravel())\n",
        "print(\"\\nDerived K_actual = -beta^T:\")\n",
        "print(K_actual)\n",
        "\n",
        "# --- 3) Diagnostics: fit quality ---\n",
        "y_hat = X @ beta        # shape (N,1)\n",
        "residuals = (y - y_hat).ravel()\n",
        "rmse = np.sqrt(np.mean(residuals**2))\n",
        "mae = np.mean(np.abs(residuals))\n",
        "print(f\"\\nFit diagnostics: RMSE = {rmse:.6g}, MAE = {mae:.6g}, rank = {rank}\")\n",
        "\n"
      ]
    },
    {
      "cell_type": "markdown",
      "metadata": {
        "id": "M7zG_6NT23fq"
      },
      "source": [
        "Save $\\mathbf{K}_{\\mathrm{actual}}$ in \"control-K-actual.tsv\" with the same format as \"control-K-intended.tsv\"."
      ]
    },
    {
      "cell_type": "code",
      "source": [
        "K_df.to_csv('control-K-actual.tsv', sep='\\t', index=False, float_format='%.12g')"
      ],
      "metadata": {
        "id": "QF1Fl93ogTWO"
      },
      "execution_count": 48,
      "outputs": []
    },
    {
      "cell_type": "code",
      "execution_count": 46,
      "metadata": {
        "id": "hPAaZI3M3DKB",
        "colab": {
          "base_uri": "https://localhost:8080/"
        },
        "outputId": "0c1e9908-6fb6-4181-9c6f-a8823b0fa749"
      },
      "outputs": [
        {
          "output_type": "stream",
          "name": "stdout",
          "text": [
            "\n",
            "Saved actual-K.tsv:\n",
            "       x       v        a\n",
            "0.340438 1.30012 1.950117\n"
          ]
        }
      ],
      "source": [
        "# YOUR CHANGES HERE\n",
        "\n",
        "colnames = ['x','v','a']\n",
        "K_actual_df = pd.DataFrame(K_actual, columns=colnames)  # 1 x 3\n",
        "K_actual_df.to_csv('actual-K.tsv', sep='\\t', index=False, float_format='%.12g')\n",
        "print(\"\\nSaved actual-K.tsv:\")\n",
        "print(K_actual_df.to_string(index=False))\n"
      ]
    },
    {
      "cell_type": "code",
      "source": [
        "files.download('actual-K.tsv')"
      ],
      "metadata": {
        "colab": {
          "base_uri": "https://localhost:8080/",
          "height": 17
        },
        "id": "XKmbLo9RbNPx",
        "outputId": "0f0856d0-ef69-4ac7-fc1f-fb407102ddf7"
      },
      "execution_count": 47,
      "outputs": [
        {
          "output_type": "display_data",
          "data": {
            "text/plain": [
              "<IPython.core.display.Javascript object>"
            ],
            "application/javascript": [
              "\n",
              "    async function download(id, filename, size) {\n",
              "      if (!google.colab.kernel.accessAllowed) {\n",
              "        return;\n",
              "      }\n",
              "      const div = document.createElement('div');\n",
              "      const label = document.createElement('label');\n",
              "      label.textContent = `Downloading \"${filename}\": `;\n",
              "      div.appendChild(label);\n",
              "      const progress = document.createElement('progress');\n",
              "      progress.max = size;\n",
              "      div.appendChild(progress);\n",
              "      document.body.appendChild(div);\n",
              "\n",
              "      const buffers = [];\n",
              "      let downloaded = 0;\n",
              "\n",
              "      const channel = await google.colab.kernel.comms.open(id);\n",
              "      // Send a message to notify the kernel that we're ready.\n",
              "      channel.send({})\n",
              "\n",
              "      for await (const message of channel.messages) {\n",
              "        // Send a message to notify the kernel that we're ready.\n",
              "        channel.send({})\n",
              "        if (message.buffers) {\n",
              "          for (const buffer of message.buffers) {\n",
              "            buffers.push(buffer);\n",
              "            downloaded += buffer.byteLength;\n",
              "            progress.value = downloaded;\n",
              "          }\n",
              "        }\n",
              "      }\n",
              "      const blob = new Blob(buffers, {type: 'application/binary'});\n",
              "      const a = document.createElement('a');\n",
              "      a.href = window.URL.createObjectURL(blob);\n",
              "      a.download = filename;\n",
              "      div.appendChild(a);\n",
              "      a.click();\n",
              "      div.remove();\n",
              "    }\n",
              "  "
            ]
          },
          "metadata": {}
        },
        {
          "output_type": "display_data",
          "data": {
            "text/plain": [
              "<IPython.core.display.Javascript object>"
            ],
            "application/javascript": [
              "download(\"download_3dea6a3b-8d19-424e-9a9b-dc334029f64d\", \"actual-K.tsv\", 49)"
            ]
          },
          "metadata": {}
        }
      ]
    },
    {
      "cell_type": "markdown",
      "metadata": {
        "id": "EFmODg3W3D2u"
      },
      "source": [
        "Submit \"actual-K.tsv\" in Gradescope."
      ]
    },
    {
      "cell_type": "markdown",
      "metadata": {
        "id": "wSuXyz6LAYjK"
      },
      "source": [
        "## Part 4: Recompute the System Dynamics from the Log Data\n",
        "\n",
        "On further investigation, it turns out that the control matrix $\\mathbf{K}$ in the prototype was modified to compensate for state prediction errors.\n",
        "You would like to recompute the $\\mathbf{A}$ and $\\mathbf{B}$ matrices using the log data since they are used to predict the next states.\n",
        "However, since the action vector $\\mathbf{u}_t$ is linearly dependent on the state via $\\mathbf{u}_t=-\\mathbf{K} \\mathbf{x}_t$, you need a new data set so you can separate the effects of the $\\mathbf{A}$ and $\\mathbf{B}$ matrices.\n",
        "Your co-workers kindly provide a new file \"qc-train.tsv\" where noise was added to each action.\n",
        "Estimate the true $\\mathbf{A}$ and $\\mathbf{B}$ matrices based on this file."
      ]
    },
    {
      "cell_type": "code",
      "execution_count": 49,
      "metadata": {
        "id": "13UYre915olG"
      },
      "outputs": [],
      "source": [
        "# YOUR CHANGES HERE\n",
        "\n",
        "qc_train = pd.read_csv('qc-train.tsv', sep='\\t')"
      ]
    },
    {
      "cell_type": "code",
      "source": [
        "print(qc_train)"
      ],
      "metadata": {
        "colab": {
          "base_uri": "https://localhost:8080/"
        },
        "id": "T_0CZchWgzDX",
        "outputId": "3843a216-d795-4ada-aef4-e40d85a8ccc0"
      },
      "execution_count": 50,
      "outputs": [
        {
          "output_type": "stream",
          "name": "stdout",
          "text": [
            "    index         x         v         a         u\n",
            "0       0 -5.000000  0.000000  0.000000  1.729856\n",
            "1       1 -5.000000 -0.017299  1.556871 -1.311911\n",
            "2       2 -5.019028  1.476577  0.531837 -1.198850\n",
            "3       3 -3.394793  1.846154 -0.493944 -0.297565\n",
            "4       4 -1.364024  1.195267 -0.811147  0.472619\n",
            "..    ...       ...       ...       ...       ...\n",
            "95     95  0.089539 -0.162778  0.122030 -0.008091\n",
            "96     96 -0.089517 -0.030491  0.126952 -0.174120\n",
            "97     97 -0.123056  0.094904 -0.017061  0.038104\n",
            "98     98 -0.018662  0.068824  0.015527 -0.062828\n",
            "99     99  0.057045  0.077321 -0.039466 -0.015137\n",
            "\n",
            "[100 rows x 5 columns]\n"
          ]
        }
      ]
    },
    {
      "cell_type": "code",
      "source": [
        "# --- 1) load qc-train.tsv ---\n",
        "p = Path(\"qc-train.tsv\")\n",
        "if not p.exists():\n",
        "    raise FileNotFoundError(\"qc-train.tsv not found in working directory.\")\n",
        "\n",
        "df = pd.read_csv(p, sep='\\t')\n",
        "print(\"Columns found:\", df.columns.tolist())\n",
        "# Expect 'index','x','v','a','u' (but be flexible)\n",
        "required = ['x','v','a','u']\n",
        "if not set(['x','v','a']).issubset(df.columns):\n",
        "    # If headers are different, you may need to inspect df.head()\n",
        "    raise ValueError(\"qc-train.tsv must contain numeric columns for x, v, a (and u).\")\n",
        "\n",
        "# --- 2) construct X_t, U_t, X_{t+1} ---\n",
        "# Use rows 0..N-2 as t, rows 1..N-1 as t+1\n",
        "states = df[['x','v','a']].astype(float).values   # shape (N, 3)\n",
        "actions = df['u'].astype(float).values.reshape(-1, 1)  # shape (N, 1)\n",
        "\n",
        "# drop last row for t and drop first row for t+1\n",
        "X_t = states[:-1, :]        # (N-1, 3)\n",
        "U_t = actions[:-1, :]       # (N-1, 1)\n",
        "X_tp1 = states[1:, :]       # (N-1, 3)\n",
        "\n",
        "N_minus_1 = X_t.shape[0]\n",
        "print(f\"Using {N_minus_1} data rows for regression (N-1).\")\n",
        "\n",
        "# --- 3) Build design matrix and solve via least-squares ---\n",
        "# Design matrix: [x, v, a, u] shape (N-1, 4)\n",
        "D = np.hstack([X_t, U_t])   # shape (N-1, 4)\n",
        "\n",
        "# Solve D * M = X_tp1 for M (4 x 3) using least squares.\n",
        "# Each column j in M contains the coefficients mapping D to X_{t+1}[:, j].\n",
        "M, residuals, rank, s = np.linalg.lstsq(D, X_tp1, rcond=None)\n",
        "\n",
        "# Extract A and B\n",
        "# As derived: for each next-state component j, M[:, j] = [A_j1, A_j2, A_j3, B_j]^T\n",
        "# So A (3x3) has rows A_j = M[0:3, j]^T  (i.e., A = M[0:3, :].T)\n",
        "A_est = M[0:3, :].T   # shape (3,3)\n",
        "B_est = M[3, :].reshape((3, 1))  # shape (3,1)\n",
        "\n",
        "print(\"\\nEstimated A matrix (rows = next-state components):\\n\", A_est)\n",
        "print(\"\\nEstimated B vector (column):\\n\", B_est)\n",
        "\n",
        "# --- 4) Diagnostics: compute residuals and RMSE ---\n",
        "pred = D @ M           # shape (N-1, 3)\n",
        "errors = X_tp1 - pred  # residuals (N-1, 3)\n",
        "rmse_per_dim = np.sqrt(np.mean(errors**2, axis=0))\n",
        "rmse_total = np.sqrt(np.mean(errors.ravel()**2))\n",
        "print(\"\\nRMSE per next-state component:\", rmse_per_dim)\n",
        "print(\"Overall RMSE:\", rmse_total)\n",
        "\n"
      ],
      "metadata": {
        "colab": {
          "base_uri": "https://localhost:8080/"
        },
        "id": "3Xd4ADS8hsu6",
        "outputId": "11958f1a-ed88-49fd-9ed9-7e4f9a054ee9"
      },
      "execution_count": 51,
      "outputs": [
        {
          "output_type": "stream",
          "name": "stdout",
          "text": [
            "Columns found: ['index', 'x', 'v', 'a', 'u']\n",
            "Using 99 data rows for regression (N-1).\n",
            "\n",
            "Estimated A matrix (rows = next-state components):\n",
            " [[ 1.00000000e+00  1.10000000e+00  2.88657986e-15]\n",
            " [-1.28195498e-16  9.00000000e-01  9.50000000e-01]\n",
            " [-9.31378031e-17  5.55111512e-16  1.10000000e+00]]\n",
            "\n",
            "Estimated B vector (column):\n",
            " [[-1.11022302e-16]\n",
            " [-1.00000000e-02]\n",
            " [ 9.00000000e-01]]\n",
            "\n",
            "RMSE per next-state component: [9.48993751e-16 3.37486040e-16 2.55714247e-16]\n",
            "Overall RMSE: 5.999654830176132e-16\n"
          ]
        }
      ]
    },
    {
      "cell_type": "markdown",
      "metadata": {
        "id": "_Sxidkjb5phM"
      },
      "source": [
        "Save $\\mathbf{A}$ and $\\mathbf{B}$ to \"model-A-new.tsv\" and \"model-B-new.tsv\" respectively."
      ]
    },
    {
      "cell_type": "code",
      "execution_count": 52,
      "metadata": {
        "id": "LzcREdX_5pFS",
        "colab": {
          "base_uri": "https://localhost:8080/"
        },
        "outputId": "a7d6ad02-02af-40e9-bd04-47ff76da5a9b"
      },
      "outputs": [
        {
          "output_type": "stream",
          "name": "stdout",
          "text": [
            "\n",
            "Saved 'model-A-new.tsv' and 'model-B-new.tsv'.\n"
          ]
        }
      ],
      "source": [
        "# YOUR CHANGES HERE\n",
        "\n",
        "# --- 5) Save results to TSV files in same format as earlier (no index column) ---\n",
        "A_df = pd.DataFrame(A_est, columns=['x','v','a'])  # rows correspond to next-state eqn 1..3\n",
        "A_df.to_csv('model-A-new.tsv', sep='\\t', index=False, float_format='%.12g')\n",
        "\n",
        "B_df = pd.DataFrame(B_est, index=['x','v','a'], columns=['u'])  # align rows with states\n",
        "B_df.to_csv('model-B-new.tsv', sep='\\t', index=True, float_format='%.12g')\n",
        "\n",
        "print(\"\\nSaved 'model-A-new.tsv' and 'model-B-new.tsv'.\")"
      ]
    },
    {
      "cell_type": "markdown",
      "metadata": {
        "id": "UNkBsDgD5vIn"
      },
      "source": [
        "Submit \"model-A-new.tsv\" and \"model-B-new.tsv\" in Gradescope."
      ]
    },
    {
      "cell_type": "code",
      "source": [
        "files.download('model-A-new.tsv')\n",
        "files.download('model-B-new.tsv')"
      ],
      "metadata": {
        "colab": {
          "base_uri": "https://localhost:8080/",
          "height": 17
        },
        "id": "rWZ9QQm3iexL",
        "outputId": "dc20eaa1-a28b-4b45-a9dc-4e44244bd2f8"
      },
      "execution_count": 53,
      "outputs": [
        {
          "output_type": "display_data",
          "data": {
            "text/plain": [
              "<IPython.core.display.Javascript object>"
            ],
            "application/javascript": [
              "\n",
              "    async function download(id, filename, size) {\n",
              "      if (!google.colab.kernel.accessAllowed) {\n",
              "        return;\n",
              "      }\n",
              "      const div = document.createElement('div');\n",
              "      const label = document.createElement('label');\n",
              "      label.textContent = `Downloading \"${filename}\": `;\n",
              "      div.appendChild(label);\n",
              "      const progress = document.createElement('progress');\n",
              "      progress.max = size;\n",
              "      div.appendChild(progress);\n",
              "      document.body.appendChild(div);\n",
              "\n",
              "      const buffers = [];\n",
              "      let downloaded = 0;\n",
              "\n",
              "      const channel = await google.colab.kernel.comms.open(id);\n",
              "      // Send a message to notify the kernel that we're ready.\n",
              "      channel.send({})\n",
              "\n",
              "      for await (const message of channel.messages) {\n",
              "        // Send a message to notify the kernel that we're ready.\n",
              "        channel.send({})\n",
              "        if (message.buffers) {\n",
              "          for (const buffer of message.buffers) {\n",
              "            buffers.push(buffer);\n",
              "            downloaded += buffer.byteLength;\n",
              "            progress.value = downloaded;\n",
              "          }\n",
              "        }\n",
              "      }\n",
              "      const blob = new Blob(buffers, {type: 'application/binary'});\n",
              "      const a = document.createElement('a');\n",
              "      a.href = window.URL.createObjectURL(blob);\n",
              "      a.download = filename;\n",
              "      div.appendChild(a);\n",
              "      a.click();\n",
              "      div.remove();\n",
              "    }\n",
              "  "
            ]
          },
          "metadata": {}
        },
        {
          "output_type": "display_data",
          "data": {
            "text/plain": [
              "<IPython.core.display.Javascript object>"
            ],
            "application/javascript": [
              "download(\"download_e5067a79-5e2f-412f-8858-2e1f45a35a07\", \"model-A-new.tsv\", 98)"
            ]
          },
          "metadata": {}
        },
        {
          "output_type": "display_data",
          "data": {
            "text/plain": [
              "<IPython.core.display.Javascript object>"
            ],
            "application/javascript": [
              "\n",
              "    async function download(id, filename, size) {\n",
              "      if (!google.colab.kernel.accessAllowed) {\n",
              "        return;\n",
              "      }\n",
              "      const div = document.createElement('div');\n",
              "      const label = document.createElement('label');\n",
              "      label.textContent = `Downloading \"${filename}\": `;\n",
              "      div.appendChild(label);\n",
              "      const progress = document.createElement('progress');\n",
              "      progress.max = size;\n",
              "      div.appendChild(progress);\n",
              "      document.body.appendChild(div);\n",
              "\n",
              "      const buffers = [];\n",
              "      let downloaded = 0;\n",
              "\n",
              "      const channel = await google.colab.kernel.comms.open(id);\n",
              "      // Send a message to notify the kernel that we're ready.\n",
              "      channel.send({})\n",
              "\n",
              "      for await (const message of channel.messages) {\n",
              "        // Send a message to notify the kernel that we're ready.\n",
              "        channel.send({})\n",
              "        if (message.buffers) {\n",
              "          for (const buffer of message.buffers) {\n",
              "            buffers.push(buffer);\n",
              "            downloaded += buffer.byteLength;\n",
              "            progress.value = downloaded;\n",
              "          }\n",
              "        }\n",
              "      }\n",
              "      const blob = new Blob(buffers, {type: 'application/binary'});\n",
              "      const a = document.createElement('a');\n",
              "      a.href = window.URL.createObjectURL(blob);\n",
              "      a.download = filename;\n",
              "      div.appendChild(a);\n",
              "      a.click();\n",
              "      div.remove();\n",
              "    }\n",
              "  "
            ]
          },
          "metadata": {}
        },
        {
          "output_type": "display_data",
          "data": {
            "text/plain": [
              "<IPython.core.display.Javascript object>"
            ],
            "application/javascript": [
              "download(\"download_825a61a9-273f-4c68-bb84-bba694ae4b66\", \"model-B-new.tsv\", 38)"
            ]
          },
          "metadata": {}
        }
      ]
    },
    {
      "cell_type": "markdown",
      "metadata": {
        "id": "smsTLuFcvR-I"
      },
      "source": [
        "## Part 5: Code\n",
        "\n",
        "Please submit a Jupyter notebook that can reproduce all your calculations and recreate the previously submitted files.\n",
        "You do not need to provide code for data collection if you did that by manually."
      ]
    },
    {
      "cell_type": "markdown",
      "metadata": {
        "id": "zi8lV2pbvWMs"
      },
      "source": [
        "## Part 6: Acknowledgements\n",
        "\n",
        "If you discussed this assignment with anyone, please acknowledge them here.\n",
        "If you did this assignment completely on your own, simply write none below.\n",
        "\n",
        "If you used any libraries not mentioned in this module's content, please list them with a brief explanation what you used them for. If you did not use any other libraries, simply write none below.\n",
        "\n",
        "If you used any generative AI tools, please add links to your transcripts below, and any other information that you feel is necessary to comply with the generative AI policy. If you did not use any generative AI tools, simply write none below."
      ]
    }
  ],
  "metadata": {
    "colab": {
      "provenance": [],
      "machine_shape": "hm",
      "include_colab_link": true
    },
    "kernelspec": {
      "display_name": "Python 3",
      "name": "python3"
    },
    "language_info": {
      "codemirror_mode": {
        "name": "ipython",
        "version": 3
      },
      "file_extension": ".py",
      "mimetype": "text/x-python",
      "name": "python",
      "nbconvert_exporter": "python",
      "pygments_lexer": "ipython3",
      "version": "3.9.6"
    }
  },
  "nbformat": 4,
  "nbformat_minor": 0
}