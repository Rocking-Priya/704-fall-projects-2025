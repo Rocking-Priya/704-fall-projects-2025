{
  "cells": [
    {
      "cell_type": "markdown",
      "metadata": {
        "id": "view-in-github",
        "colab_type": "text"
      },
      "source": [
        "<a href=\"https://colab.research.google.com/github/Rocking-Priya/704-fall-projects-2025/blob/main/Week_4_project.ipynb\" target=\"_parent\"><img src=\"https://colab.research.google.com/assets/colab-badge.svg\" alt=\"Open In Colab\"/></a>"
      ]
    },
    {
      "cell_type": "markdown",
      "metadata": {
        "id": "Md413FzAvFD8"
      },
      "source": [
        "# DX 704 Week 4 Project\n",
        "This week's project will test the learning speed of linear contextual bandits compared to unoptimized approaches.\n",
        "You will start with building a preference data set for evaluation, and then implement different variations of LinUCB and visualize how fast they learn the preferences.\n"
      ]
    },
    {
      "cell_type": "markdown",
      "metadata": {
        "id": "D3gs-tquuzJe"
      },
      "source": [
        "The full project description, a template notebook and supporting code are available on GitHub: [Project 4 Materials](https://github.com/bu-cds-dx704/dx704-project-04).\n"
      ]
    },
    {
      "cell_type": "markdown",
      "metadata": {
        "id": "OguIjc5idW3Z"
      },
      "source": [
        "## Example Code\n",
        "\n",
        "You may find it helpful to refer to these GitHub repositories of Jupyter notebooks for example code.\n",
        "\n",
        "* https://github.com/bu-cds-omds/dx601-examples\n",
        "* https://github.com/bu-cds-omds/dx602-examples\n",
        "* https://github.com/bu-cds-omds/dx603-examples\n",
        "* https://github.com/bu-cds-omds/dx704-examples\n",
        "\n",
        "Any calculations demonstrated in code examples or videos may be found in these notebooks, and you are allowed to copy this example code in your homework answers."
      ]
    },
    {
      "cell_type": "markdown",
      "metadata": {
        "id": "C8oSLkMqvMFF"
      },
      "source": [
        "## Part 1: Collect Rating Data\n",
        "\n",
        "The file \"recipes.tsv\" in this repository has information about 100 recipes.\n",
        "Make a new file \"ratings.tsv\" with two columns, recipe_slug (from recipes.tsv) and rating.\n",
        "Populate the rating column with values between 0 and 1 where 0 is the worst and 1 is the best.\n",
        "You can assign these ratings however you want within that range, but try to make it reflect a consistent set of preferences.\n",
        "These could be your preferences, or a persona of your choosing (e.g. chocolate lover, bacon-obsessed, or sweet tooth).\n",
        "Make sure that there are at least 10 ratings of zero and at least 10 ratings of one.\n"
      ]
    },
    {
      "cell_type": "markdown",
      "metadata": {
        "id": "kAwViBgKfWER"
      },
      "source": [
        "Hint: You may find it more convenient to assign raw ratings from 1 to 5 and then remap them as follows.\n",
        "\n",
        "`ratings[\"rating\"] = (ratings[\"rating_raw\"] - 1) * 0.25`"
      ]
    },
    {
      "cell_type": "code",
      "source": [
        "import numpy as np\n",
        "import pandas as pd\n",
        "\n",
        "np.random.seed(42)  # make sampling reproducible\n",
        "\n",
        "# --- 1) Load the tag file and make one row per recipe_slug ---\n",
        "tags = pd.read_csv('/content/recipe-tags.tsv', sep=\"\\t\")   # has many rows per recipe\n",
        "recipes = tags.groupby('recipe_slug', as_index=False).agg({\n",
        "    'recipe_tag': lambda s: \" \".join(sorted(set([t.strip() for t in s.dropna()])))\n",
        "})\n",
        "# now recipes has 1 row per recipe_slug and a string of tags per recipe\n",
        "\n",
        "print(\"Unique recipes:\", len(recipes))  # should be 100 for the assignment\n",
        "\n",
        "# --- 2) Create boolean columns for the key tags we care about (persona) ---\n",
        "recipes['has_chocolate'] = recipes['recipe_tag'].str.contains('chocolate', case=False, na=False)\n",
        "recipes['has_vegetarian'] = recipes['recipe_tag'].str.contains('vegetarian', case=False, na=False)\n",
        "recipes['has_bacon'] = recipes['recipe_tag'].str.contains('bacon', case=False, na=False)\n",
        "\n",
        "# --- 3) Start with a raw-rating (1..5) default neutral=3 ---\n",
        "recipes['rating_raw'] = 3\n",
        "\n",
        "# Persona rules:\n",
        "# chocolate lover -> best = 5\n",
        "recipes.loc[recipes['has_chocolate'], 'rating_raw'] = 5\n",
        "\n",
        "# vegetarian -> good = 4 (but chocolate takes precedence if both True)\n",
        "recipes.loc[(recipes['has_vegetarian']) & (~recipes['has_chocolate']), 'rating_raw'] = 4\n",
        "\n",
        "# bacon -> bad = 1 (lowest)\n",
        "recipes.loc[recipes['has_bacon'], 'rating_raw'] = 1\n",
        "\n",
        "# --- 4) Make sure we have at least 10 zeros (rating_raw == 1) and 10 ones (rating_raw == 5)\n",
        "# Count current extremes\n",
        "count_zeros = (recipes['rating_raw'] == 1).sum()\n",
        "count_ones  = (recipes['rating_raw'] == 5).sum()\n",
        "\n",
        "# If not enough zeros, randomly set some other recipes to 1\n",
        "if count_zeros < 10:\n",
        "    needed = 10 - count_zeros\n",
        "    candidates = recipes[recipes['rating_raw'] != 1].sample(needed, random_state=42).index\n",
        "    recipes.loc[candidates, 'rating_raw'] = 1\n",
        "\n",
        "# If not enough ones, randomly set some other recipes to 5\n",
        "if count_ones < 10:\n",
        "    needed = 10 - count_ones\n",
        "    candidates = recipes[recipes['rating_raw'] != 5].sample(needed, random_state=43).index\n",
        "    recipes.loc[candidates, 'rating_raw'] = 5\n",
        "\n",
        "# Recount and show\n",
        "count_zeros = (recipes['rating_raw'] == 1).sum()\n",
        "count_ones  = (recipes['rating_raw'] == 5).sum()\n",
        "print(\"Final counts -> raw==1 (will map to 0):\", count_zeros, \", raw==5 (will map to 1):\", count_ones)\n",
        "\n",
        "# --- 5) Map raw ratings 1..5 to 0..1 using the provided formula ---\n",
        "recipes['rating'] = (recipes['rating_raw'] - 1) * 0.25\n",
        "\n",
        "# --- 6) Keep only required columns and save ---\n",
        "ratings_df = recipes[['recipe_slug', 'rating']]\n",
        "ratings_df.to_csv(\"ratings.tsv\", sep=\"\\t\", index=False)\n",
        "print(\"Saved ratings.tsv (first 10 rows):\")\n",
        "print(ratings_df.head(10))\n"
      ],
      "metadata": {
        "colab": {
          "base_uri": "https://localhost:8080/"
        },
        "id": "cvtg6Jp48B9r",
        "outputId": "cedb5d83-07ec-42f8-a560-450992689630"
      },
      "execution_count": 26,
      "outputs": [
        {
          "output_type": "stream",
          "name": "stdout",
          "text": [
            "Unique recipes: 100\n",
            "Final counts -> raw==1 (will map to 0): 15 , raw==5 (will map to 1): 10\n",
            "Saved ratings.tsv (first 10 rows):\n",
            "                        recipe_slug  rating\n",
            "0               almond-chip-cookies    1.00\n",
            "1                 almond-croissants    0.50\n",
            "2                       apple-crisp    0.50\n",
            "3                     apple-crumble    0.50\n",
            "4                         apple-pie    0.50\n",
            "5                  asparagus-burger    0.75\n",
            "6                  asparagus-quiche    0.75\n",
            "7  bacon-and-egg-breakfast-sandwich    0.00\n",
            "8      bacon-chocolate-chip-cookies    0.00\n",
            "9                 bacon-egg-muffins    0.00\n"
          ]
        }
      ]
    },
    {
      "cell_type": "code",
      "source": [
        "r = pd.read_csv(\"ratings.tsv\", sep=\"\\t\")\n",
        "print(r['rating'].value_counts())\n",
        "print((r['rating'] == 0.0).sum(), \"zeros; \", (r['rating'] == 1.0).sum(), \"ones\")\n"
      ],
      "metadata": {
        "colab": {
          "base_uri": "https://localhost:8080/"
        },
        "id": "bFlTwbqo8Vq3",
        "outputId": "bbf93965-2fc6-4e9d-b127-286e9dc8ed7c"
      },
      "execution_count": 27,
      "outputs": [
        {
          "output_type": "stream",
          "name": "stdout",
          "text": [
            "rating\n",
            "0.50    58\n",
            "0.75    17\n",
            "0.00    15\n",
            "1.00    10\n",
            "Name: count, dtype: int64\n",
            "15 zeros;  10 ones\n"
          ]
        }
      ]
    },
    {
      "cell_type": "code",
      "source": [
        "from google.colab import files\n",
        "\n",
        "files.download(\"ratings.tsv\")"
      ],
      "metadata": {
        "colab": {
          "base_uri": "https://localhost:8080/",
          "height": 17
        },
        "id": "hcd2MpABIF-Q",
        "outputId": "dca8ce12-4452-4c05-f9a3-b2b99339320f"
      },
      "execution_count": 28,
      "outputs": [
        {
          "output_type": "display_data",
          "data": {
            "text/plain": [
              "<IPython.core.display.Javascript object>"
            ],
            "application/javascript": [
              "\n",
              "    async function download(id, filename, size) {\n",
              "      if (!google.colab.kernel.accessAllowed) {\n",
              "        return;\n",
              "      }\n",
              "      const div = document.createElement('div');\n",
              "      const label = document.createElement('label');\n",
              "      label.textContent = `Downloading \"${filename}\": `;\n",
              "      div.appendChild(label);\n",
              "      const progress = document.createElement('progress');\n",
              "      progress.max = size;\n",
              "      div.appendChild(progress);\n",
              "      document.body.appendChild(div);\n",
              "\n",
              "      const buffers = [];\n",
              "      let downloaded = 0;\n",
              "\n",
              "      const channel = await google.colab.kernel.comms.open(id);\n",
              "      // Send a message to notify the kernel that we're ready.\n",
              "      channel.send({})\n",
              "\n",
              "      for await (const message of channel.messages) {\n",
              "        // Send a message to notify the kernel that we're ready.\n",
              "        channel.send({})\n",
              "        if (message.buffers) {\n",
              "          for (const buffer of message.buffers) {\n",
              "            buffers.push(buffer);\n",
              "            downloaded += buffer.byteLength;\n",
              "            progress.value = downloaded;\n",
              "          }\n",
              "        }\n",
              "      }\n",
              "      const blob = new Blob(buffers, {type: 'application/binary'});\n",
              "      const a = document.createElement('a');\n",
              "      a.href = window.URL.createObjectURL(blob);\n",
              "      a.download = filename;\n",
              "      div.appendChild(a);\n",
              "      a.click();\n",
              "      div.remove();\n",
              "    }\n",
              "  "
            ]
          },
          "metadata": {}
        },
        {
          "output_type": "display_data",
          "data": {
            "text/plain": [
              "<IPython.core.display.Javascript object>"
            ],
            "application/javascript": [
              "download(\"download_cf6dcd5b-c89b-40c4-b55b-4405911bd30f\", \"ratings.tsv\", 2128)"
            ]
          },
          "metadata": {}
        }
      ]
    },
    {
      "cell_type": "markdown",
      "metadata": {
        "id": "Eh7UaX6OvuWo"
      },
      "source": [
        "Submit \"ratings.tsv\" in Gradescope."
      ]
    },
    {
      "cell_type": "markdown",
      "metadata": {
        "id": "NiCwaZwr5M67"
      },
      "source": [
        "## Part 2: Construct Model Input\n",
        "\n",
        "Use your file \"ratings.tsv\" combined with \"recipe-tags.tsv\" to create a new file \"features.tsv\" with a column recipe_slug, a column bias which is hard-coded to one, and a column for each tag that appears in \"recipe-tags.tsv\".\n",
        "The tag column in this file should be a 0-1 encoding of the recipe tags for each recipe.\n",
        "[Pandas reshaping function methods](https://pandas.pydata.org/docs/user_guide/reshaping.html) may be helpful."
      ]
    },
    {
      "cell_type": "markdown",
      "metadata": {
        "id": "8WWi_JJXocEb"
      },
      "source": [
        "The bias column will make later LinUCB calculations easier since it will just be another dimension."
      ]
    },
    {
      "cell_type": "markdown",
      "metadata": {
        "id": "MHR-BsD9539j"
      },
      "source": [
        "Hint: For later modeling steps, it will be important to have the feature data (inputs) and the rating data (target outputs) in the same order.\n",
        "It is highly recommended to make sure that \"features.tsv\" and \"ratings.tsv\" have the recipe slugs in the same order."
      ]
    },
    {
      "cell_type": "code",
      "source": [
        "\n",
        "\n",
        "# 1) Load files (once)\n",
        "recipes = pd.read_csv('/content/recipe-tags.tsv', sep=\"\\t\")   # long format: many rows per recipe\n",
        "ratings = pd.read_csv(\"ratings.tsv\", sep=\"\\t\")               # one row per recipe, desired ordering\n",
        "\n",
        "# 2) Clean tags: strip whitespace and lower-case to make consistent tag names\n",
        "recipes['recipe_tag'] = recipes['recipe_tag'].astype(str).str.strip().str.lower()\n",
        "\n",
        "# 3) One-hot encode tags\n",
        "#    prefix='' removes the 'recipe_tag_' prefix so columns are the raw tag names\n",
        "#    prefix_sep='' avoids adding a separator\n",
        "dummies = pd.get_dummies(recipes['recipe_tag'], prefix='', prefix_sep='')\n",
        "\n",
        "# 4) Put back the slug so we can groupby\n",
        "dummies['recipe_slug'] = recipes['recipe_slug']\n",
        "\n",
        "# 5) Aggregate to one row per recipe (take max so any tag present becomes 1)\n",
        "features_per_recipe = dummies.groupby('recipe_slug').max().reset_index()\n",
        "\n",
        "# 6) Ensure numeric 0/1 (in case groupby yielded booleans)\n",
        "for col in features_per_recipe.columns:\n",
        "    if col != 'recipe_slug':\n",
        "        features_per_recipe[col] = pd.to_numeric(features_per_recipe[col], errors='coerce').fillna(0).astype(int)\n",
        "\n",
        "# 7) Add bias column (hard-coded 1)\n",
        "features_per_recipe['bias'] = 1\n",
        "\n",
        "# 8) Reorder rows to match ratings.csv (important)\n",
        "#    This keeps features.tsv and ratings.tsv aligned row-by-row.\n",
        "features_per_recipe = features_per_recipe.set_index('recipe_slug').reindex(ratings['recipe_slug']).reset_index()\n",
        "\n",
        "# 9) Optional: put recipe_slug and bias first, then tags (a tidy layout)\n",
        "cols = ['recipe_slug', 'bias'] + [c for c in features_per_recipe.columns if c not in ('recipe_slug','bias')]\n",
        "features_per_recipe = features_per_recipe[cols]\n",
        "\n",
        "# 10) Save TSV without extra index column\n",
        "features_per_recipe.to_csv(\"features.tsv\", sep=\"\\t\", index=False)\n",
        "\n",
        "print(\"Created features.tsv with shape:\", features_per_recipe.shape)\n",
        "print(features_per_recipe.head())\n"
      ],
      "metadata": {
        "colab": {
          "base_uri": "https://localhost:8080/"
        },
        "id": "QMV0sbDU-D1_",
        "outputId": "e370cf32-553c-4d13-91b4-6c5274269dcb"
      },
      "execution_count": 29,
      "outputs": [
        {
          "output_type": "stream",
          "name": "stdout",
          "text": [
            "Created features.tsv with shape: (100, 298)\n",
            "           recipe_slug  bias  alfredo  almond  american  appetizer  \\\n",
            "0  almond-chip-cookies     1        0       1         0          0   \n",
            "1    almond-croissants     1        0       1         0          0   \n",
            "2          apple-crisp     1        0       0         0          0   \n",
            "3        apple-crumble     1        0       0         0          0   \n",
            "4            apple-pie     1        0       0         0          0   \n",
            "\n",
            "   appetizers  apple  asiancuisine  asparagus  ...  udonnoodles  vanilla  \\\n",
            "0           0      0             0          0  ...            0        0   \n",
            "1           0      0             0          0  ...            0        0   \n",
            "2           0      1             0          0  ...            0        0   \n",
            "3           0      1             0          0  ...            0        0   \n",
            "4           0      1             0          0  ...            0        0   \n",
            "\n",
            "   vanillaicecream  vegan  vegetables  vegetarian  warm  whippedcream  winter  \\\n",
            "0                0      0           0           0     0             0       0   \n",
            "1                0      0           0           0     0             0       0   \n",
            "2                0      0           0           0     0             0       1   \n",
            "3                1      0           0           0     0             1       0   \n",
            "4                0      0           0           0     0             0       0   \n",
            "\n",
            "   yeastdough  \n",
            "0           0  \n",
            "1           0  \n",
            "2           0  \n",
            "3           0  \n",
            "4           0  \n",
            "\n",
            "[5 rows x 298 columns]\n"
          ]
        },
        {
          "output_type": "stream",
          "name": "stderr",
          "text": [
            "/tmp/ipython-input-1138562594.py:25: PerformanceWarning: DataFrame is highly fragmented.  This is usually the result of calling `frame.insert` many times, which has poor performance.  Consider joining all columns at once using pd.concat(axis=1) instead. To get a de-fragmented frame, use `newframe = frame.copy()`\n",
            "  features_per_recipe['bias'] = 1\n"
          ]
        }
      ]
    },
    {
      "cell_type": "code",
      "source": [
        "# quick checks\n",
        "f = pd.read_csv(\"features.tsv\", sep=\"\\t\")\n",
        "r = pd.read_csv(\"ratings.tsv\", sep=\"\\t\")\n",
        "print(\"Shapes:\", f.shape, r.shape)\n",
        "print(\"First columns:\", list(f.columns[:6]))\n",
        "print(\"Bias unique:\", f['bias'].unique())\n",
        "print(\"Numeric dtypes?\", all(dt.kind in 'biuf' for dt in f.drop('recipe_slug', axis=1).dtypes))\n",
        "# Ensure same slugs and order:\n",
        "print(\"Slugs align exactly?\", (f['recipe_slug'].tolist() == r['recipe_slug'].tolist()))\n"
      ],
      "metadata": {
        "colab": {
          "base_uri": "https://localhost:8080/"
        },
        "id": "-XdIGCTk-KI2",
        "outputId": "51ef4011-c92a-4a13-b583-fc2e86f1befc"
      },
      "execution_count": 30,
      "outputs": [
        {
          "output_type": "stream",
          "name": "stdout",
          "text": [
            "Shapes: (100, 298) (100, 2)\n",
            "First columns: ['recipe_slug', 'bias', 'alfredo', 'almond', 'american', 'appetizer']\n",
            "Bias unique: [1]\n",
            "Numeric dtypes? True\n",
            "Slugs align exactly? True\n"
          ]
        }
      ]
    },
    {
      "cell_type": "code",
      "source": [
        "files.download(\"features.tsv\")"
      ],
      "metadata": {
        "colab": {
          "base_uri": "https://localhost:8080/",
          "height": 17
        },
        "id": "mcA8CzZTiBET",
        "outputId": "25214007-21ea-4c5e-fdeb-12c4256ef2c5"
      },
      "execution_count": 31,
      "outputs": [
        {
          "output_type": "display_data",
          "data": {
            "text/plain": [
              "<IPython.core.display.Javascript object>"
            ],
            "application/javascript": [
              "\n",
              "    async function download(id, filename, size) {\n",
              "      if (!google.colab.kernel.accessAllowed) {\n",
              "        return;\n",
              "      }\n",
              "      const div = document.createElement('div');\n",
              "      const label = document.createElement('label');\n",
              "      label.textContent = `Downloading \"${filename}\": `;\n",
              "      div.appendChild(label);\n",
              "      const progress = document.createElement('progress');\n",
              "      progress.max = size;\n",
              "      div.appendChild(progress);\n",
              "      document.body.appendChild(div);\n",
              "\n",
              "      const buffers = [];\n",
              "      let downloaded = 0;\n",
              "\n",
              "      const channel = await google.colab.kernel.comms.open(id);\n",
              "      // Send a message to notify the kernel that we're ready.\n",
              "      channel.send({})\n",
              "\n",
              "      for await (const message of channel.messages) {\n",
              "        // Send a message to notify the kernel that we're ready.\n",
              "        channel.send({})\n",
              "        if (message.buffers) {\n",
              "          for (const buffer of message.buffers) {\n",
              "            buffers.push(buffer);\n",
              "            downloaded += buffer.byteLength;\n",
              "            progress.value = downloaded;\n",
              "          }\n",
              "        }\n",
              "      }\n",
              "      const blob = new Blob(buffers, {type: 'application/binary'});\n",
              "      const a = document.createElement('a');\n",
              "      a.href = window.URL.createObjectURL(blob);\n",
              "      a.download = filename;\n",
              "      div.appendChild(a);\n",
              "      a.click();\n",
              "      div.remove();\n",
              "    }\n",
              "  "
            ]
          },
          "metadata": {}
        },
        {
          "output_type": "display_data",
          "data": {
            "text/plain": [
              "<IPython.core.display.Javascript object>"
            ],
            "application/javascript": [
              "download(\"download_d4ffddcd-c218-4178-9e60-321cf070dbc2\", \"features.tsv\", 63775)"
            ]
          },
          "metadata": {}
        }
      ]
    },
    {
      "cell_type": "markdown",
      "metadata": {
        "id": "w63ji-Oi6oH7"
      },
      "source": [
        "Submit \"features.tsv\" in Gradescope."
      ]
    },
    {
      "cell_type": "markdown",
      "metadata": {
        "id": "4TeXvznlwJzo"
      },
      "source": [
        "## Part 3: Linear Preference Model\n",
        "\n",
        "Use your feature and rating files to build a ridge regression model with ridge regression's regularization parameter $\\alpha$ set to 1.\n"
      ]
    },
    {
      "cell_type": "markdown",
      "metadata": {
        "id": "aVlUnVv4oDIk"
      },
      "source": [
        "Hint: If you are using scikit-learn modeling classes, you should use `fit_intercept=False` since that intercept value will be redundant with the bias coefficient."
      ]
    },
    {
      "cell_type": "markdown",
      "metadata": {
        "id": "NLrBu-z7A45W"
      },
      "source": [
        "Hint: The estimate component of the bounds should match the previous estimate, so you should be able to just focus on the variance component of the bounds now."
      ]
    },
    {
      "cell_type": "code",
      "source": [
        "\n",
        "from sklearn.linear_model import Ridge\n",
        "\n",
        "# Load (once)\n",
        "features_df = pd.read_csv(\"features.tsv\", sep=\"\\t\")\n",
        "ratings_df  = pd.read_csv(\"ratings.tsv\", sep=\"\\t\")\n",
        "\n",
        "# Reorder features to match ratings (one operation)\n",
        "features_df = features_df.set_index('recipe_slug').reindex(ratings_df['recipe_slug']).reset_index()\n",
        "\n",
        "# Prepare X and y\n",
        "X = features_df.drop(columns=['recipe_slug'])\n",
        "X = X.apply(pd.to_numeric, errors='coerce').fillna(0).astype(float)  # ensure numeric\n",
        "y = ratings_df['rating'].astype(float)\n",
        "\n",
        "# Train Ridge with alpha=1 and no intercept (bias column used instead)\n",
        "model = Ridge(alpha=1, fit_intercept=False)\n",
        "model.fit(X, y)\n",
        "\n",
        "print(\"Ridge regression model trained successfully.\")\n"
      ],
      "metadata": {
        "colab": {
          "base_uri": "https://localhost:8080/"
        },
        "id": "nhJavyap_z64",
        "outputId": "4bb4850f-9c4d-497f-dbe2-f9ecece9cc07"
      },
      "execution_count": 32,
      "outputs": [
        {
          "output_type": "stream",
          "name": "stdout",
          "text": [
            "Ridge regression model trained successfully.\n"
          ]
        }
      ]
    },
    {
      "cell_type": "markdown",
      "metadata": {
        "id": "fw9LaHF_8tsA"
      },
      "source": [
        "Save the coefficients of this model in a file \"model.tsv\" with columns \"recipe_tag\" and \"coefficient\".\n",
        "Do not add anything for the `intercept_` attribute of a scikit-learn model; this will be covered by the coefficient for the bias column added in part 2."
      ]
    },
    {
      "cell_type": "code",
      "execution_count": 33,
      "metadata": {
        "id": "fiMBlU4L8uSR",
        "colab": {
          "base_uri": "https://localhost:8080/"
        },
        "outputId": "bafa77ac-57ee-4106-d335-752488c08194"
      },
      "outputs": [
        {
          "output_type": "stream",
          "name": "stdout",
          "text": [
            "Model coefficients saved to model.tsv\n",
            "  recipe_tag  coefficient\n",
            "0       bias     0.387317\n",
            "1    alfredo     0.005582\n",
            "2     almond     0.100951\n",
            "3   american    -0.001226\n",
            "4  appetizer     0.007957\n"
          ]
        }
      ],
      "source": [
        "# YOUR CHANGES HERE\n",
        "\n",
        "# Save the coefficients to model.tsv\n",
        "coefficients_df = pd.DataFrame({\n",
        "    'recipe_tag': X.columns,       # column names = tags + bias\n",
        "    'coefficient': model.coef_     # learned weights\n",
        "})\n",
        "\n",
        "# Do NOT add intercept_ (already covered by bias column)\n",
        "coefficients_df.to_csv(\"model.tsv\", sep=\"\\t\", index=False)\n",
        "\n",
        "print(\"Model coefficients saved to model.tsv\")\n",
        "print(coefficients_df.head())\n"
      ]
    },
    {
      "cell_type": "code",
      "source": [
        "# load to verify\n",
        "m = pd.read_csv(\"model.tsv\", sep=\"\\t\")\n",
        "print(\"rows in model.tsv:\", len(m))\n",
        "print(\"bias coefficient:\", m.loc[m['recipe_tag']=='bias', 'coefficient'].values)\n",
        "# check alignment\n",
        "print(\"X columns count:\", X.shape[1], \"coeff count:\", len(model.coef_))"
      ],
      "metadata": {
        "colab": {
          "base_uri": "https://localhost:8080/"
        },
        "id": "neN45EQuvltE",
        "outputId": "44577563-16e6-4d70-af22-12937ff37b19"
      },
      "execution_count": 34,
      "outputs": [
        {
          "output_type": "stream",
          "name": "stdout",
          "text": [
            "rows in model.tsv: 297\n",
            "bias coefficient: [0.38731716]\n",
            "X columns count: 297 coeff count: 297\n"
          ]
        }
      ]
    },
    {
      "cell_type": "code",
      "source": [
        "files.download(\"model.tsv\")"
      ],
      "metadata": {
        "colab": {
          "base_uri": "https://localhost:8080/",
          "height": 17
        },
        "id": "TY3GLRneh4QE",
        "outputId": "9024af70-3c10-442d-eb32-8fc20ccc513b"
      },
      "execution_count": 35,
      "outputs": [
        {
          "output_type": "display_data",
          "data": {
            "text/plain": [
              "<IPython.core.display.Javascript object>"
            ],
            "application/javascript": [
              "\n",
              "    async function download(id, filename, size) {\n",
              "      if (!google.colab.kernel.accessAllowed) {\n",
              "        return;\n",
              "      }\n",
              "      const div = document.createElement('div');\n",
              "      const label = document.createElement('label');\n",
              "      label.textContent = `Downloading \"${filename}\": `;\n",
              "      div.appendChild(label);\n",
              "      const progress = document.createElement('progress');\n",
              "      progress.max = size;\n",
              "      div.appendChild(progress);\n",
              "      document.body.appendChild(div);\n",
              "\n",
              "      const buffers = [];\n",
              "      let downloaded = 0;\n",
              "\n",
              "      const channel = await google.colab.kernel.comms.open(id);\n",
              "      // Send a message to notify the kernel that we're ready.\n",
              "      channel.send({})\n",
              "\n",
              "      for await (const message of channel.messages) {\n",
              "        // Send a message to notify the kernel that we're ready.\n",
              "        channel.send({})\n",
              "        if (message.buffers) {\n",
              "          for (const buffer of message.buffers) {\n",
              "            buffers.push(buffer);\n",
              "            downloaded += buffer.byteLength;\n",
              "            progress.value = downloaded;\n",
              "          }\n",
              "        }\n",
              "      }\n",
              "      const blob = new Blob(buffers, {type: 'application/binary'});\n",
              "      const a = document.createElement('a');\n",
              "      a.href = window.URL.createObjectURL(blob);\n",
              "      a.download = filename;\n",
              "      div.appendChild(a);\n",
              "      a.click();\n",
              "      div.remove();\n",
              "    }\n",
              "  "
            ]
          },
          "metadata": {}
        },
        {
          "output_type": "display_data",
          "data": {
            "text/plain": [
              "<IPython.core.display.Javascript object>"
            ],
            "application/javascript": [
              "download(\"download_7fe8ad5b-b0fc-4c35-9c13-436033ca5af5\", \"model.tsv\", 8977)"
            ]
          },
          "metadata": {}
        }
      ]
    },
    {
      "cell_type": "markdown",
      "metadata": {
        "id": "86uS_zZ0wQxC"
      },
      "source": [
        "Submit \"model.tsv\" in Gradescope."
      ]
    },
    {
      "cell_type": "markdown",
      "metadata": {
        "id": "B1Nfs7zCsDpj"
      },
      "source": [
        "## Part 4: Recipe Estimates\n",
        "\n",
        "Use the recipe model to estimate the score of every recipe.\n",
        "Save these estimates to a file \"estimates.tsv\" with columns recipe_slug and score_estimate."
      ]
    },
    {
      "cell_type": "code",
      "source": [
        "# YOUR CHANGES HERE\n",
        "# 1) Load features and coefficients\n",
        "features_df = pd.read_csv(\"features.tsv\", sep=\"\\t\")   # Part 2 output\n",
        "coeff_df    = pd.read_csv(\"model.tsv\", sep=\"\\t\")      # Part 3 output\n",
        "\n",
        "# 2) Prepare feature matrix X (use recipe_slug as index)\n",
        "X = features_df.set_index('recipe_slug')\n",
        "\n",
        "# 3) Ensure feature columns are numeric (coerce True/False -> 1/0; strings -> 0)\n",
        "X = X.apply(pd.to_numeric, errors='coerce').fillna(0).astype(float)\n",
        "\n",
        "# 4) Build coefficient Series (index = feature name)\n",
        "coef = pd.Series(coeff_df['coefficient'].values, index=coeff_df['recipe_tag'].values)\n",
        "\n",
        "# 5) Align coefficients to X.columns (fill missing features with zero)\n",
        "coef = coef.reindex(X.columns).fillna(0).astype(float)\n",
        "\n",
        "# 6) Compute estimates: dot product X · coef\n",
        "score_series = X.dot(coef)   # pandas Series indexed by recipe_slug\n",
        "\n",
        "# 7) Build DataFrame and save\n",
        "estimates_df = score_series.reset_index()\n",
        "estimates_df.columns = ['recipe_slug', 'score_estimate']\n",
        "\n",
        "estimates_df.to_csv(\"estimates.tsv\", sep=\"\\t\", index=False)\n",
        "print(\"Created estimates.tsv with\", len(estimates_df), \"rows\")\n",
        "print(estimates_df.head())"
      ],
      "metadata": {
        "colab": {
          "base_uri": "https://localhost:8080/"
        },
        "id": "SQd6d4aVttdD",
        "outputId": "cc64631b-8327-4a9c-d09d-c9cb8dfa289d"
      },
      "execution_count": 36,
      "outputs": [
        {
          "output_type": "stream",
          "name": "stdout",
          "text": [
            "Created estimates.tsv with 100 rows\n",
            "           recipe_slug  score_estimate\n",
            "0  almond-chip-cookies        0.853245\n",
            "1    almond-croissants        0.538100\n",
            "2          apple-crisp        0.505219\n",
            "3        apple-crumble        0.490581\n",
            "4            apple-pie        0.522238\n"
          ]
        }
      ]
    },
    {
      "cell_type": "code",
      "source": [
        "\n",
        "files.download(\"estimates.tsv\")"
      ],
      "metadata": {
        "colab": {
          "base_uri": "https://localhost:8080/",
          "height": 17
        },
        "id": "SyFI3ocyi-zq",
        "outputId": "a0b2186c-471d-418a-e76e-c4872e7ca87f"
      },
      "execution_count": 37,
      "outputs": [
        {
          "output_type": "display_data",
          "data": {
            "text/plain": [
              "<IPython.core.display.Javascript object>"
            ],
            "application/javascript": [
              "\n",
              "    async function download(id, filename, size) {\n",
              "      if (!google.colab.kernel.accessAllowed) {\n",
              "        return;\n",
              "      }\n",
              "      const div = document.createElement('div');\n",
              "      const label = document.createElement('label');\n",
              "      label.textContent = `Downloading \"${filename}\": `;\n",
              "      div.appendChild(label);\n",
              "      const progress = document.createElement('progress');\n",
              "      progress.max = size;\n",
              "      div.appendChild(progress);\n",
              "      document.body.appendChild(div);\n",
              "\n",
              "      const buffers = [];\n",
              "      let downloaded = 0;\n",
              "\n",
              "      const channel = await google.colab.kernel.comms.open(id);\n",
              "      // Send a message to notify the kernel that we're ready.\n",
              "      channel.send({})\n",
              "\n",
              "      for await (const message of channel.messages) {\n",
              "        // Send a message to notify the kernel that we're ready.\n",
              "        channel.send({})\n",
              "        if (message.buffers) {\n",
              "          for (const buffer of message.buffers) {\n",
              "            buffers.push(buffer);\n",
              "            downloaded += buffer.byteLength;\n",
              "            progress.value = downloaded;\n",
              "          }\n",
              "        }\n",
              "      }\n",
              "      const blob = new Blob(buffers, {type: 'application/binary'});\n",
              "      const a = document.createElement('a');\n",
              "      a.href = window.URL.createObjectURL(blob);\n",
              "      a.download = filename;\n",
              "      div.appendChild(a);\n",
              "      a.click();\n",
              "      div.remove();\n",
              "    }\n",
              "  "
            ]
          },
          "metadata": {}
        },
        {
          "output_type": "display_data",
          "data": {
            "text/plain": [
              "<IPython.core.display.Javascript object>"
            ],
            "application/javascript": [
              "download(\"download_97194ee7-eae9-4b03-9723-c662f0145e97\", \"estimates.tsv\", 3653)"
            ]
          },
          "metadata": {}
        }
      ]
    },
    {
      "cell_type": "markdown",
      "metadata": {
        "id": "i5t3uSE_srMA"
      },
      "source": [
        "Submit \"estimates.tsv\" in Gradescope."
      ]
    },
    {
      "cell_type": "markdown",
      "metadata": {
        "id": "yTBplNhRst8q"
      },
      "source": [
        "## Part 5: LinUCB Bounds\n",
        "\n",
        "Calculate the upper bounds of LinUCB using data corresponding to trying every recipe once and receiving the rating in \"ratings.tsv\" as the reward.\n",
        "Keep the ridge regression regularization parameter at 1, and set LinUCB's $\\alpha$ parameter to 2.\n",
        "Save these upper bounds to a file \"bounds.tsv\" with columns recipe_slug and score_bound."
      ]
    },
    {
      "cell_type": "code",
      "source": [
        "import numpy as np\n",
        "import pandas as pd\n",
        "\n",
        "# Load data\n",
        "features_df = pd.read_csv(\"features.tsv\", sep=\"\\t\")\n",
        "ratings_df  = pd.read_csv(\"ratings.tsv\", sep=\"\\t\")\n",
        "\n",
        "# Align feature rows to ratings order\n",
        "features_df = features_df.set_index('recipe_slug').reindex(ratings_df['recipe_slug']).reset_index()\n",
        "\n",
        "# Numeric feature matrix D and reward vector c\n",
        "X = features_df.drop(columns=['recipe_slug']).apply(pd.to_numeric, errors='coerce').fillna(0).astype(float)\n",
        "D = X.to_numpy()                           # (n_recipes, n_features)\n",
        "c = ratings_df['rating'].to_numpy()        # (n_recipes,)\n",
        "\n",
        "# LinUCB parameter\n",
        "alpha = 2.0\n",
        "\n",
        "# Compute (I + D^T D) and inverse (ridge lambda = 1)\n",
        "DTD_plus_I = np.eye(D.shape[1]) + D.T @ D\n",
        "DTD_plus_I_inv = np.linalg.inv(DTD_plus_I)\n",
        "\n",
        "# theta_hat (ridge closed form)\n",
        "theta_hat = DTD_plus_I_inv @ (D.T @ c)\n",
        "\n",
        "# predicted means and variances\n",
        "means = D @ theta_hat\n",
        "variances = np.array([ (z.reshape(-1,1).T @ DTD_plus_I_inv @ z.reshape(-1,1)).item() for z in D ])\n",
        "\n",
        "# LinUCB bound\n",
        "score_bound = means + alpha * np.sqrt(variances)\n",
        "\n",
        "# Save\n",
        "bounds_df = pd.DataFrame({\"recipe_slug\": features_df['recipe_slug'], \"score_bound\": score_bound})\n",
        "bounds_df.to_csv(\"bounds.tsv\", sep=\"\\t\", index=False)\n"
      ],
      "metadata": {
        "id": "RaWTKenets2t"
      },
      "execution_count": 38,
      "outputs": []
    },
    {
      "cell_type": "code",
      "source": [
        "files.download(\"bounds.tsv\")"
      ],
      "metadata": {
        "colab": {
          "base_uri": "https://localhost:8080/",
          "height": 17
        },
        "id": "dDcQ2pLFzXI6",
        "outputId": "c0ada949-e911-40e0-d493-411ebd262e88"
      },
      "execution_count": 39,
      "outputs": [
        {
          "output_type": "display_data",
          "data": {
            "text/plain": [
              "<IPython.core.display.Javascript object>"
            ],
            "application/javascript": [
              "\n",
              "    async function download(id, filename, size) {\n",
              "      if (!google.colab.kernel.accessAllowed) {\n",
              "        return;\n",
              "      }\n",
              "      const div = document.createElement('div');\n",
              "      const label = document.createElement('label');\n",
              "      label.textContent = `Downloading \"${filename}\": `;\n",
              "      div.appendChild(label);\n",
              "      const progress = document.createElement('progress');\n",
              "      progress.max = size;\n",
              "      div.appendChild(progress);\n",
              "      document.body.appendChild(div);\n",
              "\n",
              "      const buffers = [];\n",
              "      let downloaded = 0;\n",
              "\n",
              "      const channel = await google.colab.kernel.comms.open(id);\n",
              "      // Send a message to notify the kernel that we're ready.\n",
              "      channel.send({})\n",
              "\n",
              "      for await (const message of channel.messages) {\n",
              "        // Send a message to notify the kernel that we're ready.\n",
              "        channel.send({})\n",
              "        if (message.buffers) {\n",
              "          for (const buffer of message.buffers) {\n",
              "            buffers.push(buffer);\n",
              "            downloaded += buffer.byteLength;\n",
              "            progress.value = downloaded;\n",
              "          }\n",
              "        }\n",
              "      }\n",
              "      const blob = new Blob(buffers, {type: 'application/binary'});\n",
              "      const a = document.createElement('a');\n",
              "      a.href = window.URL.createObjectURL(blob);\n",
              "      a.download = filename;\n",
              "      div.appendChild(a);\n",
              "      a.click();\n",
              "      div.remove();\n",
              "    }\n",
              "  "
            ]
          },
          "metadata": {}
        },
        {
          "output_type": "display_data",
          "data": {
            "text/plain": [
              "<IPython.core.display.Javascript object>"
            ],
            "application/javascript": [
              "download(\"download_29441756-a59e-4742-b0ec-a75dd9d829b6\", \"bounds.tsv\", 3567)"
            ]
          },
          "metadata": {}
        }
      ]
    },
    {
      "cell_type": "markdown",
      "metadata": {
        "id": "ZQ4RPppFvG-S"
      },
      "source": [
        "Submit \"bounds.tsv\" in Gradescope."
      ]
    },
    {
      "cell_type": "markdown",
      "metadata": {
        "id": "AfazOSWlwYsP"
      },
      "source": [
        "## Part 6: Make Online Recommendations\n",
        "\n",
        "Implement LinUCB to make 100 recommendations starting with no data and using the same parameters as in part 5.\n",
        "One recommendation should be made at a time and you can break ties arbitrarily.\n",
        "After each recommendation, use the rating from part 1 as the reward to update the LinUCB data.\n",
        "Record the recommendations made in a file \"recommendations.tsv\" with columns \"recipe_slug\", \"score_bound\", and \"reward\".\n",
        "The rows in this file should be in the same order as the recommendations were made."
      ]
    },
    {
      "cell_type": "code",
      "execution_count": 40,
      "metadata": {
        "id": "hQ7r45B7wm4v",
        "colab": {
          "base_uri": "https://localhost:8080/"
        },
        "outputId": "515460f3-8b2c-41fc-eb3f-3aef79484015"
      },
      "outputs": [
        {
          "output_type": "stream",
          "name": "stdout",
          "text": [
            "Saved recommendations.tsv with 100 rows\n",
            "        recipe_slug  score_bound  reward\n",
            "0     apple-crumble     7.483315     0.5\n",
            "1     ma-la-chicken     7.225922     0.5\n",
            "2       quesadillas     7.215690     0.5\n",
            "3             ramen     7.205736     0.5\n",
            "4  pain-au-chocolat     6.948626     1.0\n"
          ]
        }
      ],
      "source": [
        "# YOUR CHANGES HERE\n",
        "\n",
        "\n",
        "\n",
        "# -------------------------\n",
        "# 0. Parameters\n",
        "# -------------------------\n",
        "alpha = 2.0        # LinUCB exploration parameter (given in Part 5)\n",
        "# lambda is handled by initializing A = I (equivalent to regularizer = 1)\n",
        "\n",
        "# -------------------------\n",
        "# 1. Load features and ratings\n",
        "# -------------------------\n",
        "features_df = pd.read_csv(\"features.tsv\", sep=\"\\t\")   # from Part 2\n",
        "ratings_df  = pd.read_csv(\"ratings.tsv\", sep=\"\\t\")    # from Part 1\n",
        "\n",
        "# Make sure features and ratings refer to the same recipes in the same order\n",
        "# (this is convenient but not strictly required for correctness)\n",
        "features_df = features_df.set_index('recipe_slug').reindex(ratings_df['recipe_slug']).fillna(0)\n",
        "ratings_series = ratings_df.set_index('recipe_slug')['rating']\n",
        "\n",
        "# Convert feature table to numeric matrix X (rows = recipes, cols = features including 'bias')\n",
        "X_df = features_df.astype(float)\n",
        "recipe_slugs = X_df.index.to_list()\n",
        "X = X_df.to_numpy(dtype=float)   # shape (n_recipes, n_features)\n",
        "n, p = X.shape\n",
        "\n",
        "# -------------------------\n",
        "# 2. Initialize LinUCB variables\n",
        "# -------------------------\n",
        "A = np.eye(p, dtype=float)     # A = I (p x p). This encodes the ridge regularizer = 1.\n",
        "b = np.zeros(p, dtype=float)   # b = 0 (p-vector)\n",
        "\n",
        "# We'll record the recommendations in order\n",
        "records = []  # list of tuples (recipe_slug, score_bound_at_choice, reward_observed)\n",
        "\n",
        "# -------------------------\n",
        "# 3. Online loop: make 100 recommendations\n",
        "# -------------------------\n",
        "T = 100\n",
        "for t in range(T):\n",
        "    # 3.1 compute current inverse and theta_hat\n",
        "    A_inv = np.linalg.inv(A)        # inverse of A\n",
        "    theta_hat = A_inv @ b           # current linear estimate (p-vector)\n",
        "\n",
        "    # 3.2 compute mean estimates and variances for every recipe\n",
        "    means = X @ theta_hat           # shape (n,) predicted mean for each recipe\n",
        "    # variance for each recipe: x^T A_inv x\n",
        "    variances = np.array([float(x @ A_inv @ x) for x in X])   # shape (n,)\n",
        "\n",
        "    # 3.3 compute LinUCB upper bound = mean + alpha * stddev\n",
        "    bounds = means + alpha * np.sqrt(variances)\n",
        "\n",
        "    # 3.4 pick the recipe with the largest bound (ties broken by first occurrence)\n",
        "    j = int(np.argmax(bounds))\n",
        "    chosen_slug = recipe_slugs[j]\n",
        "    chosen_bound = float(bounds[j])\n",
        "\n",
        "    # 3.5 observe reward: use the rating from ratings.tsv (the assignment says to use these)\n",
        "    reward = float(ratings_series.loc[chosen_slug])\n",
        "\n",
        "    # 3.6 record the recommendation\n",
        "    records.append((chosen_slug, chosen_bound, reward))\n",
        "\n",
        "    # 3.7 update A and b with the chosen context and observed reward\n",
        "    x = X[j]   # feature vector (1D)\n",
        "    A += np.outer(x, x)   # A = A + x x^T\n",
        "    b += reward * x       # b = b + r * x\n",
        "\n",
        "# -------------------------\n",
        "# 4. Save recommendations.tsv\n",
        "# -------------------------\n",
        "recs_df = pd.DataFrame(records, columns=['recipe_slug', 'score_bound', 'reward'])\n",
        "recs_df.to_csv(\"recommendations.tsv\", sep=\"\\t\", index=False)\n",
        "print(\"Saved recommendations.tsv with\", len(recs_df), \"rows\")\n",
        "print(recs_df.head())\n"
      ]
    },
    {
      "cell_type": "code",
      "source": [
        "files.download(\"recommendations.tsv\")"
      ],
      "metadata": {
        "colab": {
          "base_uri": "https://localhost:8080/",
          "height": 17
        },
        "id": "ho87YO6U1mp3",
        "outputId": "82a8ba47-8bd2-48b6-8450-a8a7cb7dba31"
      },
      "execution_count": 41,
      "outputs": [
        {
          "output_type": "display_data",
          "data": {
            "text/plain": [
              "<IPython.core.display.Javascript object>"
            ],
            "application/javascript": [
              "\n",
              "    async function download(id, filename, size) {\n",
              "      if (!google.colab.kernel.accessAllowed) {\n",
              "        return;\n",
              "      }\n",
              "      const div = document.createElement('div');\n",
              "      const label = document.createElement('label');\n",
              "      label.textContent = `Downloading \"${filename}\": `;\n",
              "      div.appendChild(label);\n",
              "      const progress = document.createElement('progress');\n",
              "      progress.max = size;\n",
              "      div.appendChild(progress);\n",
              "      document.body.appendChild(div);\n",
              "\n",
              "      const buffers = [];\n",
              "      let downloaded = 0;\n",
              "\n",
              "      const channel = await google.colab.kernel.comms.open(id);\n",
              "      // Send a message to notify the kernel that we're ready.\n",
              "      channel.send({})\n",
              "\n",
              "      for await (const message of channel.messages) {\n",
              "        // Send a message to notify the kernel that we're ready.\n",
              "        channel.send({})\n",
              "        if (message.buffers) {\n",
              "          for (const buffer of message.buffers) {\n",
              "            buffers.push(buffer);\n",
              "            downloaded += buffer.byteLength;\n",
              "            progress.value = downloaded;\n",
              "          }\n",
              "        }\n",
              "      }\n",
              "      const blob = new Blob(buffers, {type: 'application/binary'});\n",
              "      const a = document.createElement('a');\n",
              "      a.href = window.URL.createObjectURL(blob);\n",
              "      a.download = filename;\n",
              "      div.appendChild(a);\n",
              "      a.click();\n",
              "      div.remove();\n",
              "    }\n",
              "  "
            ]
          },
          "metadata": {}
        },
        {
          "output_type": "display_data",
          "data": {
            "text/plain": [
              "<IPython.core.display.Javascript object>"
            ],
            "application/javascript": [
              "download(\"download_ae7c71a9-1b2d-4dd2-acb2-04f2a43f671b\", \"recommendations.tsv\", 3962)"
            ]
          },
          "metadata": {}
        }
      ]
    },
    {
      "cell_type": "markdown",
      "metadata": {
        "id": "23jv0cD0woSt"
      },
      "source": [
        "Submit \"recommendations.tsv\" in Gradescope."
      ]
    },
    {
      "cell_type": "markdown",
      "metadata": {
        "id": "zi8lV2pbvWMs"
      },
      "source": [
        "## Part 7: Acknowledgments\n",
        "\n",
        "Make a file \"acknowledgments.txt\" documenting any outside sources or help on this project.\n",
        "If you discussed this assignment with anyone, please acknowledge them here.\n",
        "If you used any libraries not mentioned in this module's content, please list them with a brief explanation what you used them for.\n",
        "If you used any generative AI tools, please add links to your transcripts below, and any other information that you feel is necessary to comply with the generative AI policy.\n",
        "If no acknowledgements are appropriate, just write none in the file.\n"
      ]
    },
    {
      "cell_type": "markdown",
      "metadata": {
        "id": "SuNJe62UxCoH"
      },
      "source": [
        "Submit \"acknowledgments.txt\" in Gradescope."
      ]
    },
    {
      "cell_type": "markdown",
      "metadata": {
        "id": "smsTLuFcvR-I"
      },
      "source": [
        "## Part 8: Code\n",
        "\n",
        "Please submit a Jupyter notebook that can reproduce all your calculations and recreate the previously submitted files.\n"
      ]
    }
  ],
  "metadata": {
    "colab": {
      "provenance": [],
      "include_colab_link": true
    },
    "kernelspec": {
      "display_name": "Python 3",
      "name": "python3"
    },
    "language_info": {
      "codemirror_mode": {
        "name": "ipython",
        "version": 3
      },
      "file_extension": ".py",
      "mimetype": "text/x-python",
      "name": "python",
      "nbconvert_exporter": "python",
      "pygments_lexer": "ipython3",
      "version": "3.9.6"
    }
  },
  "nbformat": 4,
  "nbformat_minor": 0
}