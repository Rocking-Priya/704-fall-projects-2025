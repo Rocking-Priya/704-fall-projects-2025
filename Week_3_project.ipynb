{
  "cells": [
    {
      "cell_type": "markdown",
      "metadata": {
        "id": "view-in-github",
        "colab_type": "text"
      },
      "source": [
        "<a href=\"https://colab.research.google.com/github/Rocking-Priya/704-fall-projects-2025/blob/main/Week_3_project.ipynb\" target=\"_parent\"><img src=\"https://colab.research.google.com/assets/colab-badge.svg\" alt=\"Open In Colab\"/></a>"
      ]
    },
    {
      "cell_type": "markdown",
      "metadata": {
        "id": "_avVIGTpvioI"
      },
      "source": [
        "# DX 704 Week 3 Project\n",
        "This week's project will give you practice with optimizing choices for bandit algorithms.\n",
        "You will be given access to the bandit problem via a blackbox object, and you will investigate the bandit rewards to pick a suitable algorithm."
      ]
    },
    {
      "cell_type": "markdown",
      "metadata": {
        "id": "ftRkegOQowWA"
      },
      "source": [
        "The full project description, a template notebook and supporting code are available on GitHub: [Project 3 Materials](https://github.com/bu-cds-dx704/dx704-project-03).\n"
      ]
    },
    {
      "cell_type": "markdown",
      "metadata": {
        "id": "-tPHvNSEdR6h"
      },
      "source": [
        "## Example Code\n",
        "\n",
        "You may find it helpful to refer to these GitHub repositories of Jupyter notebooks for example code.\n",
        "\n",
        "* https://github.com/bu-cds-omds/dx601-examples\n",
        "* https://github.com/bu-cds-omds/dx602-examples\n",
        "* https://github.com/bu-cds-omds/dx603-examples\n",
        "* https://github.com/bu-cds-omds/dx704-examples\n",
        "\n",
        "Any calculations demonstrated in code examples or videos may be found in these notebooks, and you are allowed to copy this example code in your homework answers."
      ]
    },
    {
      "cell_type": "markdown",
      "metadata": {
        "id": "b6VKDAEY8JMI"
      },
      "source": [
        "## Part 1: Pick a Bandit Algorithm\n",
        "\n",
        "Experiment with the multi-armed bandit interface using seed 0 to learn about the distribution of rewards and decide what kind of bandit algorithm will be appropriate.\n",
        "A histogram will likely be helpful."
      ]
    },
    {
      "cell_type": "code",
      "execution_count": null,
      "metadata": {
        "id": "BCggNE7NpiQN"
      },
      "outputs": [],
      "source": [
        "# DO NOT CHANGE\n",
        "\n",
        "import numpy as np\n",
        "\n",
        "class BanditProblem(object):\n",
        "    def __init__(self, seed):\n",
        "        self.seed = seed\n",
        "        self.rng = np.random.default_rng(seed)\n",
        "\n",
        "        self.num_arms = 3\n",
        "        self.ns = self.rng.integers(low=1, high=10, size=self.num_arms)\n",
        "        self.ps = self.rng.uniform(low=0.2, high=0.4, size=self.num_arms)\n",
        "\n",
        "    def get_num_arms(self):\n",
        "        return self.num_arms\n",
        "\n",
        "    def get_reward(self, arm):\n",
        "        if arm < 0 or arm >= self.num_arms:\n",
        "            raise ValueError(\"Invalid arm\")\n",
        "\n",
        "        x = self.rng.uniform()\n",
        "        x *= self.rng.binomial(self.ns[arm], self.ps[arm])\n",
        "\n",
        "        return x\n"
      ]
    },
    {
      "cell_type": "code",
      "execution_count": null,
      "metadata": {
        "id": "X99ZQUyhpgak"
      },
      "outputs": [],
      "source": [
        "bandit0 = BanditProblem(0)"
      ]
    },
    {
      "cell_type": "code",
      "execution_count": null,
      "metadata": {
        "id": "frDtVjt4qATJ",
        "colab": {
          "base_uri": "https://localhost:8080/"
        },
        "outputId": "a1baa7fa-13e1-4313-fa69-3844431f2049"
      },
      "outputs": [
        {
          "output_type": "execute_result",
          "data": {
            "text/plain": [
              "3"
            ]
          },
          "metadata": {},
          "execution_count": 63
        }
      ],
      "source": [
        "bandit0.get_num_arms()"
      ]
    },
    {
      "cell_type": "code",
      "execution_count": null,
      "metadata": {
        "id": "sdM9Ec3HqC6h",
        "colab": {
          "base_uri": "https://localhost:8080/"
        },
        "outputId": "557b77e4-c80c-4d79-d5f1-bdf35dbd6726"
      },
      "outputs": [
        {
          "output_type": "execute_result",
          "data": {
            "text/plain": [
              "1.8255111545554434"
            ]
          },
          "metadata": {},
          "execution_count": 64
        }
      ],
      "source": [
        "bandit0.get_reward(arm=0)"
      ]
    },
    {
      "cell_type": "code",
      "source": [
        "print(\"ns:\", bandit0.ns)\n",
        "print(\"ps:\", bandit0.ps.round(4))\n"
      ],
      "metadata": {
        "colab": {
          "base_uri": "https://localhost:8080/"
        },
        "id": "hPwOt3zNSoxD",
        "outputId": "f9732bbc-33f2-44a5-da93-50392a2b5ff5"
      },
      "execution_count": null,
      "outputs": [
        {
          "output_type": "stream",
          "name": "stdout",
          "text": [
            "ns: [8 6 5]\n",
            "ps: [0.2082 0.2033 0.3627]\n"
          ]
        }
      ]
    },
    {
      "cell_type": "code",
      "execution_count": null,
      "metadata": {
        "id": "iuQ0jCr_plcZ",
        "colab": {
          "base_uri": "https://localhost:8080/",
          "height": 939
        },
        "outputId": "d8784a1b-f512-44aa-92df-f563e9042754"
      },
      "outputs": [
        {
          "output_type": "stream",
          "name": "stdout",
          "text": [
            "Arm 0: mean=0.8339, std=0.8253, frac_zero=0.1575, max=6.7825\n"
          ]
        },
        {
          "output_type": "display_data",
          "data": {
            "text/plain": [
              "<Figure size 500x300 with 1 Axes>"
            ],
            "image/png": "[encoded data removed]"
          },
          "metadata": {}
        },
        {
          "output_type": "stream",
          "name": "stdout",
          "text": [
            "Arm 1: mean=0.6074, std=0.6706, frac_zero=0.2560, max=4.8546\n"
          ]
        },
        {
          "output_type": "display_data",
          "data": {
            "text/plain": [
              "<Figure size 500x300 with 1 Axes>"
            ],
            "image/png": "[encoded data removed]"
          },
          "metadata": {}
        },
        {
          "output_type": "stream",
          "name": "stdout",
          "text": [
            "Arm 2: mean=0.8991, std=0.8031, frac_zero=0.1044, max=4.9959\n"
          ]
        },
        {
          "output_type": "display_data",
          "data": {
            "text/plain": [
              "<Figure size 500x300 with 1 Axes>"
            ],
            "image/png": "[encoded data removed]"
          },
          "metadata": {}
        }
      ],
      "source": [
        "# YOUR CHANGES HERE\n",
        "\n",
        "import matplotlib.pyplot as plt\n",
        "n_sims = 30000\n",
        "k = bandit0.get_num_arms()\n",
        "samples = [np.array([bandit0.get_reward(a) for _ in range(n_sims)]) for a in range(k)]\n",
        "\n",
        "for a, s in enumerate(samples):\n",
        "    print(f\"Arm {a}: mean={s.mean():.4f}, std={s.std(ddof=1):.4f}, frac_zero={(s==0).mean():.4f}, max={s.max():.4f}\")\n",
        "    plt.figure(figsize=(5,3))\n",
        "    plt.hist(s, bins=50)\n",
        "    plt.title(f\"Arm {a} rewards\")\n",
        "    plt.xlabel(\"reward\"); plt.ylabel(\"count\"); plt.tight_layout(); plt.show()\n"
      ]
    },
    {
      "cell_type": "markdown",
      "metadata": {
        "id": "s4-3KtNXtzlY"
      },
      "source": [
        "Based on your investigation, pick an appropriate bandit algorithm to implement from the algorithms covered this week.\n",
        "Write a file \"algorithm-choice.txt\" that states your choice and gives a few sentences justifying your choice and rejecting the alternatives.\n",
        "Keep your explanation concise; overly verbose responses will be penalized."
      ]
    },
    {
      "cell_type": "markdown",
      "metadata": {
        "id": "lY_xvfK4rN0C"
      },
      "source": [
        "## Part 2: Implement Bandit\n",
        "\n",
        "Based on your decision, implement an appropriate bandit algorithm and pick 1000 actions using seed 2025002."
      ]
    },
    {
      "cell_type": "code",
      "execution_count": null,
      "metadata": {
        "id": "kufc5pAPrWTT",
        "colab": {
          "base_uri": "https://localhost:8080/"
        },
        "outputId": "672e3fd2-22ee-4cff-a70f-a95b47a0eee4"
      },
      "outputs": [
        {
          "output_type": "stream",
          "name": "stdout",
          "text": [
            "Bandit ns: [4, 4, 1]\n",
            "Bandit ps: [0.2814, 0.269, 0.3944]\n",
            "Pull counts: [637, 314, 49]\n",
            "Total reward over 1000 rounds: 542.250453\n"
          ]
        }
      ],
      "source": [
        "# YOUR CHANGES HERE\n",
        "\n",
        "# Re-run the UCB1 implementation\n",
        "import math\n",
        "import csv\n",
        "from pathlib import Path\n",
        "\n",
        "class BanditProblem(object):\n",
        "    def __init__(self, seed):\n",
        "        self.seed = seed\n",
        "        self.rng = np.random.default_rng(seed)\n",
        "\n",
        "        self.num_arms = 3\n",
        "        self.ns = self.rng.integers(low=1, high=10, size=self.num_arms)\n",
        "        self.ps = self.rng.uniform(low=0.2, high=0.4, size=self.num_arms)\n",
        "\n",
        "    def get_num_arms(self):\n",
        "        return self.num_arms\n",
        "\n",
        "    def get_reward(self, arm):\n",
        "        if arm < 0 or arm >= self.num_arms:\n",
        "            raise ValueError(\"Invalid arm\")\n",
        "\n",
        "        x = self.rng.uniform()\n",
        "        x *= self.rng.binomial(self.ns[arm], self.ps[arm])\n",
        "\n",
        "        return x\n",
        "\n",
        "# Instantiate bandit with requested seed\n",
        "seed = 2025002\n",
        "bandit = BanditProblem(seed)\n",
        "\n",
        "# Parameters\n",
        "T = 1000\n",
        "k = bandit.get_num_arms()\n",
        "max_ns = bandit.ns.max()\n",
        "\n",
        "# UCB1 (normalized rewards by max_ns)\n",
        "counts = np.zeros(k, dtype=int)\n",
        "sums = np.zeros(k, dtype=float)\n",
        "\n",
        "history = []  # list of (action, reward) in order taken\n",
        "\n",
        "# Initialization: pull each arm once (if T < k, only pull up to T)\n",
        "t = 0\n",
        "for a in range(k):\n",
        "    if t >= T:\n",
        "        break\n",
        "    r = bandit.get_reward(a)\n",
        "    counts[a] += 1\n",
        "    sums[a] += r\n",
        "    history.append((a, r))\n",
        "    t += 1\n",
        "\n",
        "# Main loop\n",
        "while t < T:\n",
        "    # compute normalized means (safe divide)\n",
        "    means = sums / counts\n",
        "    #means_norm = means / max_ns  # normalize to [0,1] (approx)\n",
        "    # compute UCB scores; note t in formula typically counts total pulls so far\n",
        "    # here we'll use current total pulls t (>=k)\n",
        "    bonuses = np.sqrt((2 * math.log(t)) / counts)\n",
        "    ucb_scores = means + bonuses\n",
        "    # pick arm with highest UCB score\n",
        "    arm = int(np.argmax(ucb_scores))\n",
        "    r = bandit.get_reward(arm)\n",
        "    counts[arm] += 1\n",
        "    sums[arm] += r\n",
        "    history.append((arm, r))\n",
        "    t += 1\n",
        "\n",
        "\n",
        "\n",
        "# Print brief summary\n",
        "total_reward = sum(r for (_, r) in history)\n",
        "print(\"Bandit ns:\", bandit.ns.tolist())\n",
        "print(\"Bandit ps:\", np.round(bandit.ps,4).tolist())\n",
        "print(\"Pull counts:\", counts.tolist())\n",
        "print(f\"Total reward over {T} rounds: {total_reward:.6f}\")\n",
        "\n"
      ]
    },
    {
      "cell_type": "markdown",
      "metadata": {
        "id": "Ho9QihatrZqy"
      },
      "source": [
        "Write a file \"history.tsv\" with columns action and reward in the order that the actions were taken."
      ]
    },
    {
      "cell_type": "code",
      "execution_count": null,
      "metadata": {
        "id": "OsiU7S1XrX0q"
      },
      "outputs": [],
      "source": [
        "# YOUR CHANGES HERE\n",
        "\n",
        "# Save history.tsv\n",
        "out_path = Path(\"/content/history.tsv\")\n",
        "with out_path.open(\"w\", newline=\"\") as f:\n",
        "    writer = csv.writer(f, delimiter=\"\\t\")\n",
        "    writer.writerow([\"action\", \"reward\"])\n",
        "    for a, r in history:\n",
        "        writer.writerow([a, f\"{r:.10f}\"])"
      ]
    },
    {
      "cell_type": "code",
      "source": [
        "from google.colab import files\n",
        "\n",
        "# This will prompt a download in your browser\n",
        "files.download(\"/content/history.tsv\")\n"
      ],
      "metadata": {
        "colab": {
          "base_uri": "https://localhost:8080/",
          "height": 17
        },
        "id": "HeK4Hjq_rNOB",
        "outputId": "93867e56-fbd3-4448-ccf0-e72ed1550e91"
      },
      "execution_count": null,
      "outputs": [
        {
          "output_type": "display_data",
          "data": {
            "text/plain": [
              "<IPython.core.display.Javascript object>"
            ],
            "application/javascript": [
              "\n",
              "    async function download(id, filename, size) {\n",
              "      if (!google.colab.kernel.accessAllowed) {\n",
              "        return;\n",
              "      }\n",
              "      const div = document.createElement('div');\n",
              "      const label = document.createElement('label');\n",
              "      label.textContent = `Downloading \"${filename}\": `;\n",
              "      div.appendChild(label);\n",
              "      const progress = document.createElement('progress');\n",
              "      progress.max = size;\n",
              "      div.appendChild(progress);\n",
              "      document.body.appendChild(div);\n",
              "\n",
              "      const buffers = [];\n",
              "      let downloaded = 0;\n",
              "\n",
              "      const channel = await google.colab.kernel.comms.open(id);\n",
              "      // Send a message to notify the kernel that we're ready.\n",
              "      channel.send({})\n",
              "\n",
              "      for await (const message of channel.messages) {\n",
              "        // Send a message to notify the kernel that we're ready.\n",
              "        channel.send({})\n",
              "        if (message.buffers) {\n",
              "          for (const buffer of message.buffers) {\n",
              "            buffers.push(buffer);\n",
              "            downloaded += buffer.byteLength;\n",
              "            progress.value = downloaded;\n",
              "          }\n",
              "        }\n",
              "      }\n",
              "      const blob = new Blob(buffers, {type: 'application/binary'});\n",
              "      const a = document.createElement('a');\n",
              "      a.href = window.URL.createObjectURL(blob);\n",
              "      a.download = filename;\n",
              "      div.appendChild(a);\n",
              "      a.click();\n",
              "      div.remove();\n",
              "    }\n",
              "  "
            ]
          },
          "metadata": {}
        },
        {
          "output_type": "display_data",
          "data": {
            "text/plain": [
              "<IPython.core.display.Javascript object>"
            ],
            "application/javascript": [
              "download(\"download_537ff4f7-31ec-4c03-9549-60c3099e35a1\", \"history.tsv\", 16015)"
            ]
          },
          "metadata": {}
        }
      ]
    },
    {
      "cell_type": "markdown",
      "metadata": {
        "id": "fwm-1x3mrfXu"
      },
      "source": [
        "Submit \"history.tsv\" in Gradescope."
      ]
    },
    {
      "cell_type": "markdown",
      "metadata": {
        "id": "xc0xYgCzrmGj"
      },
      "source": [
        "## Part 3: Action Statistics\n",
        "\n",
        "Based on the data from part 2, estimate the expected reward for each arm and write a file \"actions.tsv\" with the columns arm, min_reward, mean_reward, max_reward."
      ]
    },
    {
      "cell_type": "code",
      "execution_count": null,
      "metadata": {
        "id": "a-uAbY03sFna",
        "colab": {
          "base_uri": "https://localhost:8080/"
        },
        "outputId": "435b9330-bf71-4866-d7fb-daf29b8c03e3"
      },
      "outputs": [
        {
          "output_type": "stream",
          "name": "stdout",
          "text": [
            "Saved actions.tsv\n"
          ]
        }
      ],
      "source": [
        "# YOUR CHANGES HERE\n",
        "\n",
        "# 1. Collect rewards by arm\n",
        "k = max(a for a, _ in history) + 1  # number of arms\n",
        "arm_rewards = [[] for _ in range(k)]\n",
        "\n",
        "for a, r in history:\n",
        "    arm_rewards[a].append(r)\n",
        "\n",
        "# 2. Compute statistics\n",
        "stats = []\n",
        "for arm in range(k):\n",
        "    rewards = arm_rewards[arm]\n",
        "    min_r = min(rewards)\n",
        "    mean_r = np.mean(rewards)\n",
        "    max_r = max(rewards)\n",
        "    stats.append((arm, min_r, mean_r, max_r))\n",
        "\n",
        "\n",
        "\n",
        "print(\"Saved actions.tsv\")\n",
        "\n",
        "# 3. Save to actions.tsv with required columns\n",
        "out_path = Path(\"/content/actions.tsv\")\n",
        "with out_path.open(\"w\", newline=\"\") as f:\n",
        "    writer = csv.writer(f, delimiter=\"\\t\")\n",
        "    writer.writerow([\"arm\", \"action\", \"min_reward\", \"mean_reward\", \"max_reward\"])\n",
        "    for arm, min_r, mean_r, max_r in stats:\n",
        "        writer.writerow([arm, arm, f\"{min_r:.10f}\", f\"{mean_r:.10f}\", f\"{max_r:.10f}\"])\n",
        "\n"
      ]
    },
    {
      "cell_type": "code",
      "source": [
        "import pandas as pd\n",
        "\n",
        "# Read the TSV we just saved\n",
        "df = pd.read_csv(\"/content/actions.tsv\", sep=\"\\t\")\n",
        "\n",
        "# Print nicely\n",
        "print(df.to_string(index=False))"
      ],
      "metadata": {
        "colab": {
          "base_uri": "https://localhost:8080/"
        },
        "id": "cbYbz93H_z6N",
        "outputId": "3b3d2904-d24f-4b07-e7dc-9aec759bbf54"
      },
      "execution_count": null,
      "outputs": [
        {
          "output_type": "stream",
          "name": "stdout",
          "text": [
            " arm  action  min_reward  mean_reward  max_reward\n",
            "   0       0         0.0     0.583870    3.761461\n",
            "   1       1         0.0     0.513534    2.707422\n",
            "   2       2         0.0     0.185208    0.966617\n"
          ]
        }
      ]
    },
    {
      "cell_type": "code",
      "source": [
        "files.download(\"/content/actions.tsv\")"
      ],
      "metadata": {
        "colab": {
          "base_uri": "https://localhost:8080/",
          "height": 17
        },
        "id": "ty1JPoxZsWXC",
        "outputId": "5f849293-db89-4985-da6b-743a4640fe0b"
      },
      "execution_count": null,
      "outputs": [
        {
          "output_type": "display_data",
          "data": {
            "text/plain": [
              "<IPython.core.display.Javascript object>"
            ],
            "application/javascript": [
              "\n",
              "    async function download(id, filename, size) {\n",
              "      if (!google.colab.kernel.accessAllowed) {\n",
              "        return;\n",
              "      }\n",
              "      const div = document.createElement('div');\n",
              "      const label = document.createElement('label');\n",
              "      label.textContent = `Downloading \"${filename}\": `;\n",
              "      div.appendChild(label);\n",
              "      const progress = document.createElement('progress');\n",
              "      progress.max = size;\n",
              "      div.appendChild(progress);\n",
              "      document.body.appendChild(div);\n",
              "\n",
              "      const buffers = [];\n",
              "      let downloaded = 0;\n",
              "\n",
              "      const channel = await google.colab.kernel.comms.open(id);\n",
              "      // Send a message to notify the kernel that we're ready.\n",
              "      channel.send({})\n",
              "\n",
              "      for await (const message of channel.messages) {\n",
              "        // Send a message to notify the kernel that we're ready.\n",
              "        channel.send({})\n",
              "        if (message.buffers) {\n",
              "          for (const buffer of message.buffers) {\n",
              "            buffers.push(buffer);\n",
              "            downloaded += buffer.byteLength;\n",
              "            progress.value = downloaded;\n",
              "          }\n",
              "        }\n",
              "      }\n",
              "      const blob = new Blob(buffers, {type: 'application/binary'});\n",
              "      const a = document.createElement('a');\n",
              "      a.href = window.URL.createObjectURL(blob);\n",
              "      a.download = filename;\n",
              "      div.appendChild(a);\n",
              "      a.click();\n",
              "      div.remove();\n",
              "    }\n",
              "  "
            ]
          },
          "metadata": {}
        },
        {
          "output_type": "display_data",
          "data": {
            "text/plain": [
              "<IPython.core.display.Javascript object>"
            ],
            "application/javascript": [
              "download(\"download_b452205b-fa5a-4b43-af7e-3f453d9b69cf\", \"actions.tsv\", 178)"
            ]
          },
          "metadata": {}
        }
      ]
    },
    {
      "cell_type": "markdown",
      "metadata": {
        "id": "kk8s1hpEsHWX"
      },
      "source": [
        "Submit \"actions.tsv\" in Gradescope."
      ]
    },
    {
      "cell_type": "markdown",
      "metadata": {
        "id": "asaIrLTtsKEv"
      },
      "source": [
        "## Part 4: Regret Estimates\n",
        "\n",
        "Calculate the expected regret taking 1000 actions with the following strategies.\n",
        "\n",
        "* uniform: Pick an arm uniformly at random.\n",
        "* just-i: Always pick arm $i$. Do this for $i=0$ to $K-1$ where $K$ is the number of arms.\n",
        "* actual: This should match your output in part 2."
      ]
    },
    {
      "cell_type": "code",
      "execution_count": null,
      "metadata": {
        "id": "LgCSJKDmso5a"
      },
      "outputs": [],
      "source": [
        "# YOUR CHANGES HERE\n",
        "\n",
        "# 1. Get mean reward per arm from stats (Part 3)\n",
        "means = [mean_r for (_, _, mean_r, _) in stats]\n",
        "best_mean = max(means)\n",
        "K = len(means)\n",
        "\n",
        "# 2. Compute expected rewards for each strategy\n",
        "strategy_rewards = {}\n",
        "\n",
        "# uniform: pick arms uniformly at random\n",
        "uniform_reward = 1000 * np.mean(means)\n",
        "strategy_rewards['uniform'] = uniform_reward\n",
        "\n",
        "# just-i: always pick arm i\n",
        "for i, m in enumerate(means):\n",
        "    strategy_rewards[f'just-{i}'] = 1000 * m\n",
        "\n",
        "# actual: sum of rewards from Part 2\n",
        "actual_reward = sum(r for (_, r) in history)\n",
        "strategy_rewards['actual'] = actual_reward\n",
        "\n",
        "# 3. Compute regret = 1000*best_mean - strategy_reward\n",
        "strategy_regret = {s: 1000*best_mean - r for s, r in strategy_rewards.items()}"
      ]
    },
    {
      "cell_type": "markdown",
      "metadata": {
        "id": "ncXs2IqPsqQO"
      },
      "source": [
        "Write your results to a file \"strategies.tsv\" with the columns strategy and regret."
      ]
    },
    {
      "cell_type": "code",
      "execution_count": null,
      "metadata": {
        "id": "GlYK-oCUtyFm",
        "colab": {
          "base_uri": "https://localhost:8080/"
        },
        "outputId": "4affae46-d18f-46c5-b1ca-949877d3fbc8"
      },
      "outputs": [
        {
          "output_type": "stream",
          "name": "stdout",
          "text": [
            "Saved strategies.tsv\n",
            "Strategy regrets:\n",
            "uniform: 156.332860\n",
            "just-0: 0.000000\n",
            "just-1: 70.336179\n",
            "just-2: 398.662400\n",
            "actual: 41.620018\n"
          ]
        }
      ],
      "source": [
        "# YOUR CHANGES HERE\n",
        "\n",
        "# 4. Save to strategies.tsv\n",
        "out_path = Path(\"/content/strategies.tsv\")\n",
        "with out_path.open(\"w\", newline=\"\") as f:\n",
        "    writer = csv.writer(f, delimiter=\"\\t\")\n",
        "    writer.writerow([\"strategy\", \"regret\"])\n",
        "    for s, r in strategy_regret.items():\n",
        "        writer.writerow([s, f\"{r:.10f}\"])\n",
        "\n",
        "print(\"Saved strategies.tsv\")\n",
        "print(\"Strategy regrets:\")\n",
        "for s, r in strategy_regret.items():\n",
        "    print(f\"{s}: {r:.6f}\")\n"
      ]
    },
    {
      "cell_type": "code",
      "source": [
        "files.download(\"/content/strategies.tsv\")"
      ],
      "metadata": {
        "colab": {
          "base_uri": "https://localhost:8080/",
          "height": 17
        },
        "id": "VA22BXspuUDQ",
        "outputId": "aef3a3f8-317a-41c9-fe72-3f055493818e"
      },
      "execution_count": null,
      "outputs": [
        {
          "output_type": "display_data",
          "data": {
            "text/plain": [
              "<IPython.core.display.Javascript object>"
            ],
            "application/javascript": [
              "\n",
              "    async function download(id, filename, size) {\n",
              "      if (!google.colab.kernel.accessAllowed) {\n",
              "        return;\n",
              "      }\n",
              "      const div = document.createElement('div');\n",
              "      const label = document.createElement('label');\n",
              "      label.textContent = `Downloading \"${filename}\": `;\n",
              "      div.appendChild(label);\n",
              "      const progress = document.createElement('progress');\n",
              "      progress.max = size;\n",
              "      div.appendChild(progress);\n",
              "      document.body.appendChild(div);\n",
              "\n",
              "      const buffers = [];\n",
              "      let downloaded = 0;\n",
              "\n",
              "      const channel = await google.colab.kernel.comms.open(id);\n",
              "      // Send a message to notify the kernel that we're ready.\n",
              "      channel.send({})\n",
              "\n",
              "      for await (const message of channel.messages) {\n",
              "        // Send a message to notify the kernel that we're ready.\n",
              "        channel.send({})\n",
              "        if (message.buffers) {\n",
              "          for (const buffer of message.buffers) {\n",
              "            buffers.push(buffer);\n",
              "            downloaded += buffer.byteLength;\n",
              "            progress.value = downloaded;\n",
              "          }\n",
              "        }\n",
              "      }\n",
              "      const blob = new Blob(buffers, {type: 'application/binary'});\n",
              "      const a = document.createElement('a');\n",
              "      a.href = window.URL.createObjectURL(blob);\n",
              "      a.download = filename;\n",
              "      div.appendChild(a);\n",
              "      a.click();\n",
              "      div.remove();\n",
              "    }\n",
              "  "
            ]
          },
          "metadata": {}
        },
        {
          "output_type": "display_data",
          "data": {
            "text/plain": [
              "<IPython.core.display.Javascript object>"
            ],
            "application/javascript": [
              "download(\"download_1e6060b2-ed28-4b9d-b2ee-be38734fed77\", \"strategies.tsv\", 129)"
            ]
          },
          "metadata": {}
        }
      ]
    },
    {
      "cell_type": "markdown",
      "metadata": {
        "id": "bNs9BJCvtz2N"
      },
      "source": [
        "Submit \"strategies.tsv\" in Gradescope."
      ]
    },
    {
      "cell_type": "markdown",
      "metadata": {
        "id": "lopxdy3lsysb"
      },
      "source": [
        "## Part 5: Acknowledgments\n",
        "\n",
        "Make a file \"acknowledgments.txt\" documenting any outside sources or help on this project.\n",
        "If you discussed this assignment with anyone, please acknowledge them here.\n",
        "If you used any libraries not mentioned in this module's content, please list them with a brief explanation what you used them for.\n",
        "If you used any generative AI tools, please add links to your transcripts below, and any other information that you feel is necessary to comply with the generative AI policy.\n",
        "If no acknowledgements are appropriate, just write none in the file.\n"
      ]
    },
    {
      "cell_type": "markdown",
      "metadata": {
        "id": "H8-GaDpOw06W"
      },
      "source": [
        "Submit \"acknowledgments.txt\" in Gradescope."
      ]
    },
    {
      "cell_type": "markdown",
      "metadata": {
        "id": "_AR_XyZi8N_Q"
      },
      "source": [
        "## Part 6: Code\n",
        "\n",
        "Please submit a Jupyter notebook that can reproduce all your calculations and recreate the previously submitted files."
      ]
    },
    {
      "cell_type": "markdown",
      "metadata": {
        "id": "oXhGo_008M-b"
      },
      "source": [
        "Submit \"project.ipynb\" in Gradescope."
      ]
    }
  ],
  "metadata": {
    "colab": {
      "provenance": [],
      "include_colab_link": true
    },
    "kernelspec": {
      "display_name": "Python 3",
      "name": "python3"
    },
    "language_info": {
      "codemirror_mode": {
        "name": "ipython",
        "version": 3
      },
      "file_extension": ".py",
      "mimetype": "text/x-python",
      "name": "python",
      "nbconvert_exporter": "python",
      "pygments_lexer": "ipython3",
      "version": "3.9.6"
    }
  },
  "nbformat": 4,
  "nbformat_minor": 0
}