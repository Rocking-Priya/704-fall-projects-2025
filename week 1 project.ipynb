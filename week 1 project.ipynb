{
  "cells": [
    {
      "cell_type": "markdown",
      "metadata": {
        "id": "DDELa7o5UXrY"
      },
      "source": [
        "# DX 704 Week 1 Project\n",
        "\n",
        "This week's project will build a portfolio risk and return model, and make investing recommendations for hypothetical clients.\n",
        "You will collect historical data, estimate returns and risks, construct efficient frontier portfolios, and sanity check the certainty of the maximum return portfolio."
      ]
    },
    {
      "cell_type": "markdown",
      "metadata": {
        "id": "P6SxppNu8p8k"
      },
      "source": [
        "The full project description and a template notebook are available on GitHub at the following link.\n",
        "\n",
        "https://github.com/bu-cds-dx704/dx704-project-01\n"
      ]
    },
    {
      "cell_type": "markdown",
      "metadata": {
        "id": "GmIaQcdCwObV"
      },
      "source": [
        "Feel free to use optimization tools or libraries (such as CVXOPT or scipy.optimize) to perform any calculations required for this mini project."
      ]
    },
    {
      "cell_type": "markdown",
      "metadata": {
        "id": "KPgT1-sPZI51"
      },
      "source": [
        "### Example Code\n",
        "\n",
        "You may find it helpful to refer to these GitHub repositories of Jupyter notebooks for example code.\n",
        "\n",
        "* https://github.com/bu-cds-omds/dx601-examples\n",
        "* https://github.com/bu-cds-omds/dx602-examples\n",
        "* https://github.com/bu-cds-omds/dx603-examples\n",
        "* https://github.com/bu-cds-omds/dx704-examples\n",
        "\n",
        "Any calculations demonstrated in code examples or videos may be found in these notebooks, and you are allowed to copy this example code in your homework answers."
      ]
    },
    {
      "cell_type": "markdown",
      "metadata": {
        "id": "pv3PslO0V5Lm"
      },
      "source": [
        "## Part 1: Collect Data\n",
        "\n",
        "Collect historical monthly price data for the last 24 months covering 6 different stocks.\n",
        "The data should cover 24 consecutive months including the last month that ended before this week's material was released on Blackboard.\n",
        "To be clear, if a month ends between the Blackboard release and submitting your project, you do not need to add that month.\n",
        "\n",
        "The six different stocks must include AAPL, SPY and TSLA.\n",
        "At least one of the remaining 3 tickers must start with the same letter as your last name (e.g. professor Considine could use COIN).\n",
        "This is to encourage diversity in what stocks you analyze; if you discuss this project with classmates, please make sure that you pick different tickers to differentiate your work.\n",
        "Do not pick stocks with fewer than 24 consecutive months of price data."
      ]
    },
    {
      "cell_type": "code",
      "execution_count": 54,
      "metadata": {
        "id": "6pL-ppubxfvC",
        "colab": {
          "base_uri": "https://localhost:8080/"
        },
        "outputId": "920806bd-6d57-4feb-eeb8-981f9a7b28dd"
      },
      "outputs": [
        {
          "output_type": "stream",
          "name": "stderr",
          "text": [
            "/tmp/ipython-input-3790959639.py:10: FutureWarning: YF.download() has changed argument auto_adjust default to True\n",
            "  data = yf.download(tickers, start=\"2023-09-01\", end=\"2025-09-01\", interval=\"1mo\")['Close']\n",
            "[*********************100%***********************]  6 of 6 completed"
          ]
        },
        {
          "output_type": "stream",
          "name": "stdout",
          "text": [
            "Ticker            AAPL         DIS        GOOG        MSFT         SPY  \\\n",
            "Date                                                                     \n",
            "2023-09-30  169.549271   79.721001  131.070892  311.062317  416.396851   \n",
            "2023-10-31  169.113525   80.252136  124.559601  333.090363  408.794403   \n",
            "2023-11-30  188.107513   91.170135  133.128662  373.284637  446.135193   \n",
            "2023-12-31  190.913681   88.809486  140.097229  371.209137  464.619873   \n",
            "2024-01-31  182.851913   94.782936  140.962112  392.472412  473.933441   \n",
            "2024-02-29  179.232574  110.108070  138.954041  408.326111  498.666504   \n",
            "2024-03-31  170.257355  120.745865  151.360291  416.083130  513.378845   \n",
            "2024-04-30  169.115540  109.634399  163.667130  385.039062  494.210358   \n",
            "2024-05-31  190.879272  102.539261  172.932068  410.554779  519.207275   \n",
            "2024-06-30  209.401932   97.980194  182.336166  442.821381  535.796509   \n",
            "2024-07-31  220.795654   92.454071  172.322708  414.485565  544.033997   \n",
            "2024-08-31  227.675644   89.599197  164.321152  413.286743  556.745605   \n",
            "2024-09-30  231.920639   95.359016  166.391220  427.093567  566.701599   \n",
            "2024-10-31  224.863480   95.368919  172.091171  403.322052  563.367371   \n",
            "2024-11-30  236.230576  116.455170  169.898788  420.304535  596.962891   \n",
            "2024-12-31  249.534180  110.388039  189.779602  419.196564  580.645630   \n",
            "2025-01-31  235.165192  112.579910  205.119492  412.791748  598.246399   \n",
            "2025-02-28  240.984528  113.316772  171.817490  394.820496  590.651794   \n",
            "2025-03-31  221.587616   98.280891  155.864868  374.087158  556.068359   \n",
            "2025-04-30  211.981125   90.563797  160.696838  393.888184  552.905457   \n",
            "2025-05-31  200.359573  112.559998  172.642487  458.762207  587.652771   \n",
            "2025-06-30  204.937408  123.483421  177.177032  496.593658  616.028809   \n",
            "2025-07-31  207.334702  119.110001  192.860001  532.624390  632.080017   \n",
            "2025-08-31  231.876846  118.379997  213.529999  505.858429  645.049988   \n",
            "\n",
            "Ticker            TSLA  \n",
            "Date                    \n",
            "2023-09-30  250.220001  \n",
            "2023-10-31  200.839996  \n",
            "2023-11-30  240.080002  \n",
            "2023-12-31  248.479996  \n",
            "2024-01-31  187.289993  \n",
            "2024-02-29  201.880005  \n",
            "2024-03-31  175.789993  \n",
            "2024-04-30  183.279999  \n",
            "2024-05-31  178.080002  \n",
            "2024-06-30  197.880005  \n",
            "2024-07-31  232.070007  \n",
            "2024-08-31  214.110001  \n",
            "2024-09-30  261.630005  \n",
            "2024-10-31  249.850006  \n",
            "2024-11-30  345.160004  \n",
            "2024-12-31  403.839996  \n",
            "2025-01-31  404.600006  \n",
            "2025-02-28  292.980011  \n",
            "2025-03-31  259.160004  \n",
            "2025-04-30  282.160004  \n",
            "2025-05-31  346.459991  \n",
            "2025-06-30  317.660004  \n",
            "2025-07-31  308.269989  \n",
            "2025-08-31  333.869995  \n"
          ]
        },
        {
          "output_type": "stream",
          "name": "stderr",
          "text": [
            "\n"
          ]
        }
      ],
      "source": [
        "# YOUR CHANGES HERE\n",
        "import yfinance as yf\n",
        "import pandas as pd\n",
        "\n",
        "# 1. Pick your tickers\n",
        "tickers = [\"AAPL\", \"SPY\", \"TSLA\", \"DIS\", \"GOOG\", \"MSFT\"]\n",
        "\n",
        "# 2. Download 2 years of monthly data\n",
        "# interval=\"1mo\" → monthly data\n",
        "data = yf.download(tickers, start=\"2023-09-01\", end=\"2025-09-01\", interval=\"1mo\")['Close']\n",
        "\n",
        "data.index = data.index + pd.offsets.MonthEnd(0)\n",
        "\n",
        "# 4. Show the data\n",
        "print(data.tail(24))  # last 24 months\n"
      ]
    },
    {
      "cell_type": "markdown",
      "metadata": {
        "id": "1uH9oDQ1rEQT"
      },
      "source": [
        "Save the data as a TSV file named \"historical_prices.tsv\" and include a header row with the column names \"date\" and the 6 stock ticker symbols.\n",
        "The date should be the last trading day of the month, so it may not be the last day of the month.\n",
        "For example, the last trading day of November 2024 was 2024-11-29.\n",
        "The remaining columns should contain the adjusted closing prices of the corresponding stock tickers on that day.\n"
      ]
    },
    {
      "cell_type": "code",
      "execution_count": 55,
      "metadata": {
        "id": "mHbwKHOhtQ3E",
        "colab": {
          "base_uri": "https://localhost:8080/"
        },
        "outputId": "13a115c0-5cb4-4459-8686-bc91cfe05fd3"
      },
      "outputs": [
        {
          "output_type": "stream",
          "name": "stdout",
          "text": [
            "Saved historical_prices.tsv\n"
          ]
        }
      ],
      "source": [
        "# YOUR CHANGES HERE\n",
        "# 3. Reset index so \"Date\" becomes a column\n",
        "data = data.reset_index()\n",
        "\n",
        "# 4. Rename the Date column to \"date\"\n",
        "data = data.rename(columns={\"Date\": \"date\"})\n",
        "\n",
        "# 5. Save as TSV (Tab-Separated Values)\n",
        "data.to_csv(\"historical_prices.tsv\", sep=\"\\t\", index=False)\n",
        "\n",
        "print(\"Saved historical_prices.tsv\")\n"
      ]
    },
    {
      "cell_type": "code",
      "source": [
        "from google.colab import files\n",
        "files.download(\"historical_prices.tsv\")\n"
      ],
      "metadata": {
        "colab": {
          "base_uri": "https://localhost:8080/",
          "height": 17
        },
        "id": "2Iqcut6qP6A_",
        "outputId": "c61bbfe6-db13-4916-c4c7-3207a5293422"
      },
      "execution_count": 80,
      "outputs": [
        {
          "output_type": "display_data",
          "data": {
            "text/plain": [
              "<IPython.core.display.Javascript object>"
            ],
            "application/javascript": [
              "\n",
              "    async function download(id, filename, size) {\n",
              "      if (!google.colab.kernel.accessAllowed) {\n",
              "        return;\n",
              "      }\n",
              "      const div = document.createElement('div');\n",
              "      const label = document.createElement('label');\n",
              "      label.textContent = `Downloading \"${filename}\": `;\n",
              "      div.appendChild(label);\n",
              "      const progress = document.createElement('progress');\n",
              "      progress.max = size;\n",
              "      div.appendChild(progress);\n",
              "      document.body.appendChild(div);\n",
              "\n",
              "      const buffers = [];\n",
              "      let downloaded = 0;\n",
              "\n",
              "      const channel = await google.colab.kernel.comms.open(id);\n",
              "      // Send a message to notify the kernel that we're ready.\n",
              "      channel.send({})\n",
              "\n",
              "      for await (const message of channel.messages) {\n",
              "        // Send a message to notify the kernel that we're ready.\n",
              "        channel.send({})\n",
              "        if (message.buffers) {\n",
              "          for (const buffer of message.buffers) {\n",
              "            buffers.push(buffer);\n",
              "            downloaded += buffer.byteLength;\n",
              "            progress.value = downloaded;\n",
              "          }\n",
              "        }\n",
              "      }\n",
              "      const blob = new Blob(buffers, {type: 'application/binary'});\n",
              "      const a = document.createElement('a');\n",
              "      a.href = window.URL.createObjectURL(blob);\n",
              "      a.download = filename;\n",
              "      div.appendChild(a);\n",
              "      a.click();\n",
              "      div.remove();\n",
              "    }\n",
              "  "
            ]
          },
          "metadata": {}
        },
        {
          "output_type": "display_data",
          "data": {
            "text/plain": [
              "<IPython.core.display.Javascript object>"
            ],
            "application/javascript": [
              "download(\"download_3ce6a67f-ecff-41ed-b9e5-3ad03c3ef0ad\", \"historical_prices.tsv\", 2907)"
            ]
          },
          "metadata": {}
        }
      ]
    },
    {
      "cell_type": "code",
      "source": [
        "print(data.to_string())"
      ],
      "metadata": {
        "colab": {
          "base_uri": "https://localhost:8080/"
        },
        "id": "8EBaMuxLj7BS",
        "outputId": "30f8cea6-6981-4f70-a7ea-d6ae5bab0037"
      },
      "execution_count": 56,
      "outputs": [
        {
          "output_type": "stream",
          "name": "stdout",
          "text": [
            "Ticker       date        AAPL         DIS        GOOG        MSFT         SPY        TSLA\n",
            "0      2023-09-30  169.549271   79.721001  131.070892  311.062317  416.396851  250.220001\n",
            "1      2023-10-31  169.113525   80.252136  124.559601  333.090363  408.794403  200.839996\n",
            "2      2023-11-30  188.107513   91.170135  133.128662  373.284637  446.135193  240.080002\n",
            "3      2023-12-31  190.913681   88.809486  140.097229  371.209137  464.619873  248.479996\n",
            "4      2024-01-31  182.851913   94.782936  140.962112  392.472412  473.933441  187.289993\n",
            "5      2024-02-29  179.232574  110.108070  138.954041  408.326111  498.666504  201.880005\n",
            "6      2024-03-31  170.257355  120.745865  151.360291  416.083130  513.378845  175.789993\n",
            "7      2024-04-30  169.115540  109.634399  163.667130  385.039062  494.210358  183.279999\n",
            "8      2024-05-31  190.879272  102.539261  172.932068  410.554779  519.207275  178.080002\n",
            "9      2024-06-30  209.401932   97.980194  182.336166  442.821381  535.796509  197.880005\n",
            "10     2024-07-31  220.795654   92.454071  172.322708  414.485565  544.033997  232.070007\n",
            "11     2024-08-31  227.675644   89.599197  164.321152  413.286743  556.745605  214.110001\n",
            "12     2024-09-30  231.920639   95.359016  166.391220  427.093567  566.701599  261.630005\n",
            "13     2024-10-31  224.863480   95.368919  172.091171  403.322052  563.367371  249.850006\n",
            "14     2024-11-30  236.230576  116.455170  169.898788  420.304535  596.962891  345.160004\n",
            "15     2024-12-31  249.534180  110.388039  189.779602  419.196564  580.645630  403.839996\n",
            "16     2025-01-31  235.165192  112.579910  205.119492  412.791748  598.246399  404.600006\n",
            "17     2025-02-28  240.984528  113.316772  171.817490  394.820496  590.651794  292.980011\n",
            "18     2025-03-31  221.587616   98.280891  155.864868  374.087158  556.068359  259.160004\n",
            "19     2025-04-30  211.981125   90.563797  160.696838  393.888184  552.905457  282.160004\n",
            "20     2025-05-31  200.359573  112.559998  172.642487  458.762207  587.652771  346.459991\n",
            "21     2025-06-30  204.937408  123.483421  177.177032  496.593658  616.028809  317.660004\n",
            "22     2025-07-31  207.334702  119.110001  192.860001  532.624390  632.080017  308.269989\n",
            "23     2025-08-31  231.876846  118.379997  213.529999  505.858429  645.049988  333.869995\n"
          ]
        }
      ]
    },
    {
      "cell_type": "markdown",
      "metadata": {
        "id": "2hp0yuXPtT9V"
      },
      "source": [
        "Submit \"historical_prices.tsv\" in Gradescope."
      ]
    },
    {
      "cell_type": "markdown",
      "metadata": {
        "id": "7XdNVWWirUd5"
      },
      "source": [
        "## Part 2: Calculate Historical Asset Returns\n",
        "\n",
        "Calculate the historical asset returns based on the price data that you previously collected."
      ]
    },
    {
      "cell_type": "code",
      "execution_count": 57,
      "metadata": {
        "id": "aL-kVua2xex-",
        "colab": {
          "base_uri": "https://localhost:8080/"
        },
        "outputId": "bfc42a8d-5847-4dad-a16e-f580a68ff397"
      },
      "outputs": [
        {
          "output_type": "stream",
          "name": "stdout",
          "text": [
            "                AAPL       DIS      GOOG      MSFT       SPY      TSLA\n",
            "date                                                                  \n",
            "2023-10-31 -0.002570  0.006662 -0.049678  0.070816 -0.018258 -0.197346\n",
            "2023-11-30  0.112315  0.136046  0.068795  0.120671  0.091344  0.195379\n",
            "2023-12-31  0.014918 -0.025893  0.052345 -0.005560  0.041433  0.034988\n",
            "2024-01-31 -0.042227  0.067261  0.006173  0.057281  0.020046 -0.246257\n",
            "2024-02-29 -0.019794  0.161687 -0.014245  0.040394  0.052187  0.077901\n",
            "2024-03-31 -0.050076  0.096612  0.089283  0.018997  0.029503 -0.129235\n",
            "2024-04-30 -0.006706 -0.092024  0.081308 -0.074610 -0.037338  0.042608\n",
            "2024-05-31  0.128692 -0.064716  0.056608  0.066268  0.050580 -0.028372\n",
            "2024-06-30  0.097039 -0.044462  0.054380  0.078593  0.031951  0.111186\n",
            "2024-07-31  0.054411 -0.056400 -0.054918 -0.063989  0.015374  0.172781\n",
            "2024-08-31  0.031160 -0.030879 -0.046434 -0.002892  0.023365 -0.077390\n",
            "2024-09-30  0.018645  0.064284  0.012598  0.033407  0.017882  0.221942\n",
            "2024-10-31 -0.030429  0.000104  0.034256 -0.055659 -0.005884 -0.045025\n",
            "2024-11-30  0.050551  0.221102 -0.012740  0.042107  0.059633  0.381469\n",
            "2024-12-31  0.056316 -0.052098  0.117016 -0.002636 -0.027334  0.170008\n",
            "2025-01-31 -0.057583  0.019856  0.080830 -0.015279  0.030312  0.001882\n",
            "2025-02-28  0.024746  0.006545 -0.162354 -0.043536 -0.012695 -0.275877\n",
            "2025-03-31 -0.080490 -0.132689 -0.092846 -0.052513 -0.058551 -0.115435\n",
            "2025-04-30 -0.043353 -0.078521  0.031001  0.052932 -0.005688  0.088748\n",
            "2025-05-31 -0.054824  0.242881  0.074337  0.164702  0.062845  0.227885\n",
            "2025-06-30  0.022848  0.097045  0.026266  0.082464  0.048287 -0.083126\n",
            "2025-07-31  0.011698 -0.035417  0.088516  0.072556  0.026056 -0.029560\n",
            "2025-08-31  0.118370 -0.006129  0.107176 -0.050253  0.020520  0.083044\n"
          ]
        }
      ],
      "source": [
        "# YOUR CHANGES HERE\n",
        "\n",
        "\n",
        "# Read your price data\n",
        "data = pd.read_csv(\"historical_prices.tsv\", sep=\"\\t\")\n",
        "\n",
        "# Set date as index\n",
        "data = data.set_index(\"date\")\n",
        "\n",
        "# Calculate monthly returns for each stock\n",
        "returns = data.pct_change()   # This calculates (current/previous - 1) for each column\n",
        "\n",
        "# Drop the first row (it will be NaN because there's no previous month to compare)\n",
        "returns = returns.dropna()\n",
        "\n",
        "print(returns)\n",
        "\n"
      ]
    },
    {
      "cell_type": "markdown",
      "metadata": {
        "id": "OjhEYCWOrIu3"
      },
      "source": [
        "Save the data as a TSV file named \"historical_returns.tsv\" and include a header row with the column names \"date\" and the 6 stock ticker symbols.\n",
        "Each row should have the date at the end of the month and the corresponding *relative* price changes.\n",
        "For example, if the previous price was \\$100 and the new price is \\$110, the return value should be 0.10.\n",
        "There should only be 23 rows of data in this file, since they are computed as the differences of 24 prices."
      ]
    },
    {
      "cell_type": "code",
      "execution_count": 58,
      "metadata": {
        "id": "cN-7q9QvvyKG"
      },
      "outputs": [],
      "source": [
        "# YOUR CHANGES HERE\n",
        "\n",
        "# Save the returns DataFrame to a TSV file\n",
        "returns.to_csv(\"historical_returns.tsv\", sep=\"\\t\", index_label=\"date\")\n"
      ]
    },
    {
      "cell_type": "code",
      "source": [
        "print(returns.to_string())"
      ],
      "metadata": {
        "colab": {
          "base_uri": "https://localhost:8080/"
        },
        "id": "Hvk5qBXD0a8o",
        "outputId": "e447f01a-d308-43e3-8c2b-f929111368c5"
      },
      "execution_count": 59,
      "outputs": [
        {
          "output_type": "stream",
          "name": "stdout",
          "text": [
            "                AAPL       DIS      GOOG      MSFT       SPY      TSLA\n",
            "date                                                                  \n",
            "2023-10-31 -0.002570  0.006662 -0.049678  0.070816 -0.018258 -0.197346\n",
            "2023-11-30  0.112315  0.136046  0.068795  0.120671  0.091344  0.195379\n",
            "2023-12-31  0.014918 -0.025893  0.052345 -0.005560  0.041433  0.034988\n",
            "2024-01-31 -0.042227  0.067261  0.006173  0.057281  0.020046 -0.246257\n",
            "2024-02-29 -0.019794  0.161687 -0.014245  0.040394  0.052187  0.077901\n",
            "2024-03-31 -0.050076  0.096612  0.089283  0.018997  0.029503 -0.129235\n",
            "2024-04-30 -0.006706 -0.092024  0.081308 -0.074610 -0.037338  0.042608\n",
            "2024-05-31  0.128692 -0.064716  0.056608  0.066268  0.050580 -0.028372\n",
            "2024-06-30  0.097039 -0.044462  0.054380  0.078593  0.031951  0.111186\n",
            "2024-07-31  0.054411 -0.056400 -0.054918 -0.063989  0.015374  0.172781\n",
            "2024-08-31  0.031160 -0.030879 -0.046434 -0.002892  0.023365 -0.077390\n",
            "2024-09-30  0.018645  0.064284  0.012598  0.033407  0.017882  0.221942\n",
            "2024-10-31 -0.030429  0.000104  0.034256 -0.055659 -0.005884 -0.045025\n",
            "2024-11-30  0.050551  0.221102 -0.012740  0.042107  0.059633  0.381469\n",
            "2024-12-31  0.056316 -0.052098  0.117016 -0.002636 -0.027334  0.170008\n",
            "2025-01-31 -0.057583  0.019856  0.080830 -0.015279  0.030312  0.001882\n",
            "2025-02-28  0.024746  0.006545 -0.162354 -0.043536 -0.012695 -0.275877\n",
            "2025-03-31 -0.080490 -0.132689 -0.092846 -0.052513 -0.058551 -0.115435\n",
            "2025-04-30 -0.043353 -0.078521  0.031001  0.052932 -0.005688  0.088748\n",
            "2025-05-31 -0.054824  0.242881  0.074337  0.164702  0.062845  0.227885\n",
            "2025-06-30  0.022848  0.097045  0.026266  0.082464  0.048287 -0.083126\n",
            "2025-07-31  0.011698 -0.035417  0.088516  0.072556  0.026056 -0.029560\n",
            "2025-08-31  0.118370 -0.006129  0.107176 -0.050253  0.020520  0.083044\n"
          ]
        }
      ]
    },
    {
      "cell_type": "code",
      "source": [
        "\n",
        "files.download(\"historical_returns.tsv\")\n"
      ],
      "metadata": {
        "colab": {
          "base_uri": "https://localhost:8080/",
          "height": 17
        },
        "id": "YC07E3cVQCPZ",
        "outputId": "b4a74e1d-310d-43f1-c65b-6a3235cc8e1e"
      },
      "execution_count": 81,
      "outputs": [
        {
          "output_type": "display_data",
          "data": {
            "text/plain": [
              "<IPython.core.display.Javascript object>"
            ],
            "application/javascript": [
              "\n",
              "    async function download(id, filename, size) {\n",
              "      if (!google.colab.kernel.accessAllowed) {\n",
              "        return;\n",
              "      }\n",
              "      const div = document.createElement('div');\n",
              "      const label = document.createElement('label');\n",
              "      label.textContent = `Downloading \"${filename}\": `;\n",
              "      div.appendChild(label);\n",
              "      const progress = document.createElement('progress');\n",
              "      progress.max = size;\n",
              "      div.appendChild(progress);\n",
              "      document.body.appendChild(div);\n",
              "\n",
              "      const buffers = [];\n",
              "      let downloaded = 0;\n",
              "\n",
              "      const channel = await google.colab.kernel.comms.open(id);\n",
              "      // Send a message to notify the kernel that we're ready.\n",
              "      channel.send({})\n",
              "\n",
              "      for await (const message of channel.messages) {\n",
              "        // Send a message to notify the kernel that we're ready.\n",
              "        channel.send({})\n",
              "        if (message.buffers) {\n",
              "          for (const buffer of message.buffers) {\n",
              "            buffers.push(buffer);\n",
              "            downloaded += buffer.byteLength;\n",
              "            progress.value = downloaded;\n",
              "          }\n",
              "        }\n",
              "      }\n",
              "      const blob = new Blob(buffers, {type: 'application/binary'});\n",
              "      const a = document.createElement('a');\n",
              "      a.href = window.URL.createObjectURL(blob);\n",
              "      a.download = filename;\n",
              "      div.appendChild(a);\n",
              "      a.click();\n",
              "      div.remove();\n",
              "    }\n",
              "  "
            ]
          },
          "metadata": {}
        },
        {
          "output_type": "display_data",
          "data": {
            "text/plain": [
              "<IPython.core.display.Javascript object>"
            ],
            "application/javascript": [
              "download(\"download_67cabf99-32ac-470e-a356-0a6dbc7c373c\", \"historical_returns.tsv\", 3132)"
            ]
          },
          "metadata": {}
        }
      ]
    },
    {
      "cell_type": "markdown",
      "metadata": {
        "id": "vyBtnCTUtfRq"
      },
      "source": [
        "Submit \"historical_returns.tsv\" in Gradescope."
      ]
    },
    {
      "cell_type": "markdown",
      "metadata": {
        "id": "MoCkf4ouV9IA"
      },
      "source": [
        "## Part 3: Estimate Returns\n",
        "\n",
        "Estimate the expected returns for each asset using the previously calculated return data.\n",
        "Just compute the average (mean) return for each asset over your data set; do not use other estimators that have been mentioned.\n",
        "This will serve as your estimate of expected return for each asset."
      ]
    },
    {
      "cell_type": "code",
      "execution_count": 60,
      "metadata": {
        "id": "N2iDEhSRxd2n",
        "colab": {
          "base_uri": "https://localhost:8080/"
        },
        "outputId": "62ca390a-cb92-4e7c-b546-cd0d5a04d160"
      },
      "outputs": [
        {
          "output_type": "stream",
          "name": "stdout",
          "text": [
            "AAPL    0.015376\n",
            "DIS     0.021776\n",
            "GOOG    0.023812\n",
            "MSFT    0.023229\n",
            "SPY     0.019807\n",
            "TSLA    0.025313\n",
            "dtype: float64\n"
          ]
        }
      ],
      "source": [
        "# YOUR CHANGES HERE\n",
        "\n",
        "# Compute the average return for each stock\n",
        "expected_returns = returns.mean()\n",
        "\n",
        "# Show the result\n",
        "print(expected_returns)\n"
      ]
    },
    {
      "cell_type": "markdown",
      "metadata": {
        "id": "e5YTEwoarM2M"
      },
      "source": [
        "Save the estimated returns in a TSV file named \"estimated_returns.tsv\" and include a header row with the column names \"asset\" and \"estimated_return\"."
      ]
    },
    {
      "cell_type": "code",
      "execution_count": 61,
      "metadata": {
        "id": "At71YDpwvwUw",
        "colab": {
          "base_uri": "https://localhost:8080/"
        },
        "outputId": "256169e6-c982-485a-9454-e900c6e649c0"
      },
      "outputs": [
        {
          "output_type": "stream",
          "name": "stdout",
          "text": [
            "Saved estimated_returns.tsv\n"
          ]
        }
      ],
      "source": [
        "# YOUR CHANGES HERE\n",
        "\n",
        "# 1. Convert expected returns (Series) into a DataFrame\n",
        "df_expected = expected_returns.reset_index()\n",
        "\n",
        "# 2. Rename the columns\n",
        "df_expected.columns = [\"asset\", \"estimated_return\"]\n",
        "\n",
        "# 3. Save to TSV (tab-separated file)\n",
        "df_expected.to_csv(\"estimated_returns.tsv\", sep=\"\\t\", index=False)\n",
        "\n",
        "print(\"Saved estimated_returns.tsv\")"
      ]
    },
    {
      "cell_type": "code",
      "source": [
        "files.download(\"estimated_returns.tsv\")"
      ],
      "metadata": {
        "colab": {
          "base_uri": "https://localhost:8080/",
          "height": 17
        },
        "id": "sN2WaE87QK85",
        "outputId": "d8fdbe41-6c4e-42cd-e459-354327072a8a"
      },
      "execution_count": 82,
      "outputs": [
        {
          "output_type": "display_data",
          "data": {
            "text/plain": [
              "<IPython.core.display.Javascript object>"
            ],
            "application/javascript": [
              "\n",
              "    async function download(id, filename, size) {\n",
              "      if (!google.colab.kernel.accessAllowed) {\n",
              "        return;\n",
              "      }\n",
              "      const div = document.createElement('div');\n",
              "      const label = document.createElement('label');\n",
              "      label.textContent = `Downloading \"${filename}\": `;\n",
              "      div.appendChild(label);\n",
              "      const progress = document.createElement('progress');\n",
              "      progress.max = size;\n",
              "      div.appendChild(progress);\n",
              "      document.body.appendChild(div);\n",
              "\n",
              "      const buffers = [];\n",
              "      let downloaded = 0;\n",
              "\n",
              "      const channel = await google.colab.kernel.comms.open(id);\n",
              "      // Send a message to notify the kernel that we're ready.\n",
              "      channel.send({})\n",
              "\n",
              "      for await (const message of channel.messages) {\n",
              "        // Send a message to notify the kernel that we're ready.\n",
              "        channel.send({})\n",
              "        if (message.buffers) {\n",
              "          for (const buffer of message.buffers) {\n",
              "            buffers.push(buffer);\n",
              "            downloaded += buffer.byteLength;\n",
              "            progress.value = downloaded;\n",
              "          }\n",
              "        }\n",
              "      }\n",
              "      const blob = new Blob(buffers, {type: 'application/binary'});\n",
              "      const a = document.createElement('a');\n",
              "      a.href = window.URL.createObjectURL(blob);\n",
              "      a.download = filename;\n",
              "      div.appendChild(a);\n",
              "      a.click();\n",
              "      div.remove();\n",
              "    }\n",
              "  "
            ]
          },
          "metadata": {}
        },
        {
          "output_type": "display_data",
          "data": {
            "text/plain": [
              "<IPython.core.display.Javascript object>"
            ],
            "application/javascript": [
              "download(\"download_215316d5-dc09-4616-b7a3-48fb51bdd3f6\", \"estimated_returns.tsv\", 176)"
            ]
          },
          "metadata": {}
        }
      ]
    },
    {
      "cell_type": "markdown",
      "metadata": {
        "id": "cjfnF-2Wtj6r"
      },
      "source": [
        "Submit \"estimated_returns.tsv\" in Gradescope."
      ]
    },
    {
      "cell_type": "code",
      "source": [
        "print(df_expected.to_string())"
      ],
      "metadata": {
        "colab": {
          "base_uri": "https://localhost:8080/"
        },
        "id": "Tl9ZKnAM3dYF",
        "outputId": "a150e4c7-6471-43ca-943b-d2694694d2e6"
      },
      "execution_count": 62,
      "outputs": [
        {
          "output_type": "stream",
          "name": "stdout",
          "text": [
            "  asset  estimated_return\n",
            "0  AAPL          0.015376\n",
            "1   DIS          0.021776\n",
            "2  GOOG          0.023812\n",
            "3  MSFT          0.023229\n",
            "4   SPY          0.019807\n",
            "5  TSLA          0.025313\n"
          ]
        }
      ]
    },
    {
      "cell_type": "markdown",
      "metadata": {
        "id": "VTuIqrkAWXVL"
      },
      "source": [
        "## Part 4: Estimate Risk\n",
        "\n",
        "Estimate the covariance matrix for the asset returns to understand how the assets move together."
      ]
    },
    {
      "cell_type": "code",
      "execution_count": 63,
      "metadata": {
        "id": "RFZfIkTMxcv7",
        "colab": {
          "base_uri": "https://localhost:8080/"
        },
        "outputId": "202b8416-818b-4612-d343-de4271fd0ae3"
      },
      "outputs": [
        {
          "output_type": "stream",
          "name": "stdout",
          "text": [
            "          AAPL       DIS      GOOG      MSFT       SPY      TSLA\n",
            "AAPL  0.003591 -0.000430  0.000736  0.000353  0.000785  0.003234\n",
            "DIS  -0.000430  0.009851  0.000572  0.003634  0.002477  0.005682\n",
            "GOOG  0.000736  0.000572  0.004830  0.001105  0.000747  0.004309\n",
            "MSFT  0.000353  0.003634  0.001105  0.004005  0.001450  0.002180\n",
            "SPY   0.000785  0.002477  0.000747  0.001450  0.001259  0.002339\n",
            "TSLA  0.003234  0.005682  0.004309  0.002180  0.002339  0.026703\n"
          ]
        }
      ],
      "source": [
        "# YOUR CHANGES HERE\n",
        "# 1. Read your returns file\n",
        "returns = pd.read_csv(\"historical_returns.tsv\", sep=\"\\t\")\n",
        "\n",
        "# 2. Set the date as index\n",
        "returns = returns.set_index(\"date\")\n",
        "\n",
        "# 3. Calculate the covariance matrix\n",
        "cov_matrix = returns.cov()\n",
        "\n",
        "# 4. Show the result\n",
        "print(cov_matrix)\n"
      ]
    },
    {
      "cell_type": "markdown",
      "metadata": {
        "id": "sOmn4s_yr5qn"
      },
      "source": [
        "Save the estimated covariances to a TSV file named \"estimated_covariance.tsv\".\n",
        "The header row should have a blank column name followed by the names of the assets.\n",
        "Each data row should start with the name of an asset for that row, and be followed by the individual covariances corresponding to that row and column's assets.\n",
        "(This is the format of pandas's `to_csv` method with `sep=\"\\t\"` when used on a covariance matrix as computed in the examples.)"
      ]
    },
    {
      "cell_type": "code",
      "execution_count": 64,
      "metadata": {
        "id": "Te-NPQxSvuXm",
        "colab": {
          "base_uri": "https://localhost:8080/"
        },
        "outputId": "81a9d773-0fee-41f3-e1cd-e20615ea0fff"
      },
      "outputs": [
        {
          "output_type": "stream",
          "name": "stdout",
          "text": [
            "Saved estimated_covariance.tsv\n"
          ]
        }
      ],
      "source": [
        "# YOUR CHANGES HERE\n",
        "\n",
        "# Read historical returns\n",
        "returns = pd.read_csv(\"historical_returns.tsv\", sep=\"\\t\", index_col=\"date\")\n",
        "\n",
        "# Calculate covariance matrix\n",
        "cov_matrix = returns.cov()\n",
        "\n",
        "# Save as TSV\n",
        "cov_matrix.to_csv(\"estimated_covariance.tsv\", sep=\"\\t\")\n",
        "\n",
        "print(\"Saved estimated_covariance.tsv\")"
      ]
    },
    {
      "cell_type": "code",
      "source": [
        "\n",
        "files.download(\"estimated_covariance.tsv\")\n"
      ],
      "metadata": {
        "colab": {
          "base_uri": "https://localhost:8080/",
          "height": 17
        },
        "id": "XVTGpcZLQTKi",
        "outputId": "db397066-3e61-4a12-f22a-de18ef902a07"
      },
      "execution_count": 83,
      "outputs": [
        {
          "output_type": "display_data",
          "data": {
            "text/plain": [
              "<IPython.core.display.Javascript object>"
            ],
            "application/javascript": [
              "\n",
              "    async function download(id, filename, size) {\n",
              "      if (!google.colab.kernel.accessAllowed) {\n",
              "        return;\n",
              "      }\n",
              "      const div = document.createElement('div');\n",
              "      const label = document.createElement('label');\n",
              "      label.textContent = `Downloading \"${filename}\": `;\n",
              "      div.appendChild(label);\n",
              "      const progress = document.createElement('progress');\n",
              "      progress.max = size;\n",
              "      div.appendChild(progress);\n",
              "      document.body.appendChild(div);\n",
              "\n",
              "      const buffers = [];\n",
              "      let downloaded = 0;\n",
              "\n",
              "      const channel = await google.colab.kernel.comms.open(id);\n",
              "      // Send a message to notify the kernel that we're ready.\n",
              "      channel.send({})\n",
              "\n",
              "      for await (const message of channel.messages) {\n",
              "        // Send a message to notify the kernel that we're ready.\n",
              "        channel.send({})\n",
              "        if (message.buffers) {\n",
              "          for (const buffer of message.buffers) {\n",
              "            buffers.push(buffer);\n",
              "            downloaded += buffer.byteLength;\n",
              "            progress.value = downloaded;\n",
              "          }\n",
              "        }\n",
              "      }\n",
              "      const blob = new Blob(buffers, {type: 'application/binary'});\n",
              "      const a = document.createElement('a');\n",
              "      a.href = window.URL.createObjectURL(blob);\n",
              "      a.download = filename;\n",
              "      div.appendChild(a);\n",
              "      a.click();\n",
              "      div.remove();\n",
              "    }\n",
              "  "
            ]
          },
          "metadata": {}
        },
        {
          "output_type": "display_data",
          "data": {
            "text/plain": [
              "<IPython.core.display.Javascript object>"
            ],
            "application/javascript": [
              "download(\"download_9a4c6cb2-9a2b-4332-8954-ae94d9a9ad24\", \"estimated_covariance.tsv\", 833)"
            ]
          },
          "metadata": {}
        }
      ]
    },
    {
      "cell_type": "markdown",
      "metadata": {
        "id": "lS9vek0btoK6"
      },
      "source": [
        "Submit \"estimated_covariance.tsv\" in Gradescope."
      ]
    },
    {
      "cell_type": "markdown",
      "metadata": {
        "id": "C8rC5Eo3sEme"
      },
      "source": [
        "## Part 5: Construct the Maximum Return Portfolio\n",
        "\n",
        "Compute the maximum return portfolio based on your previously estimated risks and returns."
      ]
    },
    {
      "cell_type": "code",
      "execution_count": 65,
      "metadata": {
        "id": "8LW0KKm-xb2I",
        "colab": {
          "base_uri": "https://localhost:8080/"
        },
        "outputId": "8ba1bffa-8408-4c5e-9f1b-b40c54386a20"
      },
      "outputs": [
        {
          "output_type": "stream",
          "name": "stdout",
          "text": [
            "Maximum return asset: TSLA\n",
            "Expected monthly return: 0.0253129037321271\n"
          ]
        }
      ],
      "source": [
        "# YOUR CHANGES HERE\n",
        "\n",
        "# Read your estimated returns\n",
        "df_returns = pd.read_csv(\"estimated_returns.tsv\", sep=\"\\t\")\n",
        "\n",
        "# Find the asset with the maximum return\n",
        "max_return_asset = df_returns.loc[df_returns['estimated_return'].idxmax()]\n",
        "\n",
        "print(\"Maximum return asset:\", max_return_asset['asset'])\n",
        "print(\"Expected monthly return:\", max_return_asset['estimated_return'])"
      ]
    },
    {
      "cell_type": "markdown",
      "metadata": {
        "id": "jjPOxui5sLTD"
      },
      "source": [
        "Save the maximum return portfolio in a TSV file named \"maximum_return.tsv\".\n",
        "The header row should have two columns, \"asset\" and \"allocation\".\n",
        "The allocation values should sum up to one.\n"
      ]
    },
    {
      "cell_type": "code",
      "execution_count": 66,
      "metadata": {
        "id": "xLl_j8z1vtiT",
        "colab": {
          "base_uri": "https://localhost:8080/"
        },
        "outputId": "2c31c830-5d73-4ba6-8d14-192a327089a3"
      },
      "outputs": [
        {
          "output_type": "stream",
          "name": "stdout",
          "text": [
            "Saved maximum_return.tsv\n"
          ]
        }
      ],
      "source": [
        "# YOUR CHANGES HERE\n",
        "# Find the asset with the maximum return\n",
        "max_asset = df_returns.loc[df_returns['estimated_return'].idxmax(), 'asset']\n",
        "\n",
        "# Create the portfolio allocations: 1 for the max asset, 0 for others\n",
        "df_allocation = pd.DataFrame({\n",
        "    'asset': df_returns['asset'],\n",
        "    'allocation': df_returns['asset'].apply(lambda x: 1.0 if x == max_asset else 0.0)\n",
        "})\n",
        "\n",
        "# Save to TSV\n",
        "df_allocation.to_csv(\"maximum_return.tsv\", sep=\"\\t\", index=False)\n",
        "\n",
        "print(\"Saved maximum_return.tsv\")\n"
      ]
    },
    {
      "cell_type": "code",
      "source": [
        "print(df_allocation.to_string())"
      ],
      "metadata": {
        "colab": {
          "base_uri": "https://localhost:8080/"
        },
        "id": "iHisxoZ78-Nd",
        "outputId": "add1d9f7-7fcf-48ee-e5e3-38234fbbdb63"
      },
      "execution_count": 67,
      "outputs": [
        {
          "output_type": "stream",
          "name": "stdout",
          "text": [
            "  asset  allocation\n",
            "0  AAPL         0.0\n",
            "1   DIS         0.0\n",
            "2  GOOG         0.0\n",
            "3  MSFT         0.0\n",
            "4   SPY         0.0\n",
            "5  TSLA         1.0\n"
          ]
        }
      ]
    },
    {
      "cell_type": "code",
      "source": [
        "files.download(\"maximum_return.tsv\")"
      ],
      "metadata": {
        "colab": {
          "base_uri": "https://localhost:8080/",
          "height": 17
        },
        "id": "ybzZ42XBQcw1",
        "outputId": "bf4da872-e63b-4ed4-c0be-8e85b90b975f"
      },
      "execution_count": 84,
      "outputs": [
        {
          "output_type": "display_data",
          "data": {
            "text/plain": [
              "<IPython.core.display.Javascript object>"
            ],
            "application/javascript": [
              "\n",
              "    async function download(id, filename, size) {\n",
              "      if (!google.colab.kernel.accessAllowed) {\n",
              "        return;\n",
              "      }\n",
              "      const div = document.createElement('div');\n",
              "      const label = document.createElement('label');\n",
              "      label.textContent = `Downloading \"${filename}\": `;\n",
              "      div.appendChild(label);\n",
              "      const progress = document.createElement('progress');\n",
              "      progress.max = size;\n",
              "      div.appendChild(progress);\n",
              "      document.body.appendChild(div);\n",
              "\n",
              "      const buffers = [];\n",
              "      let downloaded = 0;\n",
              "\n",
              "      const channel = await google.colab.kernel.comms.open(id);\n",
              "      // Send a message to notify the kernel that we're ready.\n",
              "      channel.send({})\n",
              "\n",
              "      for await (const message of channel.messages) {\n",
              "        // Send a message to notify the kernel that we're ready.\n",
              "        channel.send({})\n",
              "        if (message.buffers) {\n",
              "          for (const buffer of message.buffers) {\n",
              "            buffers.push(buffer);\n",
              "            downloaded += buffer.byteLength;\n",
              "            progress.value = downloaded;\n",
              "          }\n",
              "        }\n",
              "      }\n",
              "      const blob = new Blob(buffers, {type: 'application/binary'});\n",
              "      const a = document.createElement('a');\n",
              "      a.href = window.URL.createObjectURL(blob);\n",
              "      a.download = filename;\n",
              "      div.appendChild(a);\n",
              "      a.click();\n",
              "      div.remove();\n",
              "    }\n",
              "  "
            ]
          },
          "metadata": {}
        },
        {
          "output_type": "display_data",
          "data": {
            "text/plain": [
              "<IPython.core.display.Javascript object>"
            ],
            "application/javascript": [
              "download(\"download_03a64393-468d-4a42-947b-497800243ca8\", \"maximum_return.tsv\", 69)"
            ]
          },
          "metadata": {}
        }
      ]
    },
    {
      "cell_type": "markdown",
      "metadata": {
        "id": "4bm3xrxptqJ2"
      },
      "source": [
        "Submit \"maximum_return.tsv\" in Gradescope."
      ]
    },
    {
      "cell_type": "markdown",
      "metadata": {
        "id": "r_QxQ5NpsL-c"
      },
      "source": [
        "## Part 6: Construct the Minimum Risk Portfolio\n",
        "\n",
        "Compute the minimum return portfolio based on your previously estimated risks and returns."
      ]
    },
    {
      "cell_type": "code",
      "execution_count": 68,
      "metadata": {
        "id": "daHSqhv9xbIF",
        "colab": {
          "base_uri": "https://localhost:8080/"
        },
        "outputId": "77669573-8c0d-4fc5-fba3-3a20bd6b7508"
      },
      "outputs": [
        {
          "output_type": "stream",
          "name": "stdout",
          "text": [
            "Saved minimum_risk.tsv\n",
            "  asset  allocation\n",
            "0  AAPL    0.242673\n",
            "1   DIS    0.000000\n",
            "2  GOOG    0.039343\n",
            "3  MSFT    0.121026\n",
            "4   SPY    0.596957\n",
            "5  TSLA    0.000000\n"
          ]
        }
      ],
      "source": [
        "# YOUR CHANGES HERE\n",
        "import numpy as np\n",
        "from scipy.optimize import minimize\n",
        "\n",
        "# Read historical returns\n",
        "returns = pd.read_csv(\"historical_returns.tsv\", sep=\"\\t\", index_col=\"date\")\n",
        "\n",
        "# Calculate covariance matrix\n",
        "cov_matrix = returns.cov()\n",
        "\n",
        "# Number of assets\n",
        "n_assets = len(cov_matrix)\n",
        "\n",
        "# Function to compute portfolio variance\n",
        "def portfolio_variance(weights, cov_matrix):\n",
        "    return weights.T @ cov_matrix.values @ weights\n",
        "\n",
        "# Constraints: sum of weights = 1\n",
        "constraints = ({'type': 'eq', 'fun': lambda w: np.sum(w) - 1})\n",
        "\n",
        "# Bounds for weights: between 0 and 1\n",
        "bounds = tuple((0, 1) for _ in range(n_assets))\n",
        "\n",
        "# Initial guess (equal allocation)\n",
        "init_guess = np.array([1/n_assets] * n_assets)\n",
        "\n",
        "# Minimize variance\n",
        "result = minimize(portfolio_variance, init_guess,\n",
        "                  args=(cov_matrix,), method='SLSQP',\n",
        "                  bounds=bounds, constraints=constraints)\n",
        "\n",
        "# Get the optimal weights\n",
        "min_risk_weights = result.x\n",
        "\n",
        "# Save as DataFrame\n",
        "df_min_risk = pd.DataFrame({\n",
        "    'asset': cov_matrix.columns,\n",
        "    'allocation': min_risk_weights\n",
        "})\n",
        "\n",
        "# Save to TSV\n",
        "df_min_risk.to_csv(\"minimum_risk.tsv\", sep=\"\\t\", index=False)\n",
        "\n",
        "print(\"Saved minimum_risk.tsv\")\n",
        "print(df_min_risk)"
      ]
    },
    {
      "cell_type": "markdown",
      "metadata": {
        "id": "wzldkIPxsQor"
      },
      "source": [
        "Save the minimum risk portfolio in a TSV file named \"minimum_risk.tsv\".\n",
        "The header row should have two columns, \"asset\" and \"allocation\".\n",
        "The allocation values should sum up to one.\n"
      ]
    },
    {
      "cell_type": "code",
      "execution_count": 69,
      "metadata": {
        "id": "YRXccAflvrBZ",
        "colab": {
          "base_uri": "https://localhost:8080/"
        },
        "outputId": "0f654f00-1503-40c2-cf00-7bd976436ddc"
      },
      "outputs": [
        {
          "output_type": "stream",
          "name": "stdout",
          "text": [
            "Saved minimum_risk.tsv\n",
            "  asset  allocation\n",
            "0  AAPL    0.242673\n",
            "1   DIS    0.000000\n",
            "2  GOOG    0.039343\n",
            "3  MSFT    0.121026\n",
            "4   SPY    0.596957\n",
            "5  TSLA    0.000000\n"
          ]
        }
      ],
      "source": [
        "# YOUR CHANGES HERE\n",
        "\n",
        "# List of asset names (same order as your covariance matrix)\n",
        "assets = cov_matrix.columns\n",
        "\n",
        "# Create a DataFrame with asset names and allocations\n",
        "df_min_risk = pd.DataFrame({\n",
        "    'asset': assets,\n",
        "    'allocation': min_risk_weights\n",
        "})\n",
        "\n",
        "# Save the DataFrame to a TSV file\n",
        "df_min_risk.to_csv(\"minimum_risk.tsv\", sep=\"\\t\", index=False)\n",
        "\n",
        "print(\"Saved minimum_risk.tsv\")\n",
        "print(df_min_risk)"
      ]
    },
    {
      "cell_type": "code",
      "source": [
        "files.download(\"minimum_risk.tsv\")"
      ],
      "metadata": {
        "colab": {
          "base_uri": "https://localhost:8080/",
          "height": 17
        },
        "id": "OUh5hDi5Qmqk",
        "outputId": "f1727da5-b07b-4b89-ab00-22cba1eb211c"
      },
      "execution_count": 85,
      "outputs": [
        {
          "output_type": "display_data",
          "data": {
            "text/plain": [
              "<IPython.core.display.Javascript object>"
            ],
            "application/javascript": [
              "\n",
              "    async function download(id, filename, size) {\n",
              "      if (!google.colab.kernel.accessAllowed) {\n",
              "        return;\n",
              "      }\n",
              "      const div = document.createElement('div');\n",
              "      const label = document.createElement('label');\n",
              "      label.textContent = `Downloading \"${filename}\": `;\n",
              "      div.appendChild(label);\n",
              "      const progress = document.createElement('progress');\n",
              "      progress.max = size;\n",
              "      div.appendChild(progress);\n",
              "      document.body.appendChild(div);\n",
              "\n",
              "      const buffers = [];\n",
              "      let downloaded = 0;\n",
              "\n",
              "      const channel = await google.colab.kernel.comms.open(id);\n",
              "      // Send a message to notify the kernel that we're ready.\n",
              "      channel.send({})\n",
              "\n",
              "      for await (const message of channel.messages) {\n",
              "        // Send a message to notify the kernel that we're ready.\n",
              "        channel.send({})\n",
              "        if (message.buffers) {\n",
              "          for (const buffer of message.buffers) {\n",
              "            buffers.push(buffer);\n",
              "            downloaded += buffer.byteLength;\n",
              "            progress.value = downloaded;\n",
              "          }\n",
              "        }\n",
              "      }\n",
              "      const blob = new Blob(buffers, {type: 'application/binary'});\n",
              "      const a = document.createElement('a');\n",
              "      a.href = window.URL.createObjectURL(blob);\n",
              "      a.download = filename;\n",
              "      div.appendChild(a);\n",
              "      a.click();\n",
              "      div.remove();\n",
              "    }\n",
              "  "
            ]
          },
          "metadata": {}
        },
        {
          "output_type": "display_data",
          "data": {
            "text/plain": [
              "<IPython.core.display.Javascript object>"
            ],
            "application/javascript": [
              "download(\"download_a7967486-271d-4308-bed4-6220d2c744d8\", \"minimum_risk.tsv\", 131)"
            ]
          },
          "metadata": {}
        }
      ]
    },
    {
      "cell_type": "markdown",
      "metadata": {
        "id": "P5gy_XETtsoi"
      },
      "source": [
        "Submit \"minimum_risk.tsv\" in Gradescope."
      ]
    },
    {
      "cell_type": "markdown",
      "metadata": {
        "id": "mzyJGWDvWhva"
      },
      "source": [
        "## Part 7: Build Efficient Frontier Portfolios\n",
        "\n",
        "Compute 101 portfolios along the mean-variance efficient frontier with evenly spaced estimated returns.\n",
        "The first portfolio should be the minimum risk portfolio from part 4, and the last portfolio should be the maximum return portfolio from part 3.\n",
        "The estimated return of each portfolio should be higher than the previous by one percent of the difference between the first and last portfolios.\n",
        "That is, the estimated return of the portfolios should be similar to `np.linspace(min_risk_return, max_return, 101)`.\n"
      ]
    },
    {
      "cell_type": "code",
      "source": [
        "import pandas as pd\n",
        "max_return_df = pd.read_csv(\"maximum_return.tsv\", sep=\"\\t\")\n",
        "max_return_weights = max_return_df['allocation'].values\n"
      ],
      "metadata": {
        "id": "hus7xJxJVFXJ"
      },
      "execution_count": 70,
      "outputs": []
    },
    {
      "cell_type": "code",
      "source": [
        "min_risk_df = pd.read_csv(\"minimum_risk.tsv\", sep=\"\\t\")\n",
        "min_risk_weights = min_risk_df['allocation'].values\n"
      ],
      "metadata": {
        "id": "1Tcz_7seVLGY"
      },
      "execution_count": 71,
      "outputs": []
    },
    {
      "cell_type": "code",
      "source": [
        "expected_returns = pd.read_csv(\"estimated_returns.tsv\", sep=\"\\t\")\n",
        "expected_returns = expected_returns.set_index(\"asset\")['estimated_return']\n"
      ],
      "metadata": {
        "id": "b92aB3ucVQQb"
      },
      "execution_count": 72,
      "outputs": []
    },
    {
      "cell_type": "code",
      "source": [
        "cov_matrix = pd.read_csv(\"estimated_covariance.tsv\", sep=\"\\t\", index_col=0)\n"
      ],
      "metadata": {
        "id": "37HBUKeXVR3K"
      },
      "execution_count": 73,
      "outputs": []
    },
    {
      "cell_type": "code",
      "source": [
        "min_risk_return = np.dot(min_risk_weights, expected_returns.values)\n",
        "max_return = np.dot(max_return_weights, expected_returns.values)\n",
        "\n",
        "print(\"Minimum risk portfolio return:\", min_risk_return)\n",
        "print(\"Maximum return portfolio return:\", max_return)"
      ],
      "metadata": {
        "colab": {
          "base_uri": "https://localhost:8080/"
        },
        "id": "ldNYUMvOVW0I",
        "outputId": "0796733a-0322-43be-febb-22a0433c7be1"
      },
      "execution_count": 74,
      "outputs": [
        {
          "output_type": "stream",
          "name": "stdout",
          "text": [
            "Minimum risk portfolio return: 0.01930372861057142\n",
            "Maximum return portfolio return: 0.0253129037321271\n"
          ]
        }
      ]
    },
    {
      "cell_type": "code",
      "source": [
        "target_returns = np.linspace(min_risk_return, max_return, 101)\n"
      ],
      "metadata": {
        "id": "fV7S8tccVaRI"
      },
      "execution_count": 75,
      "outputs": []
    },
    {
      "cell_type": "code",
      "source": [
        "efficient_weights = []\n",
        "\n",
        "for r in target_returns:\n",
        "    # alpha goes from 0 (min risk) to 1 (max return)\n",
        "    alpha = (r - min_risk_return) / (max_return - min_risk_return)\n",
        "    weights = (1 - alpha) * min_risk_weights + alpha * max_return_weights\n",
        "    efficient_weights.append(weights)\n",
        "\n",
        "efficient_weights = np.array(efficient_weights)  # 101 x 6 array\n"
      ],
      "metadata": {
        "id": "jCbpW-qFVoPh"
      },
      "execution_count": 76,
      "outputs": []
    },
    {
      "cell_type": "markdown",
      "metadata": {
        "id": "8e3WwTJvsDzh"
      },
      "source": [
        "Save the portfolios in a TSV file named \"efficient_frontier.tsv\".\n",
        "The header row should have columns \"index\", \"return\", \"risk\", and all the asset tickers.\n",
        "Each data row should have the portfolio index (0-100), the estimated return of the portfolio, the estimated standard deviation (not variance) of the portfolio, and all the asset allocations (which should sum to one)."
      ]
    },
    {
      "cell_type": "code",
      "execution_count": 77,
      "metadata": {
        "id": "e9DKadyNvniT",
        "colab": {
          "base_uri": "https://localhost:8080/"
        },
        "outputId": "057515d1-1ed1-481f-dd7e-6e2abbe7bd03"
      },
      "outputs": [
        {
          "output_type": "stream",
          "name": "stdout",
          "text": [
            "Saved efficient_frontier.tsv\n"
          ]
        },
        {
          "output_type": "execute_result",
          "data": {
            "text/plain": [
              "Ellipsis"
            ]
          },
          "metadata": {},
          "execution_count": 77
        }
      ],
      "source": [
        "# YOUR CHANGES HERE\n",
        "\n",
        "# ------------------------------\n",
        "# 1️⃣ Read the previously saved files\n",
        "# ------------------------------\n",
        "# Estimated returns\n",
        "df_returns = pd.read_csv(\"estimated_returns.tsv\", sep=\"\\t\")\n",
        "assets = df_returns['asset'].tolist()\n",
        "expected_returns = df_returns['estimated_return'].values  # array\n",
        "\n",
        "# Estimated covariance matrix\n",
        "cov_matrix = pd.read_csv(\"estimated_covariance.tsv\", sep=\"\\t\", index_col=0)\n",
        "cov_matrix = cov_matrix[assets]  # Ensure order matches\n",
        "\n",
        "# ------------------------------\n",
        "# 2️⃣ Construct maximum return and minimum risk portfolios\n",
        "# ------------------------------\n",
        "# Maximum return portfolio: invest 100% in asset with max return\n",
        "max_idx = df_returns['estimated_return'].idxmax()\n",
        "max_return_weights = np.array([1.0 if i == max_idx else 0.0 for i in range(len(assets))])\n",
        "\n",
        "# Minimum risk portfolio: invest 100% in asset with lowest variance (diagonal of covariance)\n",
        "min_idx = np.argmin(np.diag(cov_matrix.values))\n",
        "min_risk_weights = np.array([1.0 if i == min_idx else 0.0 for i in range(len(assets))])\n",
        "\n",
        "# ------------------------------\n",
        "# 3️⃣ Compute min and max portfolio returns\n",
        "# ------------------------------\n",
        "min_risk_return = np.dot(min_risk_weights, expected_returns)\n",
        "max_return = np.dot(max_return_weights, expected_returns)\n",
        "\n",
        "# ------------------------------\n",
        "# 4️⃣ Generate 101 portfolios along the efficient frontier\n",
        "# ------------------------------\n",
        "target_returns = np.linspace(min_risk_return, max_return, 101)\n",
        "efficient_weights = []\n",
        "\n",
        "for r in target_returns:\n",
        "    alpha = (r - min_risk_return) / (max_return - min_risk_return)\n",
        "    weights = (1 - alpha) * min_risk_weights + alpha * max_return_weights\n",
        "    efficient_weights.append(weights)\n",
        "\n",
        "efficient_weights = np.array(efficient_weights)\n",
        "\n",
        "# ------------------------------\n",
        "# 5️⃣ Compute portfolio risk (standard deviation)\n",
        "# ------------------------------\n",
        "portfolio_risks = []\n",
        "for w in efficient_weights:\n",
        "    risk = np.sqrt(np.dot(w.T, np.dot(cov_matrix.values, w)))\n",
        "    portfolio_risks.append(risk)\n",
        "\n",
        "portfolio_risks = np.array(portfolio_risks)\n",
        "\n",
        "# ------------------------------\n",
        "# 6️⃣ Create DataFrame and save to TSV\n",
        "# ------------------------------\n",
        "ef_df = pd.DataFrame(efficient_weights, columns=assets)\n",
        "ef_df.insert(0, \"risk\", portfolio_risks)\n",
        "ef_df.insert(0, \"return\", target_returns)\n",
        "ef_df.insert(0, \"index\", range(101))  # 0–100 portfolio index\n",
        "\n",
        "# Save to TSV\n",
        "ef_df.to_csv(\"efficient_frontier.tsv\", sep=\"\\t\", index=False)\n",
        "print(\"Saved efficient_frontier.tsv\")\n",
        "..."
      ]
    },
    {
      "cell_type": "code",
      "source": [
        "files.download(\"efficient_frontier.tsv\")"
      ],
      "metadata": {
        "colab": {
          "base_uri": "https://localhost:8080/",
          "height": 17
        },
        "id": "owxMm06GQ4pH",
        "outputId": "e9c8c5e0-9339-47d9-b3f7-5cc5dc303701"
      },
      "execution_count": 86,
      "outputs": [
        {
          "output_type": "display_data",
          "data": {
            "text/plain": [
              "<IPython.core.display.Javascript object>"
            ],
            "application/javascript": [
              "\n",
              "    async function download(id, filename, size) {\n",
              "      if (!google.colab.kernel.accessAllowed) {\n",
              "        return;\n",
              "      }\n",
              "      const div = document.createElement('div');\n",
              "      const label = document.createElement('label');\n",
              "      label.textContent = `Downloading \"${filename}\": `;\n",
              "      div.appendChild(label);\n",
              "      const progress = document.createElement('progress');\n",
              "      progress.max = size;\n",
              "      div.appendChild(progress);\n",
              "      document.body.appendChild(div);\n",
              "\n",
              "      const buffers = [];\n",
              "      let downloaded = 0;\n",
              "\n",
              "      const channel = await google.colab.kernel.comms.open(id);\n",
              "      // Send a message to notify the kernel that we're ready.\n",
              "      channel.send({})\n",
              "\n",
              "      for await (const message of channel.messages) {\n",
              "        // Send a message to notify the kernel that we're ready.\n",
              "        channel.send({})\n",
              "        if (message.buffers) {\n",
              "          for (const buffer of message.buffers) {\n",
              "            buffers.push(buffer);\n",
              "            downloaded += buffer.byteLength;\n",
              "            progress.value = downloaded;\n",
              "          }\n",
              "        }\n",
              "      }\n",
              "      const blob = new Blob(buffers, {type: 'application/binary'});\n",
              "      const a = document.createElement('a');\n",
              "      a.href = window.URL.createObjectURL(blob);\n",
              "      a.download = filename;\n",
              "      div.appendChild(a);\n",
              "      a.click();\n",
              "      div.remove();\n",
              "    }\n",
              "  "
            ]
          },
          "metadata": {}
        },
        {
          "output_type": "display_data",
          "data": {
            "text/plain": [
              "<IPython.core.display.Javascript object>"
            ],
            "application/javascript": [
              "download(\"download_e6c2f12d-71a6-4192-a217-c213f962284c\", \"efficient_frontier.tsv\", 9513)"
            ]
          },
          "metadata": {}
        }
      ]
    },
    {
      "cell_type": "markdown",
      "metadata": {
        "id": "jiOa06rItvbs"
      },
      "source": [
        "Submit \"efficient_frontier.tsv\" in Gradescope."
      ]
    },
    {
      "cell_type": "markdown",
      "metadata": {
        "id": "LoW0XBXAzzR6"
      },
      "source": [
        "## Part 8: Check Maximum Return Portfolio Stability\n",
        "\n",
        "Check the stability of the maximum return portfolio by resampling the estimated risk/return model.\n",
        "\n",
        "Repeat 1000 times -\n",
        "1. Use `np.random.multivariate_normal` to generate 23 return samples using your previously estimated risks and returns.\n",
        "2. Estimate the return of each asset using that resampled return history.\n",
        "3. Check which asset had the highest return in those resampled estimates.\n",
        "\n",
        "This procedure is a reduced and simplified version of the Michaud resampled efficient frontier procedure that takes uncertainty in the risk model into account."
      ]
    },
    {
      "cell_type": "code",
      "execution_count": 78,
      "metadata": {
        "id": "Xfke5V57xYvT",
        "colab": {
          "base_uri": "https://localhost:8080/"
        },
        "outputId": "c84f6400-8f45-4756-be76-afb0a216fa39"
      },
      "outputs": [
        {
          "output_type": "stream",
          "name": "stdout",
          "text": [
            "Maximum return asset frequency over 1000 resamples:\n",
            "AAPL: 77 times\n",
            "DIS: 195 times\n",
            "GOOG: 211 times\n",
            "MSFT: 150 times\n",
            "SPY: 12 times\n",
            "TSLA: 355 times\n"
          ]
        }
      ],
      "source": [
        "# YOUR CHANGES HERE\n",
        "\n",
        "# Set up simulation\n",
        "num_simulations = 1000\n",
        "num_months = 23\n",
        "max_return_counts = {asset: 0 for asset in assets}\n",
        "\n",
        "# Run simulations\n",
        "for i in range(num_simulations):\n",
        "    # Generate 23 samples of returns for all assets\n",
        "    simulated_returns = np.random.multivariate_normal(mean=expected_returns,\n",
        "                                                      cov=cov_matrix.values,\n",
        "                                                      size=num_months)\n",
        "\n",
        "    # Compute average return of each asset in this simulation\n",
        "    avg_returns = simulated_returns.mean(axis=0)\n",
        "\n",
        "    # Find which asset had maximum return\n",
        "    max_idx = np.argmax(avg_returns)\n",
        "    max_return_counts[assets[max_idx]] += 1\n",
        "\n",
        "# Show results\n",
        "print(\"Maximum return asset frequency over 1000 resamples:\")\n",
        "for asset, count in max_return_counts.items():\n",
        "    print(f\"{asset}: {count} times\")\n"
      ]
    },
    {
      "cell_type": "markdown",
      "metadata": {
        "id": "fes_ScDyz0jp"
      },
      "source": [
        "Save a file \"max_return_probabilities.tsv\" with the distribution of highest return assets.\n",
        "The header row should have columns \"asset\" and \"probability\".\n",
        "There should be a data row for each asset and its sample probability of having the highest return based on those 1000 resampled estimates.\n"
      ]
    },
    {
      "cell_type": "code",
      "execution_count": 79,
      "metadata": {
        "id": "ZAjr15ASvj1S",
        "colab": {
          "base_uri": "https://localhost:8080/"
        },
        "outputId": "87209e22-00b4-4b2b-e1c9-8dd67898f15b"
      },
      "outputs": [
        {
          "output_type": "stream",
          "name": "stdout",
          "text": [
            "Saved max_return_probabilities.tsv\n"
          ]
        }
      ],
      "source": [
        "# YOUR CHANGES HERE\n",
        "# Convert counts to probabilities\n",
        "total_simulations = num_simulations\n",
        "results = []\n",
        "\n",
        "for asset, count in max_return_counts.items():\n",
        "    prob = count / total_simulations\n",
        "    results.append({'asset': asset, 'probability': prob})\n",
        "\n",
        "# Create DataFrame\n",
        "df_probabilities = pd.DataFrame(results)\n",
        "\n",
        "# Save to TSV\n",
        "df_probabilities.to_csv(\"max_return_probabilities.tsv\", sep=\"\\t\", index=False)\n",
        "\n",
        "print(\"Saved max_return_probabilities.tsv\")\n",
        "\n"
      ]
    },
    {
      "cell_type": "code",
      "source": [
        "files.download(\"max_return_probabilities.tsv\")"
      ],
      "metadata": {
        "colab": {
          "base_uri": "https://localhost:8080/",
          "height": 17
        },
        "id": "kWZTd7hzRAzU",
        "outputId": "e01152b5-15e9-445c-fabd-af23a08c0e61"
      },
      "execution_count": 87,
      "outputs": [
        {
          "output_type": "display_data",
          "data": {
            "text/plain": [
              "<IPython.core.display.Javascript object>"
            ],
            "application/javascript": [
              "\n",
              "    async function download(id, filename, size) {\n",
              "      if (!google.colab.kernel.accessAllowed) {\n",
              "        return;\n",
              "      }\n",
              "      const div = document.createElement('div');\n",
              "      const label = document.createElement('label');\n",
              "      label.textContent = `Downloading \"${filename}\": `;\n",
              "      div.appendChild(label);\n",
              "      const progress = document.createElement('progress');\n",
              "      progress.max = size;\n",
              "      div.appendChild(progress);\n",
              "      document.body.appendChild(div);\n",
              "\n",
              "      const buffers = [];\n",
              "      let downloaded = 0;\n",
              "\n",
              "      const channel = await google.colab.kernel.comms.open(id);\n",
              "      // Send a message to notify the kernel that we're ready.\n",
              "      channel.send({})\n",
              "\n",
              "      for await (const message of channel.messages) {\n",
              "        // Send a message to notify the kernel that we're ready.\n",
              "        channel.send({})\n",
              "        if (message.buffers) {\n",
              "          for (const buffer of message.buffers) {\n",
              "            buffers.push(buffer);\n",
              "            downloaded += buffer.byteLength;\n",
              "            progress.value = downloaded;\n",
              "          }\n",
              "        }\n",
              "      }\n",
              "      const blob = new Blob(buffers, {type: 'application/binary'});\n",
              "      const a = document.createElement('a');\n",
              "      a.href = window.URL.createObjectURL(blob);\n",
              "      a.download = filename;\n",
              "      div.appendChild(a);\n",
              "      a.click();\n",
              "      div.remove();\n",
              "    }\n",
              "  "
            ]
          },
          "metadata": {}
        },
        {
          "output_type": "display_data",
          "data": {
            "text/plain": [
              "<IPython.core.display.Javascript object>"
            ],
            "application/javascript": [
              "download(\"download_4138fb43-9c16-433e-9f84-c5a578522f13\", \"max_return_probabilities.tsv\", 81)"
            ]
          },
          "metadata": {}
        }
      ]
    },
    {
      "cell_type": "markdown",
      "metadata": {
        "id": "2Xd34FQ6txoj"
      },
      "source": [
        "Submit \"max_return_probabilities.tsv\" in Gradescope."
      ]
    },
    {
      "cell_type": "markdown",
      "metadata": {
        "id": "SYbJ21qUYvL_"
      },
      "source": [
        "## Part 9: Acknowledgments\n",
        "\n",
        "Make a file \"acknowledgments.txt\" documenting any outside sources or help on this project.\n",
        "If you discussed this assignment with anyone, please acknowledge them here.\n",
        "If you used any libraries not mentioned in this module's content, please list them with a brief explanation what you used them for.\n",
        "If you used any generative AI tools, please add links to your transcripts below, and any other information that you feel is necessary to comply with the generative AI policy.\n",
        "If no acknowledgements are appropriate, just write none in the file.\n"
      ]
    },
    {
      "cell_type": "markdown",
      "metadata": {
        "id": "H3oWYYHlt42V"
      },
      "source": [
        "Submit \"acknowledgements.txt\" in Gradescope."
      ]
    },
    {
      "cell_type": "markdown",
      "metadata": {
        "id": "b8FWiTjvwscA"
      },
      "source": [
        "## Part 10: Code\n",
        "\n",
        "Please submit a Jupyter notebook that can reproduce all your calculations and recreate the previously submitted files.\n",
        "You do not need to provide code for data collection if you did that by manually."
      ]
    },
    {
      "cell_type": "markdown",
      "metadata": {
        "id": "HDEYI-K8vcUW"
      },
      "source": [
        "Submit \"project.ipynb\" in Gradescope."
      ]
    }
  ],
  "metadata": {
    "colab": {
      "provenance": []
    },
    "kernelspec": {
      "display_name": "Python 3",
      "name": "python3"
    },
    "language_info": {
      "codemirror_mode": {
        "name": "ipython",
        "version": 3
      },
      "file_extension": ".py",
      "mimetype": "text/x-python",
      "name": "python",
      "nbconvert_exporter": "python",
      "pygments_lexer": "ipython3",
      "version": "3.9.6"
    }
  },
  "nbformat": 4,
  "nbformat_minor": 0
}